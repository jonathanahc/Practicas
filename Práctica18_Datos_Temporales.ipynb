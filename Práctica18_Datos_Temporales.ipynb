{
  "nbformat": 4,
  "nbformat_minor": 0,
  "metadata": {
    "colab": {
      "provenance": [],
      "mount_file_id": "1aZmycrz6nmF-_zuV2vrbSmcdX4uOMDS3",
      "authorship_tag": "ABX9TyM6mSye1zYOYSRQ4AUmj2AY",
      "include_colab_link": true
    },
    "kernelspec": {
      "name": "python3",
      "display_name": "Python 3"
    },
    "language_info": {
      "name": "python"
    }
  },
  "cells": [
    {
      "cell_type": "markdown",
      "metadata": {
        "id": "view-in-github",
        "colab_type": "text"
      },
      "source": [
        "<a href=\"https://colab.research.google.com/github/jonathanahc/Practicas/blob/main/Pr%C3%A1ctica18_Datos_Temporales.ipynb\" target=\"_parent\"><img src=\"https://colab.research.google.com/assets/colab-badge.svg\" alt=\"Open In Colab\"/></a>"
      ]
    },
    {
      "cell_type": "code",
      "execution_count": null,
      "metadata": {
        "id": "tdBwHDEs1O53"
      },
      "outputs": [],
      "source": [
        "from google.colab import drive\n",
        "drive.mount('/content/drive')\n",
        "\n",
        "import pandas as pd"
      ]
    },
    {
      "cell_type": "markdown",
      "source": [
        "# **Ejercicio 01:Tipo de Datos Correcto**"
      ],
      "metadata": {
        "id": "qpRHwclG2j-C"
      }
    },
    {
      "cell_type": "markdown",
      "source": [
        "**Carga el conjunto de datos airdata.csv y verifica que cada columna tenga el tipo de datos correcto**"
      ],
      "metadata": {
        "id": "NS52Qlvx27yQ"
      }
    },
    {
      "cell_type": "code",
      "source": [
        "df = pd.read_csv('/content/drive/MyDrive/Unidad02/Airdata.csv')\n",
        "\n",
        "df.head()"
      ],
      "metadata": {
        "id": "aKdvtj_i3CkH"
      },
      "execution_count": null,
      "outputs": []
    },
    {
      "cell_type": "code",
      "source": [
        "df.dtypes"
      ],
      "metadata": {
        "id": "_kn9gEvt3tNG"
      },
      "execution_count": null,
      "outputs": []
    },
    {
      "cell_type": "markdown",
      "source": [
        "**Si una columna de tipo temporal no está en el tipo de correcto realiza la conversión**"
      ],
      "metadata": {
        "id": "-1Ky0mQk5wAb"
      }
    },
    {
      "cell_type": "code",
      "source": [
        "df['DateTime'] = pd.to_datetime(df['DateTime'])"
      ],
      "metadata": {
        "id": "88c37KQ150M4"
      },
      "execution_count": null,
      "outputs": []
    },
    {
      "cell_type": "markdown",
      "source": [
        "**Usa dtypes para mostrar que cada columna, principalmente la que contiene datos temporales, está en el tipo de datos correcto**\n"
      ],
      "metadata": {
        "id": "I1FnZ_Yy6fJZ"
      }
    },
    {
      "cell_type": "code",
      "source": [
        "df.dtypes"
      ],
      "metadata": {
        "id": "YW5PvOdN6f7L"
      },
      "execution_count": null,
      "outputs": []
    },
    {
      "cell_type": "markdown",
      "source": [
        "**Imprime las primeras tres líneas**"
      ],
      "metadata": {
        "id": "XDDriUr46ouI"
      }
    },
    {
      "cell_type": "code",
      "source": [
        "df.head(3)"
      ],
      "metadata": {
        "id": "unI-lSGP6rjI"
      },
      "execution_count": null,
      "outputs": []
    },
    {
      "cell_type": "markdown",
      "source": [
        "# **Ejercicio 02: Extraer componentes de fecha y tiempo**"
      ],
      "metadata": {
        "id": "GKHK8dL87tXk"
      }
    },
    {
      "cell_type": "markdown",
      "source": [
        "**De la columna 'DateTime' extrae el año, mes, día y hora. Crea una nueva columna para cada componente que extraes**\n"
      ],
      "metadata": {
        "id": "yZ2uv7in70Vm"
      }
    },
    {
      "cell_type": "code",
      "source": [
        "df['Year'] = df['DateTime'].dt.year\n",
        "df['Month'] = df['DateTime'].dt.month\n",
        "df['Day'] = df['DateTime'].dt.day\n",
        "df['Hour'] = df['DateTime'].dt.hour"
      ],
      "metadata": {
        "id": "r-GW7cTl8jJc"
      },
      "execution_count": null,
      "outputs": []
    },
    {
      "cell_type": "markdown",
      "source": [
        "**Imprime las primeras tres líneas del dataframe que ahora deberá tener 4 nuevas columnas**"
      ],
      "metadata": {
        "id": "MQZDYFey-aoF"
      }
    },
    {
      "cell_type": "code",
      "source": [
        "df.head(3)"
      ],
      "metadata": {
        "id": "1dRRDR6Z-dJp"
      },
      "execution_count": null,
      "outputs": []
    },
    {
      "cell_type": "markdown",
      "source": [
        "# **Ejercicio 03: Aritmética - Suma de Intervalos (timedelta)**"
      ],
      "metadata": {
        "id": "Xe3QPvre-6va"
      }
    },
    {
      "cell_type": "markdown",
      "source": [
        "**Suma 10 días, 7 horas y 15 minutos a cada elemento de la columna 'DateTime'. Guarda el resultado en una nueva columna y agrega al dataframe**"
      ],
      "metadata": {
        "id": "rThUMcwS_AQ8"
      }
    },
    {
      "cell_type": "code",
      "source": [
        "df['DateTimeNew'] = df['DateTime'] + pd.Timedelta(days=10, hours=7, minutes=15)\n"
      ],
      "metadata": {
        "id": "OpE5qGOX_D9M"
      },
      "execution_count": null,
      "outputs": []
    },
    {
      "cell_type": "markdown",
      "source": [
        "**Imprime la columna 'DateTime' y la columna que resulta de sumar 10 días, 7 horas y 15 minutos**"
      ],
      "metadata": {
        "id": "ZNITRfZE_r5o"
      }
    },
    {
      "cell_type": "code",
      "source": [
        "df[['DateTime', 'DateTimeNew']]"
      ],
      "metadata": {
        "id": "_gqpigXS_0_L"
      },
      "execution_count": null,
      "outputs": []
    },
    {
      "cell_type": "markdown",
      "source": [
        "# **Ejercicio 04: Timestamp**"
      ],
      "metadata": {
        "id": "QMRjjsa_AfXH"
      }
    },
    {
      "cell_type": "markdown",
      "source": [
        "**Convierte la columna 'DateTime' la cual tiene un formato de fecha legible a a timestamp Unix. Guarda el resultado en una nueva columna**\n"
      ],
      "metadata": {
        "id": "HoVoDRUcAkhY"
      }
    },
    {
      "cell_type": "code",
      "source": [
        "df['TimestampUnix'] = (df['DateTime'] - pd.Timestamp(\"1970-01-01\")) // pd.Timedelta('1s')"
      ],
      "metadata": {
        "id": "6a_cGXJuCA9G"
      },
      "execution_count": null,
      "outputs": []
    },
    {
      "cell_type": "markdown",
      "source": [
        "**Imprime las primeras tres filas de  la columna 'DateTime' y la columna que representa dicha fecha en timestamp Unix**"
      ],
      "metadata": {
        "id": "ZAr2FldKCChN"
      }
    },
    {
      "cell_type": "code",
      "source": [
        "df[['DateTime', 'TimestampUnix']].head(3)"
      ],
      "metadata": {
        "id": "YpK6IwNtCIDf"
      },
      "execution_count": null,
      "outputs": []
    },
    {
      "cell_type": "markdown",
      "source": [
        "# **Ejercicio 05: Filtrado de Fechas**\n",
        "\n"
      ],
      "metadata": {
        "id": "6r7DhnoLCNS3"
      }
    },
    {
      "cell_type": "markdown",
      "source": [
        "**Utiliza la columna 'DateTime' y Filtra aquellas fechas que son mayores a 2020-11-01**"
      ],
      "metadata": {
        "id": "QFttojrSCROm"
      }
    },
    {
      "cell_type": "code",
      "source": [
        "filtrado = df[df['DateTime'] > '2020-11-01 00:00:00']"
      ],
      "metadata": {
        "id": "tbDZojn6CUyf"
      },
      "execution_count": null,
      "outputs": []
    },
    {
      "cell_type": "markdown",
      "source": [
        "**Imprime el resultado**"
      ],
      "metadata": {
        "id": "VpyKBkxpDcMD"
      }
    },
    {
      "cell_type": "code",
      "source": [
        "filtrado"
      ],
      "metadata": {
        "id": "CdkKVE9ODfIx"
      },
      "execution_count": null,
      "outputs": []
    }
  ]
}