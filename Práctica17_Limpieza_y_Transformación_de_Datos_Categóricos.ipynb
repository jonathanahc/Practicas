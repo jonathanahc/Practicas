{
  "nbformat": 4,
  "nbformat_minor": 0,
  "metadata": {
    "colab": {
      "provenance": [],
      "authorship_tag": "ABX9TyNA/3IWd6rK/42SzFB1F/Ri",
      "include_colab_link": true
    },
    "kernelspec": {
      "name": "python3",
      "display_name": "Python 3"
    },
    "language_info": {
      "name": "python"
    }
  },
  "cells": [
    {
      "cell_type": "markdown",
      "metadata": {
        "id": "view-in-github",
        "colab_type": "text"
      },
      "source": [
        "<a href=\"https://colab.research.google.com/github/jonathanahc/Practicas/blob/main/Pr%C3%A1ctica17_Limpieza_y_Transformaci%C3%B3n_de_Datos_Categ%C3%B3ricos.ipynb\" target=\"_parent\"><img src=\"https://colab.research.google.com/assets/colab-badge.svg\" alt=\"Open In Colab\"/></a>"
      ]
    },
    {
      "cell_type": "code",
      "execution_count": 2,
      "metadata": {
        "colab": {
          "base_uri": "https://localhost:8080/"
        },
        "id": "mTzjVMwjPPrK",
        "outputId": "ea71be16-3d50-4fe2-8cca-20f071d7121e"
      },
      "outputs": [
        {
          "output_type": "stream",
          "name": "stdout",
          "text": [
            "Drive already mounted at /content/drive; to attempt to forcibly remount, call drive.mount(\"/content/drive\", force_remount=True).\n"
          ]
        }
      ],
      "source": [
        "from google.colab import drive\n",
        "drive.mount('/content/drive')\n",
        "\n",
        "import pandas as pd"
      ]
    },
    {
      "cell_type": "code",
      "source": [
        "df = pd.read_csv('/content/drive/MyDrive/Unidad02/nls97.csv', index_col=0)\n",
        "df.head()"
      ],
      "metadata": {
        "colab": {
          "base_uri": "https://localhost:8080/",
          "height": 374
        },
        "id": "wmP6iTnJQnOe",
        "outputId": "87dcc940-6af7-4b41-eaea-96af43cc50d3"
      },
      "execution_count": 22,
      "outputs": [
        {
          "output_type": "execute_result",
          "data": {
            "text/plain": [
              "          gender  birthmonth  birthyear  highestgradecompleted  maritalstatus  \\\n",
              "personid                                                                        \n",
              "100061    Female           5       1980                   13.0        Married   \n",
              "100139      Male           9       1983                   12.0        Married   \n",
              "100284      Male          11       1984                    7.0  Never-married   \n",
              "100292      Male           4       1982                    NaN            NaN   \n",
              "100583      Male           1       1980                   13.0        Married   \n",
              "\n",
              "          childathome  childnotathome  wageincome        weeklyhrscomputer  \\\n",
              "personid                                                                     \n",
              "100061            4.0             0.0     12500.0  10 hours or more a week   \n",
              "100139            2.0             0.0    120000.0      1 to 3 hours a week   \n",
              "100284            1.0             0.0     58000.0                      NaN   \n",
              "100292            NaN             NaN         NaN                      NaN   \n",
              "100583            4.0             0.0     30000.0  Less than 1 hour a week   \n",
              "\n",
              "                    weeklyhrstv  ...      colenrfeb13      colenroct13  \\\n",
              "personid                         ...                                     \n",
              "100061    11 to 20 hours a week  ...  1. Not enrolled  1. Not enrolled   \n",
              "100139     3 to 10 hours a week  ...  1. Not enrolled  1. Not enrolled   \n",
              "100284    11 to 20 hours a week  ...  1. Not enrolled  1. Not enrolled   \n",
              "100292                      NaN  ...  1. Not enrolled  1. Not enrolled   \n",
              "100583     3 to 10 hours a week  ...  1. Not enrolled  1. Not enrolled   \n",
              "\n",
              "              colenrfeb14      colenroct14      colenrfeb15      colenroct15  \\\n",
              "personid                                                                       \n",
              "100061    1. Not enrolled  1. Not enrolled  1. Not enrolled  1. Not enrolled   \n",
              "100139    1. Not enrolled  1. Not enrolled  1. Not enrolled  1. Not enrolled   \n",
              "100284    1. Not enrolled  1. Not enrolled  1. Not enrolled  1. Not enrolled   \n",
              "100292    1. Not enrolled  1. Not enrolled  1. Not enrolled  1. Not enrolled   \n",
              "100583    1. Not enrolled  1. Not enrolled  1. Not enrolled  1. Not enrolled   \n",
              "\n",
              "              colenrfeb16      colenroct16      colenrfeb17      colenroct17  \n",
              "personid                                                                      \n",
              "100061    1. Not enrolled  1. Not enrolled  1. Not enrolled  1. Not enrolled  \n",
              "100139    1. Not enrolled  1. Not enrolled  1. Not enrolled  1. Not enrolled  \n",
              "100284    1. Not enrolled  1. Not enrolled  1. Not enrolled  1. Not enrolled  \n",
              "100292                NaN              NaN              NaN              NaN  \n",
              "100583    1. Not enrolled  1. Not enrolled  1. Not enrolled  1. Not enrolled  \n",
              "\n",
              "[5 rows x 88 columns]"
            ],
            "text/html": [
              "\n",
              "  <div id=\"df-fc6b0bcd-f18d-49aa-8a60-83cd8c9ff4ab\" class=\"colab-df-container\">\n",
              "    <div>\n",
              "<style scoped>\n",
              "    .dataframe tbody tr th:only-of-type {\n",
              "        vertical-align: middle;\n",
              "    }\n",
              "\n",
              "    .dataframe tbody tr th {\n",
              "        vertical-align: top;\n",
              "    }\n",
              "\n",
              "    .dataframe thead th {\n",
              "        text-align: right;\n",
              "    }\n",
              "</style>\n",
              "<table border=\"1\" class=\"dataframe\">\n",
              "  <thead>\n",
              "    <tr style=\"text-align: right;\">\n",
              "      <th></th>\n",
              "      <th>gender</th>\n",
              "      <th>birthmonth</th>\n",
              "      <th>birthyear</th>\n",
              "      <th>highestgradecompleted</th>\n",
              "      <th>maritalstatus</th>\n",
              "      <th>childathome</th>\n",
              "      <th>childnotathome</th>\n",
              "      <th>wageincome</th>\n",
              "      <th>weeklyhrscomputer</th>\n",
              "      <th>weeklyhrstv</th>\n",
              "      <th>...</th>\n",
              "      <th>colenrfeb13</th>\n",
              "      <th>colenroct13</th>\n",
              "      <th>colenrfeb14</th>\n",
              "      <th>colenroct14</th>\n",
              "      <th>colenrfeb15</th>\n",
              "      <th>colenroct15</th>\n",
              "      <th>colenrfeb16</th>\n",
              "      <th>colenroct16</th>\n",
              "      <th>colenrfeb17</th>\n",
              "      <th>colenroct17</th>\n",
              "    </tr>\n",
              "    <tr>\n",
              "      <th>personid</th>\n",
              "      <th></th>\n",
              "      <th></th>\n",
              "      <th></th>\n",
              "      <th></th>\n",
              "      <th></th>\n",
              "      <th></th>\n",
              "      <th></th>\n",
              "      <th></th>\n",
              "      <th></th>\n",
              "      <th></th>\n",
              "      <th></th>\n",
              "      <th></th>\n",
              "      <th></th>\n",
              "      <th></th>\n",
              "      <th></th>\n",
              "      <th></th>\n",
              "      <th></th>\n",
              "      <th></th>\n",
              "      <th></th>\n",
              "      <th></th>\n",
              "      <th></th>\n",
              "    </tr>\n",
              "  </thead>\n",
              "  <tbody>\n",
              "    <tr>\n",
              "      <th>100061</th>\n",
              "      <td>Female</td>\n",
              "      <td>5</td>\n",
              "      <td>1980</td>\n",
              "      <td>13.0</td>\n",
              "      <td>Married</td>\n",
              "      <td>4.0</td>\n",
              "      <td>0.0</td>\n",
              "      <td>12500.0</td>\n",
              "      <td>10 hours or more a week</td>\n",
              "      <td>11 to 20 hours a week</td>\n",
              "      <td>...</td>\n",
              "      <td>1. Not enrolled</td>\n",
              "      <td>1. Not enrolled</td>\n",
              "      <td>1. Not enrolled</td>\n",
              "      <td>1. Not enrolled</td>\n",
              "      <td>1. Not enrolled</td>\n",
              "      <td>1. Not enrolled</td>\n",
              "      <td>1. Not enrolled</td>\n",
              "      <td>1. Not enrolled</td>\n",
              "      <td>1. Not enrolled</td>\n",
              "      <td>1. Not enrolled</td>\n",
              "    </tr>\n",
              "    <tr>\n",
              "      <th>100139</th>\n",
              "      <td>Male</td>\n",
              "      <td>9</td>\n",
              "      <td>1983</td>\n",
              "      <td>12.0</td>\n",
              "      <td>Married</td>\n",
              "      <td>2.0</td>\n",
              "      <td>0.0</td>\n",
              "      <td>120000.0</td>\n",
              "      <td>1 to 3 hours a week</td>\n",
              "      <td>3 to 10 hours a week</td>\n",
              "      <td>...</td>\n",
              "      <td>1. Not enrolled</td>\n",
              "      <td>1. Not enrolled</td>\n",
              "      <td>1. Not enrolled</td>\n",
              "      <td>1. Not enrolled</td>\n",
              "      <td>1. Not enrolled</td>\n",
              "      <td>1. Not enrolled</td>\n",
              "      <td>1. Not enrolled</td>\n",
              "      <td>1. Not enrolled</td>\n",
              "      <td>1. Not enrolled</td>\n",
              "      <td>1. Not enrolled</td>\n",
              "    </tr>\n",
              "    <tr>\n",
              "      <th>100284</th>\n",
              "      <td>Male</td>\n",
              "      <td>11</td>\n",
              "      <td>1984</td>\n",
              "      <td>7.0</td>\n",
              "      <td>Never-married</td>\n",
              "      <td>1.0</td>\n",
              "      <td>0.0</td>\n",
              "      <td>58000.0</td>\n",
              "      <td>NaN</td>\n",
              "      <td>11 to 20 hours a week</td>\n",
              "      <td>...</td>\n",
              "      <td>1. Not enrolled</td>\n",
              "      <td>1. Not enrolled</td>\n",
              "      <td>1. Not enrolled</td>\n",
              "      <td>1. Not enrolled</td>\n",
              "      <td>1. Not enrolled</td>\n",
              "      <td>1. Not enrolled</td>\n",
              "      <td>1. Not enrolled</td>\n",
              "      <td>1. Not enrolled</td>\n",
              "      <td>1. Not enrolled</td>\n",
              "      <td>1. Not enrolled</td>\n",
              "    </tr>\n",
              "    <tr>\n",
              "      <th>100292</th>\n",
              "      <td>Male</td>\n",
              "      <td>4</td>\n",
              "      <td>1982</td>\n",
              "      <td>NaN</td>\n",
              "      <td>NaN</td>\n",
              "      <td>NaN</td>\n",
              "      <td>NaN</td>\n",
              "      <td>NaN</td>\n",
              "      <td>NaN</td>\n",
              "      <td>NaN</td>\n",
              "      <td>...</td>\n",
              "      <td>1. Not enrolled</td>\n",
              "      <td>1. Not enrolled</td>\n",
              "      <td>1. Not enrolled</td>\n",
              "      <td>1. Not enrolled</td>\n",
              "      <td>1. Not enrolled</td>\n",
              "      <td>1. Not enrolled</td>\n",
              "      <td>NaN</td>\n",
              "      <td>NaN</td>\n",
              "      <td>NaN</td>\n",
              "      <td>NaN</td>\n",
              "    </tr>\n",
              "    <tr>\n",
              "      <th>100583</th>\n",
              "      <td>Male</td>\n",
              "      <td>1</td>\n",
              "      <td>1980</td>\n",
              "      <td>13.0</td>\n",
              "      <td>Married</td>\n",
              "      <td>4.0</td>\n",
              "      <td>0.0</td>\n",
              "      <td>30000.0</td>\n",
              "      <td>Less than 1 hour a week</td>\n",
              "      <td>3 to 10 hours a week</td>\n",
              "      <td>...</td>\n",
              "      <td>1. Not enrolled</td>\n",
              "      <td>1. Not enrolled</td>\n",
              "      <td>1. Not enrolled</td>\n",
              "      <td>1. Not enrolled</td>\n",
              "      <td>1. Not enrolled</td>\n",
              "      <td>1. Not enrolled</td>\n",
              "      <td>1. Not enrolled</td>\n",
              "      <td>1. Not enrolled</td>\n",
              "      <td>1. Not enrolled</td>\n",
              "      <td>1. Not enrolled</td>\n",
              "    </tr>\n",
              "  </tbody>\n",
              "</table>\n",
              "<p>5 rows × 88 columns</p>\n",
              "</div>\n",
              "    <div class=\"colab-df-buttons\">\n",
              "\n",
              "  <div class=\"colab-df-container\">\n",
              "    <button class=\"colab-df-convert\" onclick=\"convertToInteractive('df-fc6b0bcd-f18d-49aa-8a60-83cd8c9ff4ab')\"\n",
              "            title=\"Convert this dataframe to an interactive table.\"\n",
              "            style=\"display:none;\">\n",
              "\n",
              "  <svg xmlns=\"http://www.w3.org/2000/svg\" height=\"24px\" viewBox=\"0 -960 960 960\">\n",
              "    <path d=\"M120-120v-720h720v720H120Zm60-500h600v-160H180v160Zm220 220h160v-160H400v160Zm0 220h160v-160H400v160ZM180-400h160v-160H180v160Zm440 0h160v-160H620v160ZM180-180h160v-160H180v160Zm440 0h160v-160H620v160Z\"/>\n",
              "  </svg>\n",
              "    </button>\n",
              "\n",
              "  <style>\n",
              "    .colab-df-container {\n",
              "      display:flex;\n",
              "      gap: 12px;\n",
              "    }\n",
              "\n",
              "    .colab-df-convert {\n",
              "      background-color: #E8F0FE;\n",
              "      border: none;\n",
              "      border-radius: 50%;\n",
              "      cursor: pointer;\n",
              "      display: none;\n",
              "      fill: #1967D2;\n",
              "      height: 32px;\n",
              "      padding: 0 0 0 0;\n",
              "      width: 32px;\n",
              "    }\n",
              "\n",
              "    .colab-df-convert:hover {\n",
              "      background-color: #E2EBFA;\n",
              "      box-shadow: 0px 1px 2px rgba(60, 64, 67, 0.3), 0px 1px 3px 1px rgba(60, 64, 67, 0.15);\n",
              "      fill: #174EA6;\n",
              "    }\n",
              "\n",
              "    .colab-df-buttons div {\n",
              "      margin-bottom: 4px;\n",
              "    }\n",
              "\n",
              "    [theme=dark] .colab-df-convert {\n",
              "      background-color: #3B4455;\n",
              "      fill: #D2E3FC;\n",
              "    }\n",
              "\n",
              "    [theme=dark] .colab-df-convert:hover {\n",
              "      background-color: #434B5C;\n",
              "      box-shadow: 0px 1px 3px 1px rgba(0, 0, 0, 0.15);\n",
              "      filter: drop-shadow(0px 1px 2px rgba(0, 0, 0, 0.3));\n",
              "      fill: #FFFFFF;\n",
              "    }\n",
              "  </style>\n",
              "\n",
              "    <script>\n",
              "      const buttonEl =\n",
              "        document.querySelector('#df-fc6b0bcd-f18d-49aa-8a60-83cd8c9ff4ab button.colab-df-convert');\n",
              "      buttonEl.style.display =\n",
              "        google.colab.kernel.accessAllowed ? 'block' : 'none';\n",
              "\n",
              "      async function convertToInteractive(key) {\n",
              "        const element = document.querySelector('#df-fc6b0bcd-f18d-49aa-8a60-83cd8c9ff4ab');\n",
              "        const dataTable =\n",
              "          await google.colab.kernel.invokeFunction('convertToInteractive',\n",
              "                                                    [key], {});\n",
              "        if (!dataTable) return;\n",
              "\n",
              "        const docLinkHtml = 'Like what you see? Visit the ' +\n",
              "          '<a target=\"_blank\" href=https://colab.research.google.com/notebooks/data_table.ipynb>data table notebook</a>'\n",
              "          + ' to learn more about interactive tables.';\n",
              "        element.innerHTML = '';\n",
              "        dataTable['output_type'] = 'display_data';\n",
              "        await google.colab.output.renderOutput(dataTable, element);\n",
              "        const docLink = document.createElement('div');\n",
              "        docLink.innerHTML = docLinkHtml;\n",
              "        element.appendChild(docLink);\n",
              "      }\n",
              "    </script>\n",
              "  </div>\n",
              "\n",
              "\n",
              "<div id=\"df-2ed13072-3adc-475d-8dad-a5014d56a97b\">\n",
              "  <button class=\"colab-df-quickchart\" onclick=\"quickchart('df-2ed13072-3adc-475d-8dad-a5014d56a97b')\"\n",
              "            title=\"Suggest charts\"\n",
              "            style=\"display:none;\">\n",
              "\n",
              "<svg xmlns=\"http://www.w3.org/2000/svg\" height=\"24px\"viewBox=\"0 0 24 24\"\n",
              "     width=\"24px\">\n",
              "    <g>\n",
              "        <path d=\"M19 3H5c-1.1 0-2 .9-2 2v14c0 1.1.9 2 2 2h14c1.1 0 2-.9 2-2V5c0-1.1-.9-2-2-2zM9 17H7v-7h2v7zm4 0h-2V7h2v10zm4 0h-2v-4h2v4z\"/>\n",
              "    </g>\n",
              "</svg>\n",
              "  </button>\n",
              "\n",
              "<style>\n",
              "  .colab-df-quickchart {\n",
              "      --bg-color: #E8F0FE;\n",
              "      --fill-color: #1967D2;\n",
              "      --hover-bg-color: #E2EBFA;\n",
              "      --hover-fill-color: #174EA6;\n",
              "      --disabled-fill-color: #AAA;\n",
              "      --disabled-bg-color: #DDD;\n",
              "  }\n",
              "\n",
              "  [theme=dark] .colab-df-quickchart {\n",
              "      --bg-color: #3B4455;\n",
              "      --fill-color: #D2E3FC;\n",
              "      --hover-bg-color: #434B5C;\n",
              "      --hover-fill-color: #FFFFFF;\n",
              "      --disabled-bg-color: #3B4455;\n",
              "      --disabled-fill-color: #666;\n",
              "  }\n",
              "\n",
              "  .colab-df-quickchart {\n",
              "    background-color: var(--bg-color);\n",
              "    border: none;\n",
              "    border-radius: 50%;\n",
              "    cursor: pointer;\n",
              "    display: none;\n",
              "    fill: var(--fill-color);\n",
              "    height: 32px;\n",
              "    padding: 0;\n",
              "    width: 32px;\n",
              "  }\n",
              "\n",
              "  .colab-df-quickchart:hover {\n",
              "    background-color: var(--hover-bg-color);\n",
              "    box-shadow: 0 1px 2px rgba(60, 64, 67, 0.3), 0 1px 3px 1px rgba(60, 64, 67, 0.15);\n",
              "    fill: var(--button-hover-fill-color);\n",
              "  }\n",
              "\n",
              "  .colab-df-quickchart-complete:disabled,\n",
              "  .colab-df-quickchart-complete:disabled:hover {\n",
              "    background-color: var(--disabled-bg-color);\n",
              "    fill: var(--disabled-fill-color);\n",
              "    box-shadow: none;\n",
              "  }\n",
              "\n",
              "  .colab-df-spinner {\n",
              "    border: 2px solid var(--fill-color);\n",
              "    border-color: transparent;\n",
              "    border-bottom-color: var(--fill-color);\n",
              "    animation:\n",
              "      spin 1s steps(1) infinite;\n",
              "  }\n",
              "\n",
              "  @keyframes spin {\n",
              "    0% {\n",
              "      border-color: transparent;\n",
              "      border-bottom-color: var(--fill-color);\n",
              "      border-left-color: var(--fill-color);\n",
              "    }\n",
              "    20% {\n",
              "      border-color: transparent;\n",
              "      border-left-color: var(--fill-color);\n",
              "      border-top-color: var(--fill-color);\n",
              "    }\n",
              "    30% {\n",
              "      border-color: transparent;\n",
              "      border-left-color: var(--fill-color);\n",
              "      border-top-color: var(--fill-color);\n",
              "      border-right-color: var(--fill-color);\n",
              "    }\n",
              "    40% {\n",
              "      border-color: transparent;\n",
              "      border-right-color: var(--fill-color);\n",
              "      border-top-color: var(--fill-color);\n",
              "    }\n",
              "    60% {\n",
              "      border-color: transparent;\n",
              "      border-right-color: var(--fill-color);\n",
              "    }\n",
              "    80% {\n",
              "      border-color: transparent;\n",
              "      border-right-color: var(--fill-color);\n",
              "      border-bottom-color: var(--fill-color);\n",
              "    }\n",
              "    90% {\n",
              "      border-color: transparent;\n",
              "      border-bottom-color: var(--fill-color);\n",
              "    }\n",
              "  }\n",
              "</style>\n",
              "\n",
              "  <script>\n",
              "    async function quickchart(key) {\n",
              "      const quickchartButtonEl =\n",
              "        document.querySelector('#' + key + ' button');\n",
              "      quickchartButtonEl.disabled = true;  // To prevent multiple clicks.\n",
              "      quickchartButtonEl.classList.add('colab-df-spinner');\n",
              "      try {\n",
              "        const charts = await google.colab.kernel.invokeFunction(\n",
              "            'suggestCharts', [key], {});\n",
              "      } catch (error) {\n",
              "        console.error('Error during call to suggestCharts:', error);\n",
              "      }\n",
              "      quickchartButtonEl.classList.remove('colab-df-spinner');\n",
              "      quickchartButtonEl.classList.add('colab-df-quickchart-complete');\n",
              "    }\n",
              "    (() => {\n",
              "      let quickchartButtonEl =\n",
              "        document.querySelector('#df-2ed13072-3adc-475d-8dad-a5014d56a97b button');\n",
              "      quickchartButtonEl.style.display =\n",
              "        google.colab.kernel.accessAllowed ? 'block' : 'none';\n",
              "    })();\n",
              "  </script>\n",
              "</div>\n",
              "\n",
              "    </div>\n",
              "  </div>\n"
            ],
            "application/vnd.google.colaboratory.intrinsic+json": {
              "type": "dataframe",
              "variable_name": "df"
            }
          },
          "metadata": {},
          "execution_count": 22
        }
      ]
    },
    {
      "cell_type": "markdown",
      "source": [
        "# Ejercicio 01: Errores Tipográficos y Valores Inconsistentes: maritalstatus"
      ],
      "metadata": {
        "id": "UK-JMM3xR2o9"
      }
    },
    {
      "cell_type": "markdown",
      "source": [
        "**Imprime de la columna 'maritalstatus' los valores únicos**"
      ],
      "metadata": {
        "id": "JQ7UezngV-AE"
      }
    },
    {
      "cell_type": "code",
      "source": [
        "print(df['maritalstatus'].unique())"
      ],
      "metadata": {
        "colab": {
          "base_uri": "https://localhost:8080/"
        },
        "id": "yY4e0oGIR7kZ",
        "outputId": "cfb98e74-2000-47a9-c7f0-dfafccf26fcb"
      },
      "execution_count": 24,
      "outputs": [
        {
          "output_type": "stream",
          "name": "stdout",
          "text": [
            "['Married' 'Never-married' nan 'Divorced' 'Separated' 'Widowed']\n"
          ]
        }
      ]
    },
    {
      "cell_type": "markdown",
      "source": [
        "**Imprime la frecuencia de cada valor único**"
      ],
      "metadata": {
        "id": "5Bgno8TIWB6t"
      }
    },
    {
      "cell_type": "code",
      "source": [
        "df['maritalstatus'].value_counts()"
      ],
      "metadata": {
        "colab": {
          "base_uri": "https://localhost:8080/",
          "height": 272
        },
        "id": "9rxVgQfhTvr7",
        "outputId": "cf1af85b-1da2-468f-d3e3-8aae88737a29"
      },
      "execution_count": 25,
      "outputs": [
        {
          "output_type": "execute_result",
          "data": {
            "text/plain": [
              "maritalstatus\n",
              "Married          3066\n",
              "Never-married    2766\n",
              "Divorced          663\n",
              "Separated         154\n",
              "Widowed            23\n",
              "Name: count, dtype: int64"
            ],
            "text/html": [
              "<div>\n",
              "<style scoped>\n",
              "    .dataframe tbody tr th:only-of-type {\n",
              "        vertical-align: middle;\n",
              "    }\n",
              "\n",
              "    .dataframe tbody tr th {\n",
              "        vertical-align: top;\n",
              "    }\n",
              "\n",
              "    .dataframe thead th {\n",
              "        text-align: right;\n",
              "    }\n",
              "</style>\n",
              "<table border=\"1\" class=\"dataframe\">\n",
              "  <thead>\n",
              "    <tr style=\"text-align: right;\">\n",
              "      <th></th>\n",
              "      <th>count</th>\n",
              "    </tr>\n",
              "    <tr>\n",
              "      <th>maritalstatus</th>\n",
              "      <th></th>\n",
              "    </tr>\n",
              "  </thead>\n",
              "  <tbody>\n",
              "    <tr>\n",
              "      <th>Married</th>\n",
              "      <td>3066</td>\n",
              "    </tr>\n",
              "    <tr>\n",
              "      <th>Never-married</th>\n",
              "      <td>2766</td>\n",
              "    </tr>\n",
              "    <tr>\n",
              "      <th>Divorced</th>\n",
              "      <td>663</td>\n",
              "    </tr>\n",
              "    <tr>\n",
              "      <th>Separated</th>\n",
              "      <td>154</td>\n",
              "    </tr>\n",
              "    <tr>\n",
              "      <th>Widowed</th>\n",
              "      <td>23</td>\n",
              "    </tr>\n",
              "  </tbody>\n",
              "</table>\n",
              "</div><br><label><b>dtype:</b> int64</label>"
            ]
          },
          "metadata": {},
          "execution_count": 25
        }
      ]
    },
    {
      "cell_type": "markdown",
      "source": [
        "**Cambia el valor 'Never-Married' a 'Single'**"
      ],
      "metadata": {
        "id": "9NzQdyXVWIqq"
      }
    },
    {
      "cell_type": "code",
      "source": [
        "df['maritalstatus'] = df['maritalstatus'].replace('Never-married','Single')"
      ],
      "metadata": {
        "id": "YX0cW5kwUEG0"
      },
      "execution_count": 26,
      "outputs": []
    },
    {
      "cell_type": "markdown",
      "source": [
        "**Imprime la frecuencia de cada valor único**"
      ],
      "metadata": {
        "id": "_vDXyaddWLxO"
      }
    },
    {
      "cell_type": "code",
      "source": [
        "df['maritalstatus'].value_counts()"
      ],
      "metadata": {
        "colab": {
          "base_uri": "https://localhost:8080/",
          "height": 272
        },
        "id": "uNqEqyegVZs-",
        "outputId": "10e84b71-bcfe-414a-de2c-41af158205f2"
      },
      "execution_count": 27,
      "outputs": [
        {
          "output_type": "execute_result",
          "data": {
            "text/plain": [
              "maritalstatus\n",
              "Married      3066\n",
              "Single       2766\n",
              "Divorced      663\n",
              "Separated     154\n",
              "Widowed        23\n",
              "Name: count, dtype: int64"
            ],
            "text/html": [
              "<div>\n",
              "<style scoped>\n",
              "    .dataframe tbody tr th:only-of-type {\n",
              "        vertical-align: middle;\n",
              "    }\n",
              "\n",
              "    .dataframe tbody tr th {\n",
              "        vertical-align: top;\n",
              "    }\n",
              "\n",
              "    .dataframe thead th {\n",
              "        text-align: right;\n",
              "    }\n",
              "</style>\n",
              "<table border=\"1\" class=\"dataframe\">\n",
              "  <thead>\n",
              "    <tr style=\"text-align: right;\">\n",
              "      <th></th>\n",
              "      <th>count</th>\n",
              "    </tr>\n",
              "    <tr>\n",
              "      <th>maritalstatus</th>\n",
              "      <th></th>\n",
              "    </tr>\n",
              "  </thead>\n",
              "  <tbody>\n",
              "    <tr>\n",
              "      <th>Married</th>\n",
              "      <td>3066</td>\n",
              "    </tr>\n",
              "    <tr>\n",
              "      <th>Single</th>\n",
              "      <td>2766</td>\n",
              "    </tr>\n",
              "    <tr>\n",
              "      <th>Divorced</th>\n",
              "      <td>663</td>\n",
              "    </tr>\n",
              "    <tr>\n",
              "      <th>Separated</th>\n",
              "      <td>154</td>\n",
              "    </tr>\n",
              "    <tr>\n",
              "      <th>Widowed</th>\n",
              "      <td>23</td>\n",
              "    </tr>\n",
              "  </tbody>\n",
              "</table>\n",
              "</div><br><label><b>dtype:</b> int64</label>"
            ]
          },
          "metadata": {},
          "execution_count": 27
        }
      ]
    },
    {
      "cell_type": "markdown",
      "source": [
        "# Ejercicio 02: Errores Tipográficos y Valores Inconsistentes: highestdegree"
      ],
      "metadata": {
        "id": "D-baorgCSOKR"
      }
    },
    {
      "cell_type": "markdown",
      "source": [
        "**Imprime de la columna 'highestdegrees' los valores únicos**"
      ],
      "metadata": {
        "id": "UmwXaNLkapFW"
      }
    },
    {
      "cell_type": "code",
      "source": [
        "print(df['highestdegree'].unique())"
      ],
      "metadata": {
        "colab": {
          "base_uri": "https://localhost:8080/"
        },
        "id": "0vokJSdMSWXm",
        "outputId": "8b460ca7-be50-4baa-e3c6-7c87495363aa"
      },
      "execution_count": 28,
      "outputs": [
        {
          "output_type": "stream",
          "name": "stdout",
          "text": [
            "['2. High School' '0. None' '4. Bachelors' '3. Associates' '5. Masters'\n",
            " '1. GED' '7. Professional' '6. PhD' nan]\n"
          ]
        }
      ]
    },
    {
      "cell_type": "markdown",
      "source": [
        "**Imprime la frecuencia de cada valor único**"
      ],
      "metadata": {
        "id": "hbk1JKNuauBB"
      }
    },
    {
      "cell_type": "code",
      "source": [
        "df['highestdegree'].value_counts()"
      ],
      "metadata": {
        "colab": {
          "base_uri": "https://localhost:8080/",
          "height": 366
        },
        "id": "u5dwc3plXSII",
        "outputId": "15a90aeb-100a-4b33-e9d0-46e1eb6a6d2a"
      },
      "execution_count": 29,
      "outputs": [
        {
          "output_type": "execute_result",
          "data": {
            "text/plain": [
              "highestdegree\n",
              "2. High School     3667\n",
              "4. Bachelors       1673\n",
              "1. GED             1146\n",
              "0. None             953\n",
              "3. Associates       737\n",
              "5. Masters          603\n",
              "7. Professional     120\n",
              "6. PhD               54\n",
              "Name: count, dtype: int64"
            ],
            "text/html": [
              "<div>\n",
              "<style scoped>\n",
              "    .dataframe tbody tr th:only-of-type {\n",
              "        vertical-align: middle;\n",
              "    }\n",
              "\n",
              "    .dataframe tbody tr th {\n",
              "        vertical-align: top;\n",
              "    }\n",
              "\n",
              "    .dataframe thead th {\n",
              "        text-align: right;\n",
              "    }\n",
              "</style>\n",
              "<table border=\"1\" class=\"dataframe\">\n",
              "  <thead>\n",
              "    <tr style=\"text-align: right;\">\n",
              "      <th></th>\n",
              "      <th>count</th>\n",
              "    </tr>\n",
              "    <tr>\n",
              "      <th>highestdegree</th>\n",
              "      <th></th>\n",
              "    </tr>\n",
              "  </thead>\n",
              "  <tbody>\n",
              "    <tr>\n",
              "      <th>2. High School</th>\n",
              "      <td>3667</td>\n",
              "    </tr>\n",
              "    <tr>\n",
              "      <th>4. Bachelors</th>\n",
              "      <td>1673</td>\n",
              "    </tr>\n",
              "    <tr>\n",
              "      <th>1. GED</th>\n",
              "      <td>1146</td>\n",
              "    </tr>\n",
              "    <tr>\n",
              "      <th>0. None</th>\n",
              "      <td>953</td>\n",
              "    </tr>\n",
              "    <tr>\n",
              "      <th>3. Associates</th>\n",
              "      <td>737</td>\n",
              "    </tr>\n",
              "    <tr>\n",
              "      <th>5. Masters</th>\n",
              "      <td>603</td>\n",
              "    </tr>\n",
              "    <tr>\n",
              "      <th>7. Professional</th>\n",
              "      <td>120</td>\n",
              "    </tr>\n",
              "    <tr>\n",
              "      <th>6. PhD</th>\n",
              "      <td>54</td>\n",
              "    </tr>\n",
              "  </tbody>\n",
              "</table>\n",
              "</div><br><label><b>dtype:</b> int64</label>"
            ]
          },
          "metadata": {},
          "execution_count": 29
        }
      ]
    },
    {
      "cell_type": "markdown",
      "source": [
        "**Observa que cada valor categórico empieza con 0. Modifica las categorías para que todas estén en minúsculas y ninguna empiece con un número. Por ejemplo, si dice \"2. High School\", debería ser 'high school**"
      ],
      "metadata": {
        "id": "ckz6_d4Ga1Cc"
      }
    },
    {
      "cell_type": "code",
      "source": [
        "df['highestdegree'] = df['highestdegree'].str.lower().str.replace(r'^\\d+\\.\\s*', '', regex=True)"
      ],
      "metadata": {
        "id": "XWH_TJJLZs7Y"
      },
      "execution_count": 30,
      "outputs": []
    },
    {
      "cell_type": "markdown",
      "source": [
        "**Los cambios se realizarán en la misma columna 'highestdegrees'**"
      ],
      "metadata": {
        "id": "QdaAuXTva7FI"
      }
    },
    {
      "cell_type": "code",
      "source": [
        "print(df['highestdegree'].unique())"
      ],
      "metadata": {
        "colab": {
          "base_uri": "https://localhost:8080/"
        },
        "id": "ZSI44Q1NaHB0",
        "outputId": "f53e1076-b037-49b8-deff-bd50ec267810"
      },
      "execution_count": 31,
      "outputs": [
        {
          "output_type": "stream",
          "name": "stdout",
          "text": [
            "['high school' 'none' 'bachelors' 'associates' 'masters' 'ged'\n",
            " 'professional' 'phd' nan]\n"
          ]
        }
      ]
    },
    {
      "cell_type": "markdown",
      "source": [
        "**Imprime los nuevos valores únicos**"
      ],
      "metadata": {
        "id": "fBP8uZz2bDw9"
      }
    },
    {
      "cell_type": "code",
      "source": [
        "df['highestdegree'].value_counts()"
      ],
      "metadata": {
        "colab": {
          "base_uri": "https://localhost:8080/",
          "height": 366
        },
        "id": "FdBVYbjsaMaX",
        "outputId": "2183564d-e015-4f6b-dac6-ce0965ca46eb"
      },
      "execution_count": 32,
      "outputs": [
        {
          "output_type": "execute_result",
          "data": {
            "text/plain": [
              "highestdegree\n",
              "high school     3667\n",
              "bachelors       1673\n",
              "ged             1146\n",
              "none             953\n",
              "associates       737\n",
              "masters          603\n",
              "professional     120\n",
              "phd               54\n",
              "Name: count, dtype: int64"
            ],
            "text/html": [
              "<div>\n",
              "<style scoped>\n",
              "    .dataframe tbody tr th:only-of-type {\n",
              "        vertical-align: middle;\n",
              "    }\n",
              "\n",
              "    .dataframe tbody tr th {\n",
              "        vertical-align: top;\n",
              "    }\n",
              "\n",
              "    .dataframe thead th {\n",
              "        text-align: right;\n",
              "    }\n",
              "</style>\n",
              "<table border=\"1\" class=\"dataframe\">\n",
              "  <thead>\n",
              "    <tr style=\"text-align: right;\">\n",
              "      <th></th>\n",
              "      <th>count</th>\n",
              "    </tr>\n",
              "    <tr>\n",
              "      <th>highestdegree</th>\n",
              "      <th></th>\n",
              "    </tr>\n",
              "  </thead>\n",
              "  <tbody>\n",
              "    <tr>\n",
              "      <th>high school</th>\n",
              "      <td>3667</td>\n",
              "    </tr>\n",
              "    <tr>\n",
              "      <th>bachelors</th>\n",
              "      <td>1673</td>\n",
              "    </tr>\n",
              "    <tr>\n",
              "      <th>ged</th>\n",
              "      <td>1146</td>\n",
              "    </tr>\n",
              "    <tr>\n",
              "      <th>none</th>\n",
              "      <td>953</td>\n",
              "    </tr>\n",
              "    <tr>\n",
              "      <th>associates</th>\n",
              "      <td>737</td>\n",
              "    </tr>\n",
              "    <tr>\n",
              "      <th>masters</th>\n",
              "      <td>603</td>\n",
              "    </tr>\n",
              "    <tr>\n",
              "      <th>professional</th>\n",
              "      <td>120</td>\n",
              "    </tr>\n",
              "    <tr>\n",
              "      <th>phd</th>\n",
              "      <td>54</td>\n",
              "    </tr>\n",
              "  </tbody>\n",
              "</table>\n",
              "</div><br><label><b>dtype:</b> int64</label>"
            ]
          },
          "metadata": {},
          "execution_count": 32
        }
      ]
    },
    {
      "cell_type": "markdown",
      "source": [
        "# Ejercicio 03: Alta Cardinalidad - Frecuencias Bajas\n",
        "\n"
      ],
      "metadata": {
        "id": "QgPeIXRISZWh"
      }
    },
    {
      "cell_type": "code",
      "source": [],
      "metadata": {
        "id": "YbFiCcMDSfSc"
      },
      "execution_count": null,
      "outputs": []
    },
    {
      "cell_type": "markdown",
      "source": [
        "# Ejercicio 04: Tipos de Datos\n",
        "\n"
      ],
      "metadata": {
        "id": "3D2Cor3QSgXD"
      }
    },
    {
      "cell_type": "code",
      "source": [],
      "metadata": {
        "id": "whG6UK0cSjmN"
      },
      "execution_count": null,
      "outputs": []
    }
  ]
}