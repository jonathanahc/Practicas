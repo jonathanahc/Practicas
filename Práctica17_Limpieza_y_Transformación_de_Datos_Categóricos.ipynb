{
  "nbformat": 4,
  "nbformat_minor": 0,
  "metadata": {
    "colab": {
      "provenance": [],
      "authorship_tag": "ABX9TyPRJqyZqSXROVqP1iN5b4Wf",
      "include_colab_link": true
    },
    "kernelspec": {
      "name": "python3",
      "display_name": "Python 3"
    },
    "language_info": {
      "name": "python"
    }
  },
  "cells": [
    {
      "cell_type": "markdown",
      "metadata": {
        "id": "view-in-github",
        "colab_type": "text"
      },
      "source": [
        "<a href=\"https://colab.research.google.com/github/jonathanahc/Practicas/blob/main/Pr%C3%A1ctica17_Limpieza_y_Transformaci%C3%B3n_de_Datos_Categ%C3%B3ricos.ipynb\" target=\"_parent\"><img src=\"https://colab.research.google.com/assets/colab-badge.svg\" alt=\"Open In Colab\"/></a>"
      ]
    },
    {
      "cell_type": "code",
      "execution_count": 2,
      "metadata": {
        "colab": {
          "base_uri": "https://localhost:8080/"
        },
        "id": "mTzjVMwjPPrK",
        "outputId": "ea71be16-3d50-4fe2-8cca-20f071d7121e"
      },
      "outputs": [
        {
          "output_type": "stream",
          "name": "stdout",
          "text": [
            "Drive already mounted at /content/drive; to attempt to forcibly remount, call drive.mount(\"/content/drive\", force_remount=True).\n"
          ]
        }
      ],
      "source": [
        "from google.colab import drive\n",
        "drive.mount('/content/drive')\n",
        "\n",
        "import pandas as pd"
      ]
    },
    {
      "cell_type": "code",
      "source": [
        "df = pd.read_csv('/content/drive/MyDrive/Unidad02/nls97.csv', index_col=0, engine=\"python\")\n",
        "df.head()"
      ],
      "metadata": {
        "id": "wmP6iTnJQnOe"
      },
      "execution_count": null,
      "outputs": []
    },
    {
      "cell_type": "markdown",
      "source": [
        "# Ejercicio 01: Errores Tipográficos y Valores Inconsistentes: maritalstatus"
      ],
      "metadata": {
        "id": "UK-JMM3xR2o9"
      }
    },
    {
      "cell_type": "markdown",
      "source": [
        "**Imprime de la columna 'maritalstatus' los valores únicos**"
      ],
      "metadata": {
        "id": "JQ7UezngV-AE"
      }
    },
    {
      "cell_type": "code",
      "source": [
        "print(df['maritalstatus'].unique())"
      ],
      "metadata": {
        "id": "yY4e0oGIR7kZ"
      },
      "execution_count": null,
      "outputs": []
    },
    {
      "cell_type": "markdown",
      "source": [
        "**Imprime la frecuencia de cada valor único**"
      ],
      "metadata": {
        "id": "5Bgno8TIWB6t"
      }
    },
    {
      "cell_type": "code",
      "source": [
        "df['maritalstatus'].value_counts()"
      ],
      "metadata": {
        "id": "9rxVgQfhTvr7"
      },
      "execution_count": null,
      "outputs": []
    },
    {
      "cell_type": "markdown",
      "source": [
        "**Cambia el valor 'Never-Married' a 'Single'**"
      ],
      "metadata": {
        "id": "9NzQdyXVWIqq"
      }
    },
    {
      "cell_type": "code",
      "source": [
        "df['maritalstatus'] = df['maritalstatus'].replace('Never-married','Single')"
      ],
      "metadata": {
        "id": "YX0cW5kwUEG0"
      },
      "execution_count": 70,
      "outputs": []
    },
    {
      "cell_type": "markdown",
      "source": [
        "**Imprime la frecuencia de cada valor único**"
      ],
      "metadata": {
        "id": "_vDXyaddWLxO"
      }
    },
    {
      "cell_type": "code",
      "source": [
        "df['maritalstatus'].value_counts()"
      ],
      "metadata": {
        "id": "uNqEqyegVZs-"
      },
      "execution_count": null,
      "outputs": []
    },
    {
      "cell_type": "markdown",
      "source": [
        "# Ejercicio 02: Errores Tipográficos y Valores Inconsistentes: highestdegree"
      ],
      "metadata": {
        "id": "D-baorgCSOKR"
      }
    },
    {
      "cell_type": "markdown",
      "source": [
        "**Imprime de la columna 'highestdegrees' los valores únicos**"
      ],
      "metadata": {
        "id": "UmwXaNLkapFW"
      }
    },
    {
      "cell_type": "code",
      "source": [
        "print(df['highestdegree'].unique())"
      ],
      "metadata": {
        "id": "0vokJSdMSWXm"
      },
      "execution_count": null,
      "outputs": []
    },
    {
      "cell_type": "markdown",
      "source": [
        "**Imprime la frecuencia de cada valor único**"
      ],
      "metadata": {
        "id": "hbk1JKNuauBB"
      }
    },
    {
      "cell_type": "code",
      "source": [
        "df['highestdegree'].value_counts()"
      ],
      "metadata": {
        "id": "u5dwc3plXSII"
      },
      "execution_count": null,
      "outputs": []
    },
    {
      "cell_type": "markdown",
      "source": [
        "**Observa que cada valor categórico empieza con 0. Modifica las categorías para que todas estén en minúsculas y ninguna empiece con un número. Por ejemplo, si dice \"2. High School\", debería ser 'high school**"
      ],
      "metadata": {
        "id": "ckz6_d4Ga1Cc"
      }
    },
    {
      "cell_type": "code",
      "source": [
        "df['highestdegree'] = df['highestdegree'].str.lower().str.replace(r'^\\d+\\.\\s*', '', regex=True)"
      ],
      "metadata": {
        "id": "XWH_TJJLZs7Y"
      },
      "execution_count": 74,
      "outputs": []
    },
    {
      "cell_type": "markdown",
      "source": [
        "**Imprime los nuevos valores únicos**"
      ],
      "metadata": {
        "id": "fBP8uZz2bDw9"
      }
    },
    {
      "cell_type": "code",
      "source": [
        "print(df['highestdegree'].unique())"
      ],
      "metadata": {
        "id": "FdBVYbjsaMaX"
      },
      "execution_count": null,
      "outputs": []
    },
    {
      "cell_type": "markdown",
      "source": [
        "# Ejercicio 03: Alta Cardinalidad - Frecuencias Bajas\n",
        "\n"
      ],
      "metadata": {
        "id": "QgPeIXRISZWh"
      }
    },
    {
      "cell_type": "markdown",
      "source": [
        "**De la columna 'maritalstatus' une las categorías Widowed y 'Single' en una categoría más general llamada 'Single/No Partner'. Crea una nueva columna, 'marital_grouped' donde aparezcan las nuevas categorías de maritalstatus**"
      ],
      "metadata": {
        "id": "UqNQbFATi2EX"
      }
    },
    {
      "cell_type": "code",
      "source": [
        "df['maritalstatus'] = df['maritalstatus'].copy()\n",
        "\n",
        "df['marital_grouped'] = df['maritalstatus'].replace(['Widowed', 'Single'], 'Single/No Partner')"
      ],
      "metadata": {
        "id": "Cri2zWyGdWsi"
      },
      "execution_count": 76,
      "outputs": []
    },
    {
      "cell_type": "markdown",
      "source": [
        "**Imprime los valores únicos de la nueva columna 'marital_grouped'**"
      ],
      "metadata": {
        "id": "tTlY58eui4qR"
      }
    },
    {
      "cell_type": "code",
      "source": [
        "print(df['marital_grouped'].unique())"
      ],
      "metadata": {
        "id": "NSF-xr3IfMkz"
      },
      "execution_count": null,
      "outputs": []
    },
    {
      "cell_type": "markdown",
      "source": [
        "**Imprime la frecuencia de los valores únicos de la nueva columna 'marital_grouped'**"
      ],
      "metadata": {
        "id": "VzONckcbi8HL"
      }
    },
    {
      "cell_type": "code",
      "source": [
        "df['marital_grouped'].value_counts()"
      ],
      "metadata": {
        "id": "e6prBF_yii6t"
      },
      "execution_count": null,
      "outputs": []
    },
    {
      "cell_type": "markdown",
      "source": [
        "# Ejercicio 04: Tipos de Datos\n",
        "\n"
      ],
      "metadata": {
        "id": "3D2Cor3QSgXD"
      }
    },
    {
      "cell_type": "markdown",
      "source": [
        "**Imprime el tipo de datos de la columna gender**\n"
      ],
      "metadata": {
        "id": "QPR9DV_FkpD9"
      }
    },
    {
      "cell_type": "code",
      "source": [
        "print(df['gender'].dtype)"
      ],
      "metadata": {
        "id": "whG6UK0cSjmN"
      },
      "execution_count": null,
      "outputs": []
    },
    {
      "cell_type": "markdown",
      "source": [
        "**Imprime la cantidad de bytes de dicha columna**"
      ],
      "metadata": {
        "id": "qdQhgZoIksrW"
      }
    },
    {
      "cell_type": "code",
      "source": [
        "print(f\"Memoria:\", df['gender'].memory_usage(deep=True))"
      ],
      "metadata": {
        "id": "21SseIpVjyjh"
      },
      "execution_count": null,
      "outputs": []
    },
    {
      "cell_type": "markdown",
      "source": [
        "**Si la columna es de tipo object, modifica a category**"
      ],
      "metadata": {
        "id": "6rsxJb3RkwL2"
      }
    },
    {
      "cell_type": "code",
      "source": [
        "df['gender'] = df['gender'].astype('category')\n",
        "print(df['gender'].dtype)"
      ],
      "metadata": {
        "id": "wMY2FQ2wkPZG"
      },
      "execution_count": null,
      "outputs": []
    },
    {
      "cell_type": "markdown",
      "source": [
        "**En caso de haber realizado la modificación del tipo de datos, imprime la cantidad de bytes que ocupa dicha columna con el nuevo tipo de datos**"
      ],
      "metadata": {
        "id": "1hhB-Ayzk2CT"
      }
    },
    {
      "cell_type": "code",
      "source": [
        "print(f\"Memoria:\", df['gender'].memory_usage(deep=True))"
      ],
      "metadata": {
        "id": "HXC_aPqjkZYU"
      },
      "execution_count": null,
      "outputs": []
    }
  ]
}