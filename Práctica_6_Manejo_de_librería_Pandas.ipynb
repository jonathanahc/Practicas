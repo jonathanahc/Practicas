{
  "nbformat": 4,
  "nbformat_minor": 0,
  "metadata": {
    "colab": {
      "provenance": [],
      "toc_visible": true,
      "authorship_tag": "ABX9TyP8Tv9j/Mqhte/G0QD0qm31",
      "include_colab_link": true
    },
    "kernelspec": {
      "name": "python3",
      "display_name": "Python 3"
    },
    "language_info": {
      "name": "python"
    }
  },
  "cells": [
    {
      "cell_type": "markdown",
      "metadata": {
        "id": "view-in-github",
        "colab_type": "text"
      },
      "source": [
        "<a href=\"https://colab.research.google.com/github/jonathanahc/Practicas/blob/main/Pr%C3%A1ctica_6_Manejo_de_librer%C3%ADa_Pandas.ipynb\" target=\"_parent\"><img src=\"https://colab.research.google.com/assets/colab-badge.svg\" alt=\"Open In Colab\"/></a>"
      ]
    },
    {
      "cell_type": "code",
      "execution_count": null,
      "metadata": {
        "id": "p5LY0WojkdqQ"
      },
      "outputs": [],
      "source": [
        "from google.colab import drive\n",
        "drive.mount('/content/drive')\n",
        "\n",
        "import numpy as np\n",
        "import pandas as pd"
      ]
    },
    {
      "cell_type": "markdown",
      "source": [
        "**Carga del archivo CSV a un Dataframe.**"
      ],
      "metadata": {
        "id": "t-7W_bKpf7xJ"
      }
    },
    {
      "cell_type": "code",
      "source": [
        "df = pd.read_csv('/content/drive/MyDrive/ClassFiles/Titanic-Dataset.csv')\n",
        "df.head()"
      ],
      "metadata": {
        "id": "SGzLn87Zbj2W"
      },
      "execution_count": null,
      "outputs": []
    },
    {
      "cell_type": "markdown",
      "source": [
        "# Ejercicio 1: Análisis de la distribución de supervivencia por combinación de sexo y clase del pasajero\n"
      ],
      "metadata": {
        "id": "iFaDOBYoa9UL"
      }
    },
    {
      "cell_type": "markdown",
      "source": [
        "**Calcula la proporción de supervivencia para cada combinación de\n",
        "'Sex' y 'Pclass'.**"
      ],
      "metadata": {
        "id": "sohkckW0bS5c"
      }
    },
    {
      "cell_type": "code",
      "source": [
        "proporcionp = df.groupby('Survived')['Pclass'].mean()\n",
        "print(proporcionp)\n",
        "\n",
        "proporcions = df.groupby('Survived')['Sex'].value_counts(normalize=True)\n",
        "print(proporcions)"
      ],
      "metadata": {
        "id": "xcOFIxmUdaKI"
      },
      "execution_count": null,
      "outputs": []
    },
    {
      "cell_type": "markdown",
      "source": [
        "# Ejercicio 2: Identificación de familias grandes a bordo"
      ],
      "metadata": {
        "id": "BdWTFt6scRW4"
      }
    },
    {
      "cell_type": "markdown",
      "source": [
        "**Crea una nueva columna 'FamilySize' sumando las columnas 'SibSp' y 'Parch'.**"
      ],
      "metadata": {
        "id": "yJX-e4Dccs80"
      }
    },
    {
      "cell_type": "code",
      "source": [
        "df['FamilySize'] = df['SibSp'] + df['Parch']"
      ],
      "metadata": {
        "id": "0ysjSNDof534"
      },
      "execution_count": null,
      "outputs": []
    },
    {
      "cell_type": "markdown",
      "source": [
        "**Considera como \"familia grande\" a aquellas donde 'FamilySize' es mayor a 3.**"
      ],
      "metadata": {
        "id": "44xTZ6XWcx5R"
      }
    },
    {
      "cell_type": "code",
      "source": [
        "df.drop(df[(df['FamilySize'] < 3)].index, inplace=True)\n",
        "df.head()"
      ],
      "metadata": {
        "id": "sMOT6yb5cHS7"
      },
      "execution_count": null,
      "outputs": []
    },
    {
      "cell_type": "markdown",
      "source": [
        "**Calcula el número de pasajeros en familias grandes.**"
      ],
      "metadata": {
        "id": "TizTLJE0c4zn"
      }
    },
    {
      "cell_type": "code",
      "source": [
        "df['FamilySize'].value_counts()"
      ],
      "metadata": {
        "id": "kTcZZ1Ymh94K"
      },
      "execution_count": null,
      "outputs": []
    },
    {
      "cell_type": "markdown",
      "source": [
        "**Calcula la proporción de supervivencia entre los pasajeros que pertenecen a familias grandes.**"
      ],
      "metadata": {
        "id": "uODqoovKc9ji"
      }
    },
    {
      "cell_type": "code",
      "source": [
        "proporcionf = df.groupby('FamilySize')['Survived'].mean()\n",
        "print(proporcionf)"
      ],
      "metadata": {
        "id": "rGsdBvJRqwfa"
      },
      "execution_count": null,
      "outputs": []
    },
    {
      "cell_type": "markdown",
      "source": [
        "# Ejercicio 3: Segmentación por grupos de edad"
      ],
      "metadata": {
        "id": "pV8GVPOHdL-S"
      }
    },
    {
      "cell_type": "markdown",
      "source": [
        "**Clasifica a los pasajeros en las siguientes categorías de edad:  menor de edad (< 18) y mayor de edad (>=18).**"
      ],
      "metadata": {
        "id": "L-VQyru3dRA3"
      }
    },
    {
      "cell_type": "code",
      "source": [
        "def clasificacion(edad):\n",
        "    if edad >= 18:\n",
        "        return \"Mayor de edad\"\n",
        "    else:\n",
        "        return \"Menor de edad\"\n",
        "\n",
        "df['ClasificacionEdad'] = df['Age'].apply(clasificacion)\n",
        "df.head()"
      ],
      "metadata": {
        "id": "_kdjoqlp1Kf4"
      },
      "execution_count": null,
      "outputs": []
    },
    {
      "cell_type": "markdown",
      "source": [
        "# Ejercicio 4: Comparación entre promedios calculados manualmente y con Pandas"
      ],
      "metadata": {
        "id": "B94iOnl7eMm9"
      }
    },
    {
      "cell_type": "markdown",
      "source": [
        "**Utiliza NumPy para calcular el promedio de las columnas 'Age' y 'Fare', ignorando valores nulos.**"
      ],
      "metadata": {
        "id": "At8tNm4TeSVH"
      }
    },
    {
      "cell_type": "code",
      "source": [
        "promedio1 = np.nanmean(df['Age'])\n",
        "print(promedio1)\n",
        "\n",
        "promedio2 = np.nanmean(df['Fare'])\n",
        "print(promedio2)"
      ],
      "metadata": {
        "id": "QqiDw0px86km"
      },
      "execution_count": null,
      "outputs": []
    },
    {
      "cell_type": "markdown",
      "source": [
        "**Compara estos valores con los promedios obtenidos utilizando los métodos nativos de Pandas.**"
      ],
      "metadata": {
        "id": "nQeKEyoKemrZ"
      }
    },
    {
      "cell_type": "code",
      "source": [
        "promedio1pandas = df['Age'].mean()\n",
        "print(promedio1pandas)\n",
        "\n",
        "promedio2pandas = df['Fare'].mean()\n",
        "print(promedio2pandas)"
      ],
      "metadata": {
        "id": "3RI3OTQqeh8x"
      },
      "execution_count": null,
      "outputs": []
    },
    {
      "cell_type": "markdown",
      "source": [
        "# Ejercicio 5. Creación de intervalos de clase usando NumPy y análisis con Pandas"
      ],
      "metadata": {
        "id": "ZGNTTBMie8w2"
      }
    },
    {
      "cell_type": "markdown",
      "source": [
        "**Divide la columna 'Fare' en 5 intervalos equidistantes utilizando la función numpy.linspace.**"
      ],
      "metadata": {
        "id": "IKeSAFP7fAoT"
      }
    },
    {
      "cell_type": "code",
      "source": [
        "intervalo = np.linspace(min(df['Fare']), max(df['Fare']), 6)"
      ],
      "metadata": {
        "id": "MhnTXhNiBs3l"
      },
      "execution_count": null,
      "outputs": []
    },
    {
      "cell_type": "markdown",
      "source": [
        "**Crea una nueva columna en el DataFrame que asigne a cada pasajero el intervalo correspondiente de su tarifa.**"
      ],
      "metadata": {
        "id": "XxQJcUrofp3v"
      }
    },
    {
      "cell_type": "code",
      "source": [
        "etiqueta = [1, 2, 3, 4, 5]\n",
        "\n",
        "df['CategoryFare'] = pd.cut(df['Fare'], bins=intervalo, labels=etiqueta)"
      ],
      "metadata": {
        "id": "J8W1af6qfXFA"
      },
      "execution_count": null,
      "outputs": []
    },
    {
      "cell_type": "markdown",
      "source": [
        "**Calcula el número de pasajeros en cada intervalo utilizando Pandas y la proporción de supervivientes por intervalo.**"
      ],
      "metadata": {
        "id": "P0K9aIfofuzD"
      }
    },
    {
      "cell_type": "code",
      "source": [
        "df['CategoryFare'].value_counts()\n",
        "\n",
        "proporcionsup = df.groupby('CategoryFare')['Survived'].mean()\n",
        "print(proporcionsup)"
      ],
      "metadata": {
        "id": "NzNNMOctfdSG"
      },
      "execution_count": null,
      "outputs": []
    }
  ]
}