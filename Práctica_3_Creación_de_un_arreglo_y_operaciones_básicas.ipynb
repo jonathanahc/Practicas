{
  "nbformat": 4,
  "nbformat_minor": 0,
  "metadata": {
    "colab": {
      "provenance": [],
      "authorship_tag": "ABX9TyMYB8Rm5hL1ty+KqOxwBh8t",
      "include_colab_link": true
    },
    "kernelspec": {
      "name": "python3",
      "display_name": "Python 3"
    },
    "language_info": {
      "name": "python"
    }
  },
  "cells": [
    {
      "cell_type": "markdown",
      "metadata": {
        "id": "view-in-github",
        "colab_type": "text"
      },
      "source": [
        "<a href=\"https://colab.research.google.com/github/jonathanahc/Practicas/blob/main/Pr%C3%A1ctica_3_Creaci%C3%B3n_de_un_arreglo_y_operaciones_b%C3%A1sicas.ipynb\" target=\"_parent\"><img src=\"https://colab.research.google.com/assets/colab-badge.svg\" alt=\"Open In Colab\"/></a>"
      ]
    },
    {
      "cell_type": "code",
      "execution_count": null,
      "metadata": {
        "id": "dUUPOoVkMgu3"
      },
      "outputs": [],
      "source": [
        "from google.colab import drive\n",
        "drive.mount('/content/drive')\n",
        "\n",
        "import numpy as np"
      ]
    },
    {
      "cell_type": "code",
      "source": [
        "# Crea un arreglo unidimensional de 20 elementos con valores aleatorios entre 1 y 100\n",
        "\n",
        "arreglo = np.random.randint(1, 100, 20)\n",
        "print(arreglo)"
      ],
      "metadata": {
        "id": "FxaxI65cNC0B"
      },
      "execution_count": null,
      "outputs": []
    },
    {
      "cell_type": "code",
      "source": [
        "# 1. Encuentra el valor máximo del arreglo\n",
        "\n",
        "maximo = arreglo.max()\n",
        "print(maximo)"
      ],
      "metadata": {
        "id": "cQ3X0LxqOd0L"
      },
      "execution_count": null,
      "outputs": []
    },
    {
      "cell_type": "code",
      "source": [
        "# 2. Encuentra el valor mínimo del arreglo\n",
        "\n",
        "minimo = arreglo.min()\n",
        "print(minimo)"
      ],
      "metadata": {
        "id": "pSD5ohIoPDLQ"
      },
      "execution_count": null,
      "outputs": []
    },
    {
      "cell_type": "code",
      "source": [
        "# 3. Calcula la media del arreglo\n",
        "\n",
        "media = arreglo.mean()\n",
        "print(media)"
      ],
      "metadata": {
        "id": "USClqNc_PTXU"
      },
      "execution_count": null,
      "outputs": []
    },
    {
      "cell_type": "code",
      "source": [
        "# 4. Suma 10 a cada elemento del arreglo\n",
        "\n",
        "for i in range(len(arreglo)):\n",
        "  arreglo[i] += 10\n",
        "print(arreglo)"
      ],
      "metadata": {
        "id": "AT3KrXkmPl3-"
      },
      "execution_count": null,
      "outputs": []
    }
  ]
}