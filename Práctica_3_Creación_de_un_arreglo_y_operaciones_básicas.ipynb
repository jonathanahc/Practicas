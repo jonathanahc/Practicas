{
  "nbformat": 4,
  "nbformat_minor": 0,
  "metadata": {
    "colab": {
      "provenance": [],
      "authorship_tag": "ABX9TyOOMK1oDfDs200aPX3NI+Sf",
      "include_colab_link": true
    },
    "kernelspec": {
      "name": "python3",
      "display_name": "Python 3"
    },
    "language_info": {
      "name": "python"
    }
  },
  "cells": [
    {
      "cell_type": "markdown",
      "metadata": {
        "id": "view-in-github",
        "colab_type": "text"
      },
      "source": [
        "<a href=\"https://colab.research.google.com/github/jonathanahc/Practicas/blob/main/Pr%C3%A1ctica_3_Creaci%C3%B3n_de_un_arreglo_y_operaciones_b%C3%A1sicas.ipynb\" target=\"_parent\"><img src=\"https://colab.research.google.com/assets/colab-badge.svg\" alt=\"Open In Colab\"/></a>"
      ]
    },
    {
      "cell_type": "code",
      "execution_count": 1,
      "metadata": {
        "colab": {
          "base_uri": "https://localhost:8080/"
        },
        "id": "dUUPOoVkMgu3",
        "outputId": "b0527d11-51e7-480c-f718-0f2773e96533"
      },
      "outputs": [
        {
          "output_type": "stream",
          "name": "stdout",
          "text": [
            "Mounted at /content/drive\n"
          ]
        }
      ],
      "source": [
        "from google.colab import drive\n",
        "drive.mount('/content/drive')\n",
        "\n",
        "import numpy as np"
      ]
    },
    {
      "cell_type": "code",
      "source": [
        "# Crea un arreglo unidimensional de 20 elementos con valores aleatorios entre 1 y 100\n",
        "arreglo = np.random.randint(1, 100, 20)\n",
        "print(arreglo)"
      ],
      "metadata": {
        "colab": {
          "base_uri": "https://localhost:8080/"
        },
        "id": "FxaxI65cNC0B",
        "outputId": "429bf718-b552-4eb6-c8e9-70dbea546954"
      },
      "execution_count": 20,
      "outputs": [
        {
          "output_type": "stream",
          "name": "stdout",
          "text": [
            "[87 16 95 66  3 94 99 59 40 74 35 86 69 84 66 79  7 61 37 95]\n"
          ]
        }
      ]
    },
    {
      "cell_type": "code",
      "source": [
        "# 1. Encuentra el valor máximo del arreglo\n",
        "\n",
        "maximo = arreglo.max()\n",
        "print(maximo)"
      ],
      "metadata": {
        "colab": {
          "base_uri": "https://localhost:8080/"
        },
        "id": "cQ3X0LxqOd0L",
        "outputId": "c99766ae-73fd-439e-ef55-e5b2f3d6af88"
      },
      "execution_count": 21,
      "outputs": [
        {
          "output_type": "stream",
          "name": "stdout",
          "text": [
            "99\n"
          ]
        }
      ]
    },
    {
      "cell_type": "code",
      "source": [
        "# 2. Encuentra el valor mínimo del arreglo\n",
        "\n",
        "minimo = arreglo.min()\n",
        "print(minimo)"
      ],
      "metadata": {
        "colab": {
          "base_uri": "https://localhost:8080/"
        },
        "id": "pSD5ohIoPDLQ",
        "outputId": "724117a1-9666-4b3c-cdbc-7ea9305928f0"
      },
      "execution_count": 22,
      "outputs": [
        {
          "output_type": "stream",
          "name": "stdout",
          "text": [
            "3\n"
          ]
        }
      ]
    },
    {
      "cell_type": "code",
      "source": [
        "# 3. Calcula la media del arreglo\n",
        "\n",
        "media = arreglo.mean()\n",
        "print(media)"
      ],
      "metadata": {
        "colab": {
          "base_uri": "https://localhost:8080/"
        },
        "id": "USClqNc_PTXU",
        "outputId": "4c529676-6233-492c-b718-0a0a78a0fdb7"
      },
      "execution_count": 23,
      "outputs": [
        {
          "output_type": "stream",
          "name": "stdout",
          "text": [
            "62.6\n"
          ]
        }
      ]
    },
    {
      "cell_type": "code",
      "source": [
        "# 4. Suma 10 a cada elemento del arreglo\n",
        "\n",
        "for i in range(len(arreglo)):\n",
        "  arreglo[i] += 10\n",
        "print(arreglo)"
      ],
      "metadata": {
        "colab": {
          "base_uri": "https://localhost:8080/"
        },
        "id": "AT3KrXkmPl3-",
        "outputId": "ac5a29b9-ca6e-4052-f0ba-ff060b88b97d"
      },
      "execution_count": 24,
      "outputs": [
        {
          "output_type": "stream",
          "name": "stdout",
          "text": [
            "[ 97  26 105  76  13 104 109  69  50  84  45  96  79  94  76  89  17  71\n",
            "  47 105]\n"
          ]
        }
      ]
    }
  ]
}