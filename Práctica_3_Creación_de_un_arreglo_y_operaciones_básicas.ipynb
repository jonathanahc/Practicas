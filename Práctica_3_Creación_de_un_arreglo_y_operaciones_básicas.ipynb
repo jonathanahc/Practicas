{
  "nbformat": 4,
  "nbformat_minor": 0,
  "metadata": {
    "colab": {
      "provenance": [],
      "authorship_tag": "ABX9TyOWzPk+FNz/zWVfwHhBemEV",
      "include_colab_link": true
    },
    "kernelspec": {
      "name": "python3",
      "display_name": "Python 3"
    },
    "language_info": {
      "name": "python"
    }
  },
  "cells": [
    {
      "cell_type": "markdown",
      "metadata": {
        "id": "view-in-github",
        "colab_type": "text"
      },
      "source": [
        "<a href=\"https://colab.research.google.com/github/jonathanahc/Practicas/blob/main/Pr%C3%A1ctica_3_Creaci%C3%B3n_de_un_arreglo_y_operaciones_b%C3%A1sicas.ipynb\" target=\"_parent\"><img src=\"https://colab.research.google.com/assets/colab-badge.svg\" alt=\"Open In Colab\"/></a>"
      ]
    },
    {
      "cell_type": "code",
      "execution_count": 2,
      "metadata": {
        "id": "dUUPOoVkMgu3",
        "outputId": "8650a979-dd4b-4065-c570-44662f982fbc",
        "colab": {
          "base_uri": "https://localhost:8080/"
        }
      },
      "outputs": [
        {
          "output_type": "stream",
          "name": "stdout",
          "text": [
            "Mounted at /content/drive\n"
          ]
        }
      ],
      "source": [
        "from google.colab import drive\n",
        "drive.mount('/content/drive')\n",
        "\n",
        "import numpy as np"
      ]
    },
    {
      "cell_type": "markdown",
      "source": [
        "**Crea un arreglo unidimensional de 20 elementos con valores aleatorios entre 1 y 100**"
      ],
      "metadata": {
        "id": "SgjBxevsgNdd"
      }
    },
    {
      "cell_type": "code",
      "source": [
        "arreglo = np.random.randint(1, 100, 20)\n",
        "print(arreglo)"
      ],
      "metadata": {
        "id": "FxaxI65cNC0B",
        "outputId": "4ec7380d-7653-49b1-f22e-68799101b84d",
        "colab": {
          "base_uri": "https://localhost:8080/"
        }
      },
      "execution_count": 3,
      "outputs": [
        {
          "output_type": "stream",
          "name": "stdout",
          "text": [
            "[78 21 44 57 39 13  2 48 30 29 15 59 33 27 82 43 23 91 92 42]\n"
          ]
        }
      ]
    },
    {
      "cell_type": "markdown",
      "source": [
        "**Encuentra el valor máximo del arreglo**"
      ],
      "metadata": {
        "id": "e-BhCmpLgcdm"
      }
    },
    {
      "cell_type": "code",
      "source": [
        "maximo = arreglo.max()\n",
        "print(maximo)"
      ],
      "metadata": {
        "id": "cQ3X0LxqOd0L",
        "outputId": "48ffb09f-b784-415d-fae8-3a85bf8244e3",
        "colab": {
          "base_uri": "https://localhost:8080/"
        }
      },
      "execution_count": 4,
      "outputs": [
        {
          "output_type": "stream",
          "name": "stdout",
          "text": [
            "92\n"
          ]
        }
      ]
    },
    {
      "cell_type": "markdown",
      "source": [
        "**Encuentra el valor mínimo del arreglo**"
      ],
      "metadata": {
        "id": "kcgWcWbjgl5k"
      }
    },
    {
      "cell_type": "code",
      "source": [
        "minimo = arreglo.min()\n",
        "print(minimo)"
      ],
      "metadata": {
        "id": "pSD5ohIoPDLQ",
        "outputId": "e5f61d24-d0ca-4f4f-c641-f3c788738f95",
        "colab": {
          "base_uri": "https://localhost:8080/"
        }
      },
      "execution_count": 5,
      "outputs": [
        {
          "output_type": "stream",
          "name": "stdout",
          "text": [
            "2\n"
          ]
        }
      ]
    },
    {
      "cell_type": "markdown",
      "source": [
        "**Calcula la media del arreglo**"
      ],
      "metadata": {
        "id": "PqZrwXFqgysp"
      }
    },
    {
      "cell_type": "code",
      "source": [
        "media = arreglo.mean()\n",
        "print(media)"
      ],
      "metadata": {
        "id": "USClqNc_PTXU",
        "outputId": "4921b00b-0c02-499f-e5bf-8940c75feaf4",
        "colab": {
          "base_uri": "https://localhost:8080/"
        }
      },
      "execution_count": 6,
      "outputs": [
        {
          "output_type": "stream",
          "name": "stdout",
          "text": [
            "43.4\n"
          ]
        }
      ]
    },
    {
      "cell_type": "markdown",
      "source": [
        "**Suma 10 a cada elemento del arreglo**"
      ],
      "metadata": {
        "id": "mE3LY4fkg7VS"
      }
    },
    {
      "cell_type": "code",
      "source": [
        "for i in range(len(arreglo)):\n",
        "  arreglo[i] += 10\n",
        "print(arreglo)"
      ],
      "metadata": {
        "id": "AT3KrXkmPl3-",
        "outputId": "b025a60a-19cc-4a02-ac65-f13ed95f1402",
        "colab": {
          "base_uri": "https://localhost:8080/"
        }
      },
      "execution_count": 7,
      "outputs": [
        {
          "output_type": "stream",
          "name": "stdout",
          "text": [
            "[ 88  31  54  67  49  23  12  58  40  39  25  69  43  37  92  53  33 101\n",
            " 102  52]\n"
          ]
        }
      ]
    }
  ]
}