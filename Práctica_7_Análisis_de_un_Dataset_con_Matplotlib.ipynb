{
  "nbformat": 4,
  "nbformat_minor": 0,
  "metadata": {
    "colab": {
      "provenance": [],
      "toc_visible": true,
      "authorship_tag": "ABX9TyM5E1dZZdWeWoJWtvUI/dtN",
      "include_colab_link": true
    },
    "kernelspec": {
      "name": "python3",
      "display_name": "Python 3"
    },
    "language_info": {
      "name": "python"
    }
  },
  "cells": [
    {
      "cell_type": "markdown",
      "metadata": {
        "id": "view-in-github",
        "colab_type": "text"
      },
      "source": [
        "<a href=\"https://colab.research.google.com/github/jonathanahc/Practicas/blob/main/Pr%C3%A1ctica_7_An%C3%A1lisis_de_un_Dataset_con_Matplotlib.ipynb\" target=\"_parent\"><img src=\"https://colab.research.google.com/assets/colab-badge.svg\" alt=\"Open In Colab\"/></a>"
      ]
    },
    {
      "cell_type": "code",
      "execution_count": null,
      "metadata": {
        "id": "LNrSeS25k-p8"
      },
      "outputs": [],
      "source": [
        "from google.colab import drive\n",
        "drive.mount('/content/drive')\n",
        "\n",
        "import pandas as pd\n",
        "import numpy as np\n",
        "import matplotlib.pyplot as plt\n",
        "imoprt seaborn as sns"
      ]
    },
    {
      "cell_type": "markdown",
      "source": [
        "# Carga y exploración del dataset:"
      ],
      "metadata": {
        "id": "UOKn3wgoiip9"
      }
    },
    {
      "cell_type": "markdown",
      "source": [
        "**Cargar el dataset Iris utilizando seaborn o cualquier otro dataset de su elección.**"
      ],
      "metadata": {
        "id": "StO_TAg9izLk"
      }
    },
    {
      "cell_type": "code",
      "source": [
        "df = sns.load_dataset('iris')"
      ],
      "metadata": {
        "id": "fiG8hPFhl4mH"
      },
      "execution_count": null,
      "outputs": []
    },
    {
      "cell_type": "markdown",
      "source": [
        "**Verificar las primeras filas del dataset con el método .head().**"
      ],
      "metadata": {
        "id": "Ca5j8Lbei264"
      }
    },
    {
      "cell_type": "code",
      "source": [
        "df.head()"
      ],
      "metadata": {
        "id": "Gvt4KrpViq6q"
      },
      "execution_count": null,
      "outputs": []
    },
    {
      "cell_type": "markdown",
      "source": [
        "**Obtener información general sobre los datos (nombres de columnas, tipos de datos, valores nulos, etc.).**"
      ],
      "metadata": {
        "id": "BLoP3mr-i8Ex"
      }
    },
    {
      "cell_type": "code",
      "source": [
        "df.info()"
      ],
      "metadata": {
        "id": "sAJschcwmUm6"
      },
      "execution_count": null,
      "outputs": []
    },
    {
      "cell_type": "markdown",
      "source": [
        "# Crear los siguientes gráficos con Matplotlib:"
      ],
      "metadata": {
        "id": "3da-2qk6jLc5"
      }
    },
    {
      "cell_type": "markdown",
      "source": [
        "**a) Gráfico de barras:**\n",
        "\n",
        "*   **Objetivo:** Comparar el promedio de largo y ancho de los pétalos entre las tres especies de Iris.\n",
        "\n",
        "*   **Instrucciones:** Utiliza un gráfico de barras para mostrar la media de las columnas petal_length y petal_width agrupadas por species.\n",
        "\n"
      ],
      "metadata": {
        "id": "WwDybM_ajPce"
      }
    },
    {
      "cell_type": "code",
      "source": [
        "promedio = df.groupby('species')[['petal_length', 'petal_width']].mean()\n",
        "promedio.plot(kind='bar')\n",
        "plt.show()"
      ],
      "metadata": {
        "id": "RTluNHrsnK7s"
      },
      "execution_count": null,
      "outputs": []
    },
    {
      "cell_type": "markdown",
      "source": [
        "**b) Histograma:**\n",
        "\n",
        "*   **Objetivo:** Visualizar la distribución de los largos de los sépalos (sepal_length).\n",
        "\n",
        "\n",
        "*   **Instrucciones:** Crea un histograma de la variable sepal_length y asegúrate de que tenga un número adecuado de bins. Coloca etiquetas en los ejes y un título.\n",
        "\n"
      ],
      "metadata": {
        "id": "N9Jhw0DnkZY-"
      }
    },
    {
      "cell_type": "code",
      "source": [
        "plt.hist(df.sepal_length, bins=10, edgecolor='black')\n",
        "plt.title('Histograma de largo de sépalos')\n",
        "plt.xlabel('Largo de sépalos')\n",
        "plt.ylabel('Frecuencia')\n",
        "plt.show()"
      ],
      "metadata": {
        "id": "CaLqD89B0uTD"
      },
      "execution_count": null,
      "outputs": []
    },
    {
      "cell_type": "markdown",
      "source": [
        "**c) Gráfico de dispersión (scatter plot):**\n",
        "\n",
        "*   **Objetivo:** Relacionar el largo del pétalo con el ancho del pétalo.\n",
        "\n",
        "\n",
        "*   **Instrucciones:** Crea un gráfico de dispersión que compare petal_length con petal_width. Usa un color diferente para cada especie.\n",
        "\n",
        "\n"
      ],
      "metadata": {
        "id": "5IGeL2xMk3gE"
      }
    },
    {
      "cell_type": "code",
      "source": [
        "x = df.petal_length\n",
        "y = df.petal_width\n",
        "\n",
        "plt.scatter(x, y, alpha=0.5, c=df.species.map({'setosa': 'red', 'versicolor': 'blue', 'virginica': 'green'}))\n",
        "plt.show()"
      ],
      "metadata": {
        "id": "gcU6073E56J5"
      },
      "execution_count": null,
      "outputs": []
    },
    {
      "cell_type": "markdown",
      "source": [
        "**d) Gráfico de cajas (box plot):**\n",
        "\n",
        "*   **Objetivo:** Analizar la distribución de las medidas del sépalo (sepal_length, sepal_width).\n",
        "\n",
        "\n",
        "*   **Instrucciones:** Crea un gráfico de cajas para mostrar la distribución de las variables sepal_length y sepal_width por especie.\n",
        "\n"
      ],
      "metadata": {
        "id": "H5oZjAnwlPuB"
      }
    },
    {
      "cell_type": "code",
      "source": [
        "#Box plot\n"
      ],
      "metadata": {
        "id": "5EcNbHSHC9Fq"
      },
      "execution_count": null,
      "outputs": []
    },
    {
      "cell_type": "markdown",
      "source": [
        "**e) Gráfico de líneas:**\n",
        "\n",
        "*   **Objetivo:** Mostrar la tendencia de la longitud del pétalo (petal_length) a través de las observaciones.\n",
        "\n",
        "\n",
        "*   **Instrucciones:** Crea un gráfico de líneas utilizando la variable petal_length (en el eje Y) con el índice de las observaciones (en el eje X). Puedes hacer esto para ver cómo varía la longitud del pétalo a lo largo del dataset.\n",
        "\n",
        "\n",
        "\n"
      ],
      "metadata": {
        "id": "KcTvRWrqliDO"
      }
    },
    {
      "cell_type": "code",
      "source": [
        "plt.plot(df.index, df.petal_length)\n",
        "plt.show()"
      ],
      "metadata": {
        "id": "k0gc2393WSjk"
      },
      "execution_count": null,
      "outputs": []
    }
  ]
}