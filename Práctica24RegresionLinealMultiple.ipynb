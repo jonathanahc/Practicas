{
  "cells": [
    {
      "cell_type": "markdown",
      "metadata": {
        "id": "view-in-github",
        "colab_type": "text"
      },
      "source": [
        "<a href=\"https://colab.research.google.com/github/jonathanahc/Practicas/blob/main/Pr%C3%A1ctica24RegresionLinealMultiple.ipynb\" target=\"_parent\"><img src=\"https://colab.research.google.com/assets/colab-badge.svg\" alt=\"Open In Colab\"/></a>"
      ]
    },
    {
      "cell_type": "markdown",
      "id": "41f2abd4",
      "metadata": {
        "id": "41f2abd4"
      },
      "source": [
        "# Maestría en Inteligencia Artificial y Analítica de Datos\n",
        "\n",
        "## Programación para Analítica Descriptiva y Predictiva - Marzo 2025\n",
        "## Práctica: Práctica: Regresión Lineal Múltiple\n",
        "---\n",
        "\n",
        "\n",
        "## Datos del Estudiante\n",
        "\n",
        "*   Apellidos y Nombre: Herrera Castro Jonathan Adrian\n",
        "*   Matrícula: 255497\n",
        "\n",
        "---\n",
        "\n",
        "\n",
        "\n",
        "##  Objetivo de aprendizaje\n",
        "Al finalizar esta práctica, el estudiante será capaz de **aplicar regresión lineal múltiple utilizando Scikit-Learn para modelar la relación entre varias variables independientes y una variable dependiente**, verificar los supuestos del modelo, interpretar los coeficientes, analizar la correlación entre predictores y evaluar el rendimiento del modelo utilizando métricas como el MSE, RMSE y R².\n",
        "\n",
        "Datos\n",
        "Trabajarás con el archivo `advertising.csv`, que contiene información sobre el gasto publicitario en diferentes medios y las ventas obtenidas:\n",
        "\n",
        "-`TV`: inversión en publicidad televisiva.\n",
        "\n",
        "-`Radio`: inversión en publicidad en radio.\n",
        "\n",
        "-`Newspaper`: inversión en publicidad en periódicos.\n",
        "\n",
        "`Sales`: ventas del producto (variable dependiente)."
      ]
    },
    {
      "cell_type": "markdown",
      "id": "33a293fd",
      "metadata": {
        "id": "33a293fd"
      },
      "source": [
        "## ***Parte 1: Carga de datos y bibliotecas***\n",
        "**1. Importa las bibliotecas necesarias**\n"
      ]
    },
    {
      "cell_type": "code",
      "execution_count": 55,
      "id": "3b2a918a",
      "metadata": {
        "id": "3b2a918a",
        "colab": {
          "base_uri": "https://localhost:8080/"
        },
        "outputId": "63e305aa-879d-4f20-fe77-559bd68000d5"
      },
      "outputs": [
        {
          "output_type": "stream",
          "name": "stdout",
          "text": [
            "Drive already mounted at /content/drive; to attempt to forcibly remount, call drive.mount(\"/content/drive\", force_remount=True).\n"
          ]
        }
      ],
      "source": [
        "from google.colab import drive\n",
        "drive.mount('/content/drive')\n",
        "\n",
        "import numpy as np\n",
        "import pandas as pd\n",
        "import matplotlib.pyplot as plt\n",
        "import seaborn as sns\n",
        "from sklearn import datasets\n",
        "from sklearn.linear_model import LinearRegression\n",
        "from sklearn.preprocessing import StandardScaler\n",
        "from statsmodels.stats.outliers_influence import variance_inflation_factor\n",
        "from statsmodels.tools.tools import add_constant\n",
        "import scipy.stats as stats\n",
        "from sklearn.metrics import mean_squared_error, mean_absolute_error, r2_score\n",
        "import statsmodels.api as sm"
      ]
    },
    {
      "cell_type": "markdown",
      "source": [
        "**2. Carga el archivo `advertising.csv`**"
      ],
      "metadata": {
        "id": "Gi1oMw9okH_X"
      },
      "id": "Gi1oMw9okH_X"
    },
    {
      "cell_type": "code",
      "source": [
        "df = pd.read_csv('/content/drive/MyDrive/Unidad04/advertising.csv', engine=\"python\")"
      ],
      "metadata": {
        "id": "_7hrGkxMkOP3"
      },
      "id": "_7hrGkxMkOP3",
      "execution_count": 2,
      "outputs": []
    },
    {
      "cell_type": "markdown",
      "source": [
        "**3. Muestra las primeras filas del dataframe**"
      ],
      "metadata": {
        "id": "_Zn6YRrYkPfi"
      },
      "id": "_Zn6YRrYkPfi"
    },
    {
      "cell_type": "code",
      "source": [
        "df.head()"
      ],
      "metadata": {
        "colab": {
          "base_uri": "https://localhost:8080/",
          "height": 206
        },
        "id": "awwOQtGDkUM0",
        "outputId": "712ac399-fcfc-4a06-af09-535bbf75393c"
      },
      "id": "awwOQtGDkUM0",
      "execution_count": 3,
      "outputs": [
        {
          "output_type": "execute_result",
          "data": {
            "text/plain": [
              "      TV  Radio  Newspaper  Sales\n",
              "0  230.1   37.8       69.2   22.1\n",
              "1   44.5   39.3       45.1   10.4\n",
              "2   17.2   45.9       69.3   12.0\n",
              "3  151.5   41.3       58.5   16.5\n",
              "4  180.8   10.8       58.4   17.9"
            ],
            "text/html": [
              "\n",
              "  <div id=\"df-b866157a-d486-461e-9716-06caff5d31fe\" class=\"colab-df-container\">\n",
              "    <div>\n",
              "<style scoped>\n",
              "    .dataframe tbody tr th:only-of-type {\n",
              "        vertical-align: middle;\n",
              "    }\n",
              "\n",
              "    .dataframe tbody tr th {\n",
              "        vertical-align: top;\n",
              "    }\n",
              "\n",
              "    .dataframe thead th {\n",
              "        text-align: right;\n",
              "    }\n",
              "</style>\n",
              "<table border=\"1\" class=\"dataframe\">\n",
              "  <thead>\n",
              "    <tr style=\"text-align: right;\">\n",
              "      <th></th>\n",
              "      <th>TV</th>\n",
              "      <th>Radio</th>\n",
              "      <th>Newspaper</th>\n",
              "      <th>Sales</th>\n",
              "    </tr>\n",
              "  </thead>\n",
              "  <tbody>\n",
              "    <tr>\n",
              "      <th>0</th>\n",
              "      <td>230.1</td>\n",
              "      <td>37.8</td>\n",
              "      <td>69.2</td>\n",
              "      <td>22.1</td>\n",
              "    </tr>\n",
              "    <tr>\n",
              "      <th>1</th>\n",
              "      <td>44.5</td>\n",
              "      <td>39.3</td>\n",
              "      <td>45.1</td>\n",
              "      <td>10.4</td>\n",
              "    </tr>\n",
              "    <tr>\n",
              "      <th>2</th>\n",
              "      <td>17.2</td>\n",
              "      <td>45.9</td>\n",
              "      <td>69.3</td>\n",
              "      <td>12.0</td>\n",
              "    </tr>\n",
              "    <tr>\n",
              "      <th>3</th>\n",
              "      <td>151.5</td>\n",
              "      <td>41.3</td>\n",
              "      <td>58.5</td>\n",
              "      <td>16.5</td>\n",
              "    </tr>\n",
              "    <tr>\n",
              "      <th>4</th>\n",
              "      <td>180.8</td>\n",
              "      <td>10.8</td>\n",
              "      <td>58.4</td>\n",
              "      <td>17.9</td>\n",
              "    </tr>\n",
              "  </tbody>\n",
              "</table>\n",
              "</div>\n",
              "    <div class=\"colab-df-buttons\">\n",
              "\n",
              "  <div class=\"colab-df-container\">\n",
              "    <button class=\"colab-df-convert\" onclick=\"convertToInteractive('df-b866157a-d486-461e-9716-06caff5d31fe')\"\n",
              "            title=\"Convert this dataframe to an interactive table.\"\n",
              "            style=\"display:none;\">\n",
              "\n",
              "  <svg xmlns=\"http://www.w3.org/2000/svg\" height=\"24px\" viewBox=\"0 -960 960 960\">\n",
              "    <path d=\"M120-120v-720h720v720H120Zm60-500h600v-160H180v160Zm220 220h160v-160H400v160Zm0 220h160v-160H400v160ZM180-400h160v-160H180v160Zm440 0h160v-160H620v160ZM180-180h160v-160H180v160Zm440 0h160v-160H620v160Z\"/>\n",
              "  </svg>\n",
              "    </button>\n",
              "\n",
              "  <style>\n",
              "    .colab-df-container {\n",
              "      display:flex;\n",
              "      gap: 12px;\n",
              "    }\n",
              "\n",
              "    .colab-df-convert {\n",
              "      background-color: #E8F0FE;\n",
              "      border: none;\n",
              "      border-radius: 50%;\n",
              "      cursor: pointer;\n",
              "      display: none;\n",
              "      fill: #1967D2;\n",
              "      height: 32px;\n",
              "      padding: 0 0 0 0;\n",
              "      width: 32px;\n",
              "    }\n",
              "\n",
              "    .colab-df-convert:hover {\n",
              "      background-color: #E2EBFA;\n",
              "      box-shadow: 0px 1px 2px rgba(60, 64, 67, 0.3), 0px 1px 3px 1px rgba(60, 64, 67, 0.15);\n",
              "      fill: #174EA6;\n",
              "    }\n",
              "\n",
              "    .colab-df-buttons div {\n",
              "      margin-bottom: 4px;\n",
              "    }\n",
              "\n",
              "    [theme=dark] .colab-df-convert {\n",
              "      background-color: #3B4455;\n",
              "      fill: #D2E3FC;\n",
              "    }\n",
              "\n",
              "    [theme=dark] .colab-df-convert:hover {\n",
              "      background-color: #434B5C;\n",
              "      box-shadow: 0px 1px 3px 1px rgba(0, 0, 0, 0.15);\n",
              "      filter: drop-shadow(0px 1px 2px rgba(0, 0, 0, 0.3));\n",
              "      fill: #FFFFFF;\n",
              "    }\n",
              "  </style>\n",
              "\n",
              "    <script>\n",
              "      const buttonEl =\n",
              "        document.querySelector('#df-b866157a-d486-461e-9716-06caff5d31fe button.colab-df-convert');\n",
              "      buttonEl.style.display =\n",
              "        google.colab.kernel.accessAllowed ? 'block' : 'none';\n",
              "\n",
              "      async function convertToInteractive(key) {\n",
              "        const element = document.querySelector('#df-b866157a-d486-461e-9716-06caff5d31fe');\n",
              "        const dataTable =\n",
              "          await google.colab.kernel.invokeFunction('convertToInteractive',\n",
              "                                                    [key], {});\n",
              "        if (!dataTable) return;\n",
              "\n",
              "        const docLinkHtml = 'Like what you see? Visit the ' +\n",
              "          '<a target=\"_blank\" href=https://colab.research.google.com/notebooks/data_table.ipynb>data table notebook</a>'\n",
              "          + ' to learn more about interactive tables.';\n",
              "        element.innerHTML = '';\n",
              "        dataTable['output_type'] = 'display_data';\n",
              "        await google.colab.output.renderOutput(dataTable, element);\n",
              "        const docLink = document.createElement('div');\n",
              "        docLink.innerHTML = docLinkHtml;\n",
              "        element.appendChild(docLink);\n",
              "      }\n",
              "    </script>\n",
              "  </div>\n",
              "\n",
              "\n",
              "<div id=\"df-e699b06d-8b48-47ba-aef3-c052a7488a7b\">\n",
              "  <button class=\"colab-df-quickchart\" onclick=\"quickchart('df-e699b06d-8b48-47ba-aef3-c052a7488a7b')\"\n",
              "            title=\"Suggest charts\"\n",
              "            style=\"display:none;\">\n",
              "\n",
              "<svg xmlns=\"http://www.w3.org/2000/svg\" height=\"24px\"viewBox=\"0 0 24 24\"\n",
              "     width=\"24px\">\n",
              "    <g>\n",
              "        <path d=\"M19 3H5c-1.1 0-2 .9-2 2v14c0 1.1.9 2 2 2h14c1.1 0 2-.9 2-2V5c0-1.1-.9-2-2-2zM9 17H7v-7h2v7zm4 0h-2V7h2v10zm4 0h-2v-4h2v4z\"/>\n",
              "    </g>\n",
              "</svg>\n",
              "  </button>\n",
              "\n",
              "<style>\n",
              "  .colab-df-quickchart {\n",
              "      --bg-color: #E8F0FE;\n",
              "      --fill-color: #1967D2;\n",
              "      --hover-bg-color: #E2EBFA;\n",
              "      --hover-fill-color: #174EA6;\n",
              "      --disabled-fill-color: #AAA;\n",
              "      --disabled-bg-color: #DDD;\n",
              "  }\n",
              "\n",
              "  [theme=dark] .colab-df-quickchart {\n",
              "      --bg-color: #3B4455;\n",
              "      --fill-color: #D2E3FC;\n",
              "      --hover-bg-color: #434B5C;\n",
              "      --hover-fill-color: #FFFFFF;\n",
              "      --disabled-bg-color: #3B4455;\n",
              "      --disabled-fill-color: #666;\n",
              "  }\n",
              "\n",
              "  .colab-df-quickchart {\n",
              "    background-color: var(--bg-color);\n",
              "    border: none;\n",
              "    border-radius: 50%;\n",
              "    cursor: pointer;\n",
              "    display: none;\n",
              "    fill: var(--fill-color);\n",
              "    height: 32px;\n",
              "    padding: 0;\n",
              "    width: 32px;\n",
              "  }\n",
              "\n",
              "  .colab-df-quickchart:hover {\n",
              "    background-color: var(--hover-bg-color);\n",
              "    box-shadow: 0 1px 2px rgba(60, 64, 67, 0.3), 0 1px 3px 1px rgba(60, 64, 67, 0.15);\n",
              "    fill: var(--button-hover-fill-color);\n",
              "  }\n",
              "\n",
              "  .colab-df-quickchart-complete:disabled,\n",
              "  .colab-df-quickchart-complete:disabled:hover {\n",
              "    background-color: var(--disabled-bg-color);\n",
              "    fill: var(--disabled-fill-color);\n",
              "    box-shadow: none;\n",
              "  }\n",
              "\n",
              "  .colab-df-spinner {\n",
              "    border: 2px solid var(--fill-color);\n",
              "    border-color: transparent;\n",
              "    border-bottom-color: var(--fill-color);\n",
              "    animation:\n",
              "      spin 1s steps(1) infinite;\n",
              "  }\n",
              "\n",
              "  @keyframes spin {\n",
              "    0% {\n",
              "      border-color: transparent;\n",
              "      border-bottom-color: var(--fill-color);\n",
              "      border-left-color: var(--fill-color);\n",
              "    }\n",
              "    20% {\n",
              "      border-color: transparent;\n",
              "      border-left-color: var(--fill-color);\n",
              "      border-top-color: var(--fill-color);\n",
              "    }\n",
              "    30% {\n",
              "      border-color: transparent;\n",
              "      border-left-color: var(--fill-color);\n",
              "      border-top-color: var(--fill-color);\n",
              "      border-right-color: var(--fill-color);\n",
              "    }\n",
              "    40% {\n",
              "      border-color: transparent;\n",
              "      border-right-color: var(--fill-color);\n",
              "      border-top-color: var(--fill-color);\n",
              "    }\n",
              "    60% {\n",
              "      border-color: transparent;\n",
              "      border-right-color: var(--fill-color);\n",
              "    }\n",
              "    80% {\n",
              "      border-color: transparent;\n",
              "      border-right-color: var(--fill-color);\n",
              "      border-bottom-color: var(--fill-color);\n",
              "    }\n",
              "    90% {\n",
              "      border-color: transparent;\n",
              "      border-bottom-color: var(--fill-color);\n",
              "    }\n",
              "  }\n",
              "</style>\n",
              "\n",
              "  <script>\n",
              "    async function quickchart(key) {\n",
              "      const quickchartButtonEl =\n",
              "        document.querySelector('#' + key + ' button');\n",
              "      quickchartButtonEl.disabled = true;  // To prevent multiple clicks.\n",
              "      quickchartButtonEl.classList.add('colab-df-spinner');\n",
              "      try {\n",
              "        const charts = await google.colab.kernel.invokeFunction(\n",
              "            'suggestCharts', [key], {});\n",
              "      } catch (error) {\n",
              "        console.error('Error during call to suggestCharts:', error);\n",
              "      }\n",
              "      quickchartButtonEl.classList.remove('colab-df-spinner');\n",
              "      quickchartButtonEl.classList.add('colab-df-quickchart-complete');\n",
              "    }\n",
              "    (() => {\n",
              "      let quickchartButtonEl =\n",
              "        document.querySelector('#df-e699b06d-8b48-47ba-aef3-c052a7488a7b button');\n",
              "      quickchartButtonEl.style.display =\n",
              "        google.colab.kernel.accessAllowed ? 'block' : 'none';\n",
              "    })();\n",
              "  </script>\n",
              "</div>\n",
              "\n",
              "    </div>\n",
              "  </div>\n"
            ],
            "application/vnd.google.colaboratory.intrinsic+json": {
              "type": "dataframe",
              "variable_name": "df",
              "summary": "{\n  \"name\": \"df\",\n  \"rows\": 200,\n  \"fields\": [\n    {\n      \"column\": \"TV\",\n      \"properties\": {\n        \"dtype\": \"number\",\n        \"std\": 85.8542363149081,\n        \"min\": 0.7,\n        \"max\": 296.4,\n        \"num_unique_values\": 190,\n        \"samples\": [\n          287.6,\n          286.0,\n          78.2\n        ],\n        \"semantic_type\": \"\",\n        \"description\": \"\"\n      }\n    },\n    {\n      \"column\": \"Radio\",\n      \"properties\": {\n        \"dtype\": \"number\",\n        \"std\": 14.846809176168723,\n        \"min\": 0.0,\n        \"max\": 49.6,\n        \"num_unique_values\": 167,\n        \"samples\": [\n          8.2,\n          36.9,\n          44.5\n        ],\n        \"semantic_type\": \"\",\n        \"description\": \"\"\n      }\n    },\n    {\n      \"column\": \"Newspaper\",\n      \"properties\": {\n        \"dtype\": \"number\",\n        \"std\": 21.778620838522833,\n        \"min\": 0.3,\n        \"max\": 114.0,\n        \"num_unique_values\": 172,\n        \"samples\": [\n          22.3,\n          5.7,\n          17.0\n        ],\n        \"semantic_type\": \"\",\n        \"description\": \"\"\n      }\n    },\n    {\n      \"column\": \"Sales\",\n      \"properties\": {\n        \"dtype\": \"number\",\n        \"std\": 5.283892252561874,\n        \"min\": 1.6,\n        \"max\": 27.0,\n        \"num_unique_values\": 121,\n        \"samples\": [\n          19.8,\n          22.6,\n          17.9\n        ],\n        \"semantic_type\": \"\",\n        \"description\": \"\"\n      }\n    }\n  ]\n}"
            }
          },
          "metadata": {},
          "execution_count": 3
        }
      ]
    },
    {
      "cell_type": "markdown",
      "source": [
        "**4. Describe estadísticamente las variables**"
      ],
      "metadata": {
        "id": "CGVJYE7RkgDT"
      },
      "id": "CGVJYE7RkgDT"
    },
    {
      "cell_type": "code",
      "source": [
        "df.describe()"
      ],
      "metadata": {
        "colab": {
          "base_uri": "https://localhost:8080/",
          "height": 300
        },
        "id": "IJTo8H6TkhVX",
        "outputId": "69d192e4-de83-4f25-f86b-7dd3171af17f"
      },
      "id": "IJTo8H6TkhVX",
      "execution_count": 4,
      "outputs": [
        {
          "output_type": "execute_result",
          "data": {
            "text/plain": [
              "               TV       Radio   Newspaper       Sales\n",
              "count  200.000000  200.000000  200.000000  200.000000\n",
              "mean   147.042500   23.264000   30.554000   15.130500\n",
              "std     85.854236   14.846809   21.778621    5.283892\n",
              "min      0.700000    0.000000    0.300000    1.600000\n",
              "25%     74.375000    9.975000   12.750000   11.000000\n",
              "50%    149.750000   22.900000   25.750000   16.000000\n",
              "75%    218.825000   36.525000   45.100000   19.050000\n",
              "max    296.400000   49.600000  114.000000   27.000000"
            ],
            "text/html": [
              "\n",
              "  <div id=\"df-95c95cf2-424a-4c3e-8be8-cd2bd2866397\" class=\"colab-df-container\">\n",
              "    <div>\n",
              "<style scoped>\n",
              "    .dataframe tbody tr th:only-of-type {\n",
              "        vertical-align: middle;\n",
              "    }\n",
              "\n",
              "    .dataframe tbody tr th {\n",
              "        vertical-align: top;\n",
              "    }\n",
              "\n",
              "    .dataframe thead th {\n",
              "        text-align: right;\n",
              "    }\n",
              "</style>\n",
              "<table border=\"1\" class=\"dataframe\">\n",
              "  <thead>\n",
              "    <tr style=\"text-align: right;\">\n",
              "      <th></th>\n",
              "      <th>TV</th>\n",
              "      <th>Radio</th>\n",
              "      <th>Newspaper</th>\n",
              "      <th>Sales</th>\n",
              "    </tr>\n",
              "  </thead>\n",
              "  <tbody>\n",
              "    <tr>\n",
              "      <th>count</th>\n",
              "      <td>200.000000</td>\n",
              "      <td>200.000000</td>\n",
              "      <td>200.000000</td>\n",
              "      <td>200.000000</td>\n",
              "    </tr>\n",
              "    <tr>\n",
              "      <th>mean</th>\n",
              "      <td>147.042500</td>\n",
              "      <td>23.264000</td>\n",
              "      <td>30.554000</td>\n",
              "      <td>15.130500</td>\n",
              "    </tr>\n",
              "    <tr>\n",
              "      <th>std</th>\n",
              "      <td>85.854236</td>\n",
              "      <td>14.846809</td>\n",
              "      <td>21.778621</td>\n",
              "      <td>5.283892</td>\n",
              "    </tr>\n",
              "    <tr>\n",
              "      <th>min</th>\n",
              "      <td>0.700000</td>\n",
              "      <td>0.000000</td>\n",
              "      <td>0.300000</td>\n",
              "      <td>1.600000</td>\n",
              "    </tr>\n",
              "    <tr>\n",
              "      <th>25%</th>\n",
              "      <td>74.375000</td>\n",
              "      <td>9.975000</td>\n",
              "      <td>12.750000</td>\n",
              "      <td>11.000000</td>\n",
              "    </tr>\n",
              "    <tr>\n",
              "      <th>50%</th>\n",
              "      <td>149.750000</td>\n",
              "      <td>22.900000</td>\n",
              "      <td>25.750000</td>\n",
              "      <td>16.000000</td>\n",
              "    </tr>\n",
              "    <tr>\n",
              "      <th>75%</th>\n",
              "      <td>218.825000</td>\n",
              "      <td>36.525000</td>\n",
              "      <td>45.100000</td>\n",
              "      <td>19.050000</td>\n",
              "    </tr>\n",
              "    <tr>\n",
              "      <th>max</th>\n",
              "      <td>296.400000</td>\n",
              "      <td>49.600000</td>\n",
              "      <td>114.000000</td>\n",
              "      <td>27.000000</td>\n",
              "    </tr>\n",
              "  </tbody>\n",
              "</table>\n",
              "</div>\n",
              "    <div class=\"colab-df-buttons\">\n",
              "\n",
              "  <div class=\"colab-df-container\">\n",
              "    <button class=\"colab-df-convert\" onclick=\"convertToInteractive('df-95c95cf2-424a-4c3e-8be8-cd2bd2866397')\"\n",
              "            title=\"Convert this dataframe to an interactive table.\"\n",
              "            style=\"display:none;\">\n",
              "\n",
              "  <svg xmlns=\"http://www.w3.org/2000/svg\" height=\"24px\" viewBox=\"0 -960 960 960\">\n",
              "    <path d=\"M120-120v-720h720v720H120Zm60-500h600v-160H180v160Zm220 220h160v-160H400v160Zm0 220h160v-160H400v160ZM180-400h160v-160H180v160Zm440 0h160v-160H620v160ZM180-180h160v-160H180v160Zm440 0h160v-160H620v160Z\"/>\n",
              "  </svg>\n",
              "    </button>\n",
              "\n",
              "  <style>\n",
              "    .colab-df-container {\n",
              "      display:flex;\n",
              "      gap: 12px;\n",
              "    }\n",
              "\n",
              "    .colab-df-convert {\n",
              "      background-color: #E8F0FE;\n",
              "      border: none;\n",
              "      border-radius: 50%;\n",
              "      cursor: pointer;\n",
              "      display: none;\n",
              "      fill: #1967D2;\n",
              "      height: 32px;\n",
              "      padding: 0 0 0 0;\n",
              "      width: 32px;\n",
              "    }\n",
              "\n",
              "    .colab-df-convert:hover {\n",
              "      background-color: #E2EBFA;\n",
              "      box-shadow: 0px 1px 2px rgba(60, 64, 67, 0.3), 0px 1px 3px 1px rgba(60, 64, 67, 0.15);\n",
              "      fill: #174EA6;\n",
              "    }\n",
              "\n",
              "    .colab-df-buttons div {\n",
              "      margin-bottom: 4px;\n",
              "    }\n",
              "\n",
              "    [theme=dark] .colab-df-convert {\n",
              "      background-color: #3B4455;\n",
              "      fill: #D2E3FC;\n",
              "    }\n",
              "\n",
              "    [theme=dark] .colab-df-convert:hover {\n",
              "      background-color: #434B5C;\n",
              "      box-shadow: 0px 1px 3px 1px rgba(0, 0, 0, 0.15);\n",
              "      filter: drop-shadow(0px 1px 2px rgba(0, 0, 0, 0.3));\n",
              "      fill: #FFFFFF;\n",
              "    }\n",
              "  </style>\n",
              "\n",
              "    <script>\n",
              "      const buttonEl =\n",
              "        document.querySelector('#df-95c95cf2-424a-4c3e-8be8-cd2bd2866397 button.colab-df-convert');\n",
              "      buttonEl.style.display =\n",
              "        google.colab.kernel.accessAllowed ? 'block' : 'none';\n",
              "\n",
              "      async function convertToInteractive(key) {\n",
              "        const element = document.querySelector('#df-95c95cf2-424a-4c3e-8be8-cd2bd2866397');\n",
              "        const dataTable =\n",
              "          await google.colab.kernel.invokeFunction('convertToInteractive',\n",
              "                                                    [key], {});\n",
              "        if (!dataTable) return;\n",
              "\n",
              "        const docLinkHtml = 'Like what you see? Visit the ' +\n",
              "          '<a target=\"_blank\" href=https://colab.research.google.com/notebooks/data_table.ipynb>data table notebook</a>'\n",
              "          + ' to learn more about interactive tables.';\n",
              "        element.innerHTML = '';\n",
              "        dataTable['output_type'] = 'display_data';\n",
              "        await google.colab.output.renderOutput(dataTable, element);\n",
              "        const docLink = document.createElement('div');\n",
              "        docLink.innerHTML = docLinkHtml;\n",
              "        element.appendChild(docLink);\n",
              "      }\n",
              "    </script>\n",
              "  </div>\n",
              "\n",
              "\n",
              "<div id=\"df-16b186f7-0b77-4bb8-a5c9-eea2a55d667a\">\n",
              "  <button class=\"colab-df-quickchart\" onclick=\"quickchart('df-16b186f7-0b77-4bb8-a5c9-eea2a55d667a')\"\n",
              "            title=\"Suggest charts\"\n",
              "            style=\"display:none;\">\n",
              "\n",
              "<svg xmlns=\"http://www.w3.org/2000/svg\" height=\"24px\"viewBox=\"0 0 24 24\"\n",
              "     width=\"24px\">\n",
              "    <g>\n",
              "        <path d=\"M19 3H5c-1.1 0-2 .9-2 2v14c0 1.1.9 2 2 2h14c1.1 0 2-.9 2-2V5c0-1.1-.9-2-2-2zM9 17H7v-7h2v7zm4 0h-2V7h2v10zm4 0h-2v-4h2v4z\"/>\n",
              "    </g>\n",
              "</svg>\n",
              "  </button>\n",
              "\n",
              "<style>\n",
              "  .colab-df-quickchart {\n",
              "      --bg-color: #E8F0FE;\n",
              "      --fill-color: #1967D2;\n",
              "      --hover-bg-color: #E2EBFA;\n",
              "      --hover-fill-color: #174EA6;\n",
              "      --disabled-fill-color: #AAA;\n",
              "      --disabled-bg-color: #DDD;\n",
              "  }\n",
              "\n",
              "  [theme=dark] .colab-df-quickchart {\n",
              "      --bg-color: #3B4455;\n",
              "      --fill-color: #D2E3FC;\n",
              "      --hover-bg-color: #434B5C;\n",
              "      --hover-fill-color: #FFFFFF;\n",
              "      --disabled-bg-color: #3B4455;\n",
              "      --disabled-fill-color: #666;\n",
              "  }\n",
              "\n",
              "  .colab-df-quickchart {\n",
              "    background-color: var(--bg-color);\n",
              "    border: none;\n",
              "    border-radius: 50%;\n",
              "    cursor: pointer;\n",
              "    display: none;\n",
              "    fill: var(--fill-color);\n",
              "    height: 32px;\n",
              "    padding: 0;\n",
              "    width: 32px;\n",
              "  }\n",
              "\n",
              "  .colab-df-quickchart:hover {\n",
              "    background-color: var(--hover-bg-color);\n",
              "    box-shadow: 0 1px 2px rgba(60, 64, 67, 0.3), 0 1px 3px 1px rgba(60, 64, 67, 0.15);\n",
              "    fill: var(--button-hover-fill-color);\n",
              "  }\n",
              "\n",
              "  .colab-df-quickchart-complete:disabled,\n",
              "  .colab-df-quickchart-complete:disabled:hover {\n",
              "    background-color: var(--disabled-bg-color);\n",
              "    fill: var(--disabled-fill-color);\n",
              "    box-shadow: none;\n",
              "  }\n",
              "\n",
              "  .colab-df-spinner {\n",
              "    border: 2px solid var(--fill-color);\n",
              "    border-color: transparent;\n",
              "    border-bottom-color: var(--fill-color);\n",
              "    animation:\n",
              "      spin 1s steps(1) infinite;\n",
              "  }\n",
              "\n",
              "  @keyframes spin {\n",
              "    0% {\n",
              "      border-color: transparent;\n",
              "      border-bottom-color: var(--fill-color);\n",
              "      border-left-color: var(--fill-color);\n",
              "    }\n",
              "    20% {\n",
              "      border-color: transparent;\n",
              "      border-left-color: var(--fill-color);\n",
              "      border-top-color: var(--fill-color);\n",
              "    }\n",
              "    30% {\n",
              "      border-color: transparent;\n",
              "      border-left-color: var(--fill-color);\n",
              "      border-top-color: var(--fill-color);\n",
              "      border-right-color: var(--fill-color);\n",
              "    }\n",
              "    40% {\n",
              "      border-color: transparent;\n",
              "      border-right-color: var(--fill-color);\n",
              "      border-top-color: var(--fill-color);\n",
              "    }\n",
              "    60% {\n",
              "      border-color: transparent;\n",
              "      border-right-color: var(--fill-color);\n",
              "    }\n",
              "    80% {\n",
              "      border-color: transparent;\n",
              "      border-right-color: var(--fill-color);\n",
              "      border-bottom-color: var(--fill-color);\n",
              "    }\n",
              "    90% {\n",
              "      border-color: transparent;\n",
              "      border-bottom-color: var(--fill-color);\n",
              "    }\n",
              "  }\n",
              "</style>\n",
              "\n",
              "  <script>\n",
              "    async function quickchart(key) {\n",
              "      const quickchartButtonEl =\n",
              "        document.querySelector('#' + key + ' button');\n",
              "      quickchartButtonEl.disabled = true;  // To prevent multiple clicks.\n",
              "      quickchartButtonEl.classList.add('colab-df-spinner');\n",
              "      try {\n",
              "        const charts = await google.colab.kernel.invokeFunction(\n",
              "            'suggestCharts', [key], {});\n",
              "      } catch (error) {\n",
              "        console.error('Error during call to suggestCharts:', error);\n",
              "      }\n",
              "      quickchartButtonEl.classList.remove('colab-df-spinner');\n",
              "      quickchartButtonEl.classList.add('colab-df-quickchart-complete');\n",
              "    }\n",
              "    (() => {\n",
              "      let quickchartButtonEl =\n",
              "        document.querySelector('#df-16b186f7-0b77-4bb8-a5c9-eea2a55d667a button');\n",
              "      quickchartButtonEl.style.display =\n",
              "        google.colab.kernel.accessAllowed ? 'block' : 'none';\n",
              "    })();\n",
              "  </script>\n",
              "</div>\n",
              "\n",
              "    </div>\n",
              "  </div>\n"
            ],
            "application/vnd.google.colaboratory.intrinsic+json": {
              "type": "dataframe",
              "summary": "{\n  \"name\": \"df\",\n  \"rows\": 8,\n  \"fields\": [\n    {\n      \"column\": \"TV\",\n      \"properties\": {\n        \"dtype\": \"number\",\n        \"std\": 93.12930693433862,\n        \"min\": 0.7,\n        \"max\": 296.4,\n        \"num_unique_values\": 8,\n        \"samples\": [\n          147.0425,\n          149.75,\n          200.0\n        ],\n        \"semantic_type\": \"\",\n        \"description\": \"\"\n      }\n    },\n    {\n      \"column\": \"Radio\",\n      \"properties\": {\n        \"dtype\": \"number\",\n        \"std\": 64.62946191825954,\n        \"min\": 0.0,\n        \"max\": 200.0,\n        \"num_unique_values\": 8,\n        \"samples\": [\n          23.264000000000006,\n          22.9,\n          200.0\n        ],\n        \"semantic_type\": \"\",\n        \"description\": \"\"\n      }\n    },\n    {\n      \"column\": \"Newspaper\",\n      \"properties\": {\n        \"dtype\": \"number\",\n        \"std\": 67.53295876114069,\n        \"min\": 0.3,\n        \"max\": 200.0,\n        \"num_unique_values\": 8,\n        \"samples\": [\n          30.553999999999995,\n          25.75,\n          200.0\n        ],\n        \"semantic_type\": \"\",\n        \"description\": \"\"\n      }\n    },\n    {\n      \"column\": \"Sales\",\n      \"properties\": {\n        \"dtype\": \"number\",\n        \"std\": 66.381408327359,\n        \"min\": 1.6,\n        \"max\": 200.0,\n        \"num_unique_values\": 8,\n        \"samples\": [\n          15.130500000000001,\n          16.0,\n          200.0\n        ],\n        \"semantic_type\": \"\",\n        \"description\": \"\"\n      }\n    }\n  ]\n}"
            }
          },
          "metadata": {},
          "execution_count": 4
        }
      ]
    },
    {
      "cell_type": "code",
      "source": [
        "TV_moda = df['TV'].mode().iloc[0]\n",
        "Radio_moda = df['Radio'].mode().iloc[0]\n",
        "Newspaper_moda = df['Newspaper'].mode().iloc[0]\n",
        "Sales_moda = df['Sales'].mode().iloc[0]\n",
        "\n",
        "TV_mediana = df['TV'].median()\n",
        "Radio_mediana = df['Radio'].median()\n",
        "Newspaper_mediana = df['Newspaper'].median()\n",
        "Sales_mediana = df['Sales'].median()\n",
        "\n",
        "TV_Rango = df['TV'].max() - df['TV'].min()\n",
        "Radio_Rango = df['Radio'].max() - df['Radio'].min()\n",
        "Newspaper_Rango = df['Newspaper'].max() - df['Newspaper'].min()\n",
        "Sales_Rango = df['Sales'].max() - df['Sales'].min()\n",
        "\n",
        "TV_varianza = df['TV'].var()\n",
        "Radio_varianza = df['Radio'].var()\n",
        "Newspaper_varianza = df['Newspaper'].var()\n",
        "Sales_varianza = df['Sales'].var()\n",
        "\n",
        "print(\"Moda:\")\n",
        "print(\"TV:\", TV_moda)\n",
        "print(\"Radio:\", Radio_moda)\n",
        "print(\"Newspaper:\", Newspaper_moda)\n",
        "print(\"Sales:\", Sales_moda)\n",
        "\n",
        "print(\"\\n\")\n",
        "\n",
        "print(\"Mediana:\")\n",
        "print(\"TV:\", TV_mediana)\n",
        "print(\"Radio:\", Radio_mediana)\n",
        "print(\"Newspaper:\", Newspaper_mediana)\n",
        "print(\"Sales:\", Sales_mediana)\n",
        "\n",
        "print(\"\\n\")\n",
        "\n",
        "print(\"Rango:\")\n",
        "print(\"TV:\", TV_Rango)\n",
        "print(\"Radio:\", Radio_Rango)\n",
        "print(\"Newspaper:\", Newspaper_Rango)\n",
        "print(\"Sales:\", Sales_Rango)\n",
        "\n",
        "print(\"\\n\")\n",
        "\n",
        "print(\"Varianza:\")\n",
        "print(f\"TV: {TV_varianza:.4f}\")\n",
        "print(f\"Radio: {Radio_varianza:.4f}\")\n",
        "print(f\"Newspaper: {Newspaper_varianza:.4f}\")\n",
        "print(f\"Sales: {Sales_varianza:.4f}\")"
      ],
      "metadata": {
        "colab": {
          "base_uri": "https://localhost:8080/"
        },
        "id": "jAlJi9XfmLD8",
        "outputId": "56551cd6-a5be-49b3-cd7c-723499db5e57"
      },
      "id": "jAlJi9XfmLD8",
      "execution_count": 11,
      "outputs": [
        {
          "output_type": "stream",
          "name": "stdout",
          "text": [
            "Moda:\n",
            "TV: 17.2\n",
            "Radio: 4.1\n",
            "Newspaper: 8.7\n",
            "Sales: 11.9\n",
            "\n",
            "\n",
            "Mediana:\n",
            "TV: 149.75\n",
            "Radio: 22.9\n",
            "Newspaper: 25.75\n",
            "Sales: 16.0\n",
            "\n",
            "\n",
            "Rango:\n",
            "TV: 295.7\n",
            "Radio: 49.6\n",
            "Newspaper: 113.7\n",
            "Sales: 25.4\n",
            "\n",
            "\n",
            "Varianza:\n",
            "TV: 7370.9499\n",
            "Radio: 220.4277\n",
            "Newspaper: 474.3083\n",
            "Sales: 27.9195\n"
          ]
        }
      ]
    },
    {
      "cell_type": "code",
      "source": [
        "df.dtypes"
      ],
      "metadata": {
        "colab": {
          "base_uri": "https://localhost:8080/",
          "height": 209
        },
        "id": "MayPlMcepD3-",
        "outputId": "b3edcf11-75ee-4a01-abdf-f03a8ea7d891"
      },
      "id": "MayPlMcepD3-",
      "execution_count": 12,
      "outputs": [
        {
          "output_type": "execute_result",
          "data": {
            "text/plain": [
              "TV           float64\n",
              "Radio        float64\n",
              "Newspaper    float64\n",
              "Sales        float64\n",
              "dtype: object"
            ],
            "text/html": [
              "<div>\n",
              "<style scoped>\n",
              "    .dataframe tbody tr th:only-of-type {\n",
              "        vertical-align: middle;\n",
              "    }\n",
              "\n",
              "    .dataframe tbody tr th {\n",
              "        vertical-align: top;\n",
              "    }\n",
              "\n",
              "    .dataframe thead th {\n",
              "        text-align: right;\n",
              "    }\n",
              "</style>\n",
              "<table border=\"1\" class=\"dataframe\">\n",
              "  <thead>\n",
              "    <tr style=\"text-align: right;\">\n",
              "      <th></th>\n",
              "      <th>0</th>\n",
              "    </tr>\n",
              "  </thead>\n",
              "  <tbody>\n",
              "    <tr>\n",
              "      <th>TV</th>\n",
              "      <td>float64</td>\n",
              "    </tr>\n",
              "    <tr>\n",
              "      <th>Radio</th>\n",
              "      <td>float64</td>\n",
              "    </tr>\n",
              "    <tr>\n",
              "      <th>Newspaper</th>\n",
              "      <td>float64</td>\n",
              "    </tr>\n",
              "    <tr>\n",
              "      <th>Sales</th>\n",
              "      <td>float64</td>\n",
              "    </tr>\n",
              "  </tbody>\n",
              "</table>\n",
              "</div><br><label><b>dtype:</b> object</label>"
            ]
          },
          "metadata": {},
          "execution_count": 12
        }
      ]
    },
    {
      "cell_type": "code",
      "source": [
        "df.isnull().sum()"
      ],
      "metadata": {
        "colab": {
          "base_uri": "https://localhost:8080/",
          "height": 209
        },
        "id": "ZPou3r2QpJGE",
        "outputId": "31515681-f2b9-494c-9334-e57891ef667e"
      },
      "id": "ZPou3r2QpJGE",
      "execution_count": 13,
      "outputs": [
        {
          "output_type": "execute_result",
          "data": {
            "text/plain": [
              "TV           0\n",
              "Radio        0\n",
              "Newspaper    0\n",
              "Sales        0\n",
              "dtype: int64"
            ],
            "text/html": [
              "<div>\n",
              "<style scoped>\n",
              "    .dataframe tbody tr th:only-of-type {\n",
              "        vertical-align: middle;\n",
              "    }\n",
              "\n",
              "    .dataframe tbody tr th {\n",
              "        vertical-align: top;\n",
              "    }\n",
              "\n",
              "    .dataframe thead th {\n",
              "        text-align: right;\n",
              "    }\n",
              "</style>\n",
              "<table border=\"1\" class=\"dataframe\">\n",
              "  <thead>\n",
              "    <tr style=\"text-align: right;\">\n",
              "      <th></th>\n",
              "      <th>0</th>\n",
              "    </tr>\n",
              "  </thead>\n",
              "  <tbody>\n",
              "    <tr>\n",
              "      <th>TV</th>\n",
              "      <td>0</td>\n",
              "    </tr>\n",
              "    <tr>\n",
              "      <th>Radio</th>\n",
              "      <td>0</td>\n",
              "    </tr>\n",
              "    <tr>\n",
              "      <th>Newspaper</th>\n",
              "      <td>0</td>\n",
              "    </tr>\n",
              "    <tr>\n",
              "      <th>Sales</th>\n",
              "      <td>0</td>\n",
              "    </tr>\n",
              "  </tbody>\n",
              "</table>\n",
              "</div><br><label><b>dtype:</b> int64</label>"
            ]
          },
          "metadata": {},
          "execution_count": 13
        }
      ]
    },
    {
      "cell_type": "markdown",
      "id": "195b349c",
      "metadata": {
        "id": "195b349c"
      },
      "source": [
        "## ***Parte 2: Análisis exploratorio de los datos***\n"
      ]
    },
    {
      "cell_type": "markdown",
      "source": [
        "### **2.1  Análisis de la Relación Lineal entre la variable dependiente y las independientes**"
      ],
      "metadata": {
        "id": "SmmqkWSUqGbQ"
      },
      "id": "SmmqkWSUqGbQ"
    },
    {
      "cell_type": "markdown",
      "source": [
        "**1. Grafica dispersión entre cada variable independiente (`TV`, `Radio`, `Newspaper`) y `Sales`. Usa también regplot**"
      ],
      "metadata": {
        "id": "NYy6oBN-qLCF"
      },
      "id": "NYy6oBN-qLCF"
    },
    {
      "cell_type": "code",
      "execution_count": 15,
      "id": "de360040",
      "metadata": {
        "id": "de360040",
        "colab": {
          "base_uri": "https://localhost:8080/",
          "height": 264
        },
        "outputId": "fcf39e68-0e5a-43b9-c6c0-a8579ff72075"
      },
      "outputs": [
        {
          "output_type": "display_data",
          "data": {
            "text/plain": [
              "<Figure size 1500x1000 with 3 Axes>"
            ],
            "image/png": "[encoded data removed]"
          },
          "metadata": {}
        }
      ],
      "source": [
        "X = df.drop(columns='Sales')\n",
        "y = df['Sales']\n",
        "\n",
        "plt.figure(figsize=(15, 10))\n",
        "for i, col in enumerate(X.columns):\n",
        "    plt.subplot(3, 3, i + 1)\n",
        "    sns.regplot(x = X[col], y = y, scatter_kws={'alpha':0.3}, line_kws={'color': 'red'})\n",
        "    plt.title(f\"Relación entre {col} y Sales\")\n",
        "\n",
        "plt.tight_layout()\n",
        "plt.show()"
      ]
    },
    {
      "cell_type": "markdown",
      "source": [
        "**2. Interpreta visualmente la relación entre variables**\n",
        "\n",
        "La relación entre TV y Sales es tendencia positiva y fuerte, lo que sugiere que es un buen predictor. A mayor raiting, más ventas.\n",
        "\n",
        "La relación entre Radio y Sales es tendencia positiva pero dispersa, existe una gran dispersión de datos. Debe analizar con cuidado.\n",
        "\n",
        "La relación entre Newspaper y Sales es positiva sin embargo no parecer ser un buen predictor debido a que es prácticamente plana y va hacia la baja."
      ],
      "metadata": {
        "id": "lnv8qmVCqSox"
      },
      "id": "lnv8qmVCqSox"
    },
    {
      "cell_type": "markdown",
      "id": "e761bb4c",
      "metadata": {
        "id": "e761bb4c"
      },
      "source": [
        "### **2.2: Correlación entre variables**\n"
      ]
    },
    {
      "cell_type": "markdown",
      "source": [
        "**1. Calcula la matriz de correlación**"
      ],
      "metadata": {
        "id": "X8MtANYNq0KM"
      },
      "id": "X8MtANYNq0KM"
    },
    {
      "cell_type": "code",
      "execution_count": 19,
      "id": "10efd159",
      "metadata": {
        "id": "10efd159",
        "colab": {
          "base_uri": "https://localhost:8080/"
        },
        "outputId": "fd5f15ee-08ce-466a-edb1-9b7b57b3358a"
      },
      "outputs": [
        {
          "output_type": "stream",
          "name": "stdout",
          "text": [
            "                 TV     Radio  Newspaper     Sales\n",
            "TV         1.000000  0.054809   0.056648  0.901208\n",
            "Radio      0.054809  1.000000   0.354104  0.349631\n",
            "Newspaper  0.056648  0.354104   1.000000  0.157960\n",
            "Sales      0.901208  0.349631   0.157960  1.000000\n"
          ]
        }
      ],
      "source": [
        "correlacion = df.corr()\n",
        "print(correlacion)"
      ]
    },
    {
      "cell_type": "markdown",
      "source": [
        "**2. Visualízala con un heatmap**"
      ],
      "metadata": {
        "id": "Z39iY4gcq4Js"
      },
      "id": "Z39iY4gcq4Js"
    },
    {
      "cell_type": "code",
      "source": [
        "plt.figure(figsize=(10, 8))\n",
        "sns.heatmap(correlacion, annot=True, cmap='coolwarm', fmt=\".2f\", cbar=True, linewidths=0.5)\n",
        "plt.title(\"Correlación entre variables\")\n",
        "plt.show()"
      ],
      "metadata": {
        "colab": {
          "base_uri": "https://localhost:8080/",
          "height": 699
        },
        "id": "gTSTKvw7q92k",
        "outputId": "16eaee8f-1da0-4d2f-d484-b3d5f59b9595"
      },
      "id": "gTSTKvw7q92k",
      "execution_count": 20,
      "outputs": [
        {
          "output_type": "display_data",
          "data": {
            "text/plain": [
              "<Figure size 1000x800 with 2 Axes>"
            ],
            "image/png": "[encoded data removed]"
          },
          "metadata": {}
        }
      ]
    },
    {
      "cell_type": "markdown",
      "source": [
        "**3. Responde: ¿Qué variables están más correlacionadas con Sales? ¿Hay correlación alta entre predictores?**\n",
        "\n",
        "Las variables que están altamente correlacionadas son TV y Sales y según los resultados, no hay una correlación alta entre los predictores."
      ],
      "metadata": {
        "id": "dwwjXAYjq-Ut"
      },
      "id": "dwwjXAYjq-Ut"
    },
    {
      "cell_type": "markdown",
      "id": "6d8c747b",
      "metadata": {
        "id": "6d8c747b"
      },
      "source": [
        "## ***Parte 3. Multicolinealidad***\n"
      ]
    },
    {
      "cell_type": "markdown",
      "source": [
        "**1. Calcula el VIF (Variance Inflation Factor) para cada predictor**"
      ],
      "metadata": {
        "id": "MW9JRZQOr3qI"
      },
      "id": "MW9JRZQOr3qI"
    },
    {
      "cell_type": "code",
      "source": [
        "X = add_constant(df.drop(columns=['Sales']))\n",
        "vif_data = pd.DataFrame()\n",
        "vif_data['Variable'] = X.columns\n",
        "vif_data['VIF'] = [variance_inflation_factor(X.values, i) for i in range(X.shape[1])]\n",
        "\n",
        "print(vif_data)"
      ],
      "metadata": {
        "colab": {
          "base_uri": "https://localhost:8080/"
        },
        "id": "Jr0W11o38sSH",
        "outputId": "a42beaa0-65eb-47b1-c8fe-8c362a6cf41b"
      },
      "id": "Jr0W11o38sSH",
      "execution_count": 22,
      "outputs": [
        {
          "output_type": "stream",
          "name": "stdout",
          "text": [
            "    Variable       VIF\n",
            "0      const  6.848900\n",
            "1         TV  1.004611\n",
            "2      Radio  1.144952\n",
            "3  Newspaper  1.145187\n"
          ]
        }
      ]
    },
    {
      "cell_type": "markdown",
      "source": [
        "**2. Crea un diagrama de barras para mostrar el VIF**"
      ],
      "metadata": {
        "id": "fGcMgT3zr9gB"
      },
      "id": "fGcMgT3zr9gB"
    },
    {
      "cell_type": "code",
      "source": [
        "plt.figure(figsize=(10, 6))\n",
        "sns.barplot(x='VIF', y='Variable', data=vif_data, hue='Variable', legend=False)\n",
        "plt.axvline(x=5, color='red', linestyle='--', label='Límite de multicolinealidad (VIF > 5)')\n",
        "plt.xlabel('VIF')\n",
        "plt.title('Multicolinealidad')\n",
        "plt.legend()\n",
        "plt.tight_layout()\n",
        "plt.show()"
      ],
      "metadata": {
        "colab": {
          "base_uri": "https://localhost:8080/",
          "height": 607
        },
        "id": "VRxpPg8qsAtF",
        "outputId": "7a8aec8d-a5d2-48c7-caf0-f9aac0022336"
      },
      "id": "VRxpPg8qsAtF",
      "execution_count": 29,
      "outputs": [
        {
          "output_type": "display_data",
          "data": {
            "text/plain": [
              "<Figure size 1000x600 with 1 Axes>"
            ],
            "image/png": "[encoded data removed]"
          },
          "metadata": {}
        }
      ]
    },
    {
      "cell_type": "markdown",
      "source": [
        "**3. Interpreta si hay multicolinealidad:**\n",
        "\n",
        "\n",
        "*   **¿Alguna variable tiene un VIF mayor a 5 o mayor a 10?**\n",
        "\n",
        "      Según la gráfica, no hay variables con VIF mayor a 5 y mayor a 10.\n",
        "\n",
        "*   **¿Qué implicaciones tiene esto para el modelo?**\n",
        "\n",
        "      Es poco probable que haya inestabilidad en el modelo, como en los coeficientes, varianzas, identificación de predictores y las prediciones sean confiables.\n"
      ],
      "metadata": {
        "id": "7B00DnKcsBZc"
      },
      "id": "7B00DnKcsBZc"
    },
    {
      "cell_type": "markdown",
      "source": [
        "## ***Parte 4: Construcción del Modelo (Todas las variables Independientes), Evaluación***"
      ],
      "metadata": {
        "id": "ecoDawZiUW4_"
      },
      "id": "ecoDawZiUW4_"
    },
    {
      "cell_type": "markdown",
      "source": [
        "###**4.1 Entrenamiento del Modelo (Todas las Variables Independientes)**"
      ],
      "metadata": {
        "id": "Fl_FWwQ7tzqU"
      },
      "id": "Fl_FWwQ7tzqU"
    },
    {
      "cell_type": "markdown",
      "source": [
        "**1. Entrena un modelo de regresión lineal múltiple usando TV, Radio y Newspaper como variables independientes**"
      ],
      "metadata": {
        "id": "jiXdiFMEuA5b"
      },
      "id": "jiXdiFMEuA5b"
    },
    {
      "cell_type": "code",
      "source": [
        "scaler = StandardScaler()\n",
        "X = df[['TV', 'Radio', 'Newspaper']]\n",
        "y = df['Sales']\n",
        "X_scaled = scaler.fit_transform(X)\n",
        "model = LinearRegression()\n",
        "model.fit(X_scaled, y)"
      ],
      "metadata": {
        "colab": {
          "base_uri": "https://localhost:8080/",
          "height": 80
        },
        "id": "SptAuuN7uE9L",
        "outputId": "f4c75204-b1ae-48e2-cab3-4b8d9237ad23"
      },
      "id": "SptAuuN7uE9L",
      "execution_count": 30,
      "outputs": [
        {
          "output_type": "execute_result",
          "data": {
            "text/plain": [
              "LinearRegression()"
            ],
            "text/html": [
              "<style>#sk-container-id-1 {\n",
              "  /* Definition of color scheme common for light and dark mode */\n",
              "  --sklearn-color-text: #000;\n",
              "  --sklearn-color-text-muted: #666;\n",
              "  --sklearn-color-line: gray;\n",
              "  /* Definition of color scheme for unfitted estimators */\n",
              "  --sklearn-color-unfitted-level-0: #fff5e6;\n",
              "  --sklearn-color-unfitted-level-1: #f6e4d2;\n",
              "  --sklearn-color-unfitted-level-2: #ffe0b3;\n",
              "  --sklearn-color-unfitted-level-3: chocolate;\n",
              "  /* Definition of color scheme for fitted estimators */\n",
              "  --sklearn-color-fitted-level-0: #f0f8ff;\n",
              "  --sklearn-color-fitted-level-1: #d4ebff;\n",
              "  --sklearn-color-fitted-level-2: #b3dbfd;\n",
              "  --sklearn-color-fitted-level-3: cornflowerblue;\n",
              "\n",
              "  /* Specific color for light theme */\n",
              "  --sklearn-color-text-on-default-background: var(--sg-text-color, var(--theme-code-foreground, var(--jp-content-font-color1, black)));\n",
              "  --sklearn-color-background: var(--sg-background-color, var(--theme-background, var(--jp-layout-color0, white)));\n",
              "  --sklearn-color-border-box: var(--sg-text-color, var(--theme-code-foreground, var(--jp-content-font-color1, black)));\n",
              "  --sklearn-color-icon: #696969;\n",
              "\n",
              "  @media (prefers-color-scheme: dark) {\n",
              "    /* Redefinition of color scheme for dark theme */\n",
              "    --sklearn-color-text-on-default-background: var(--sg-text-color, var(--theme-code-foreground, var(--jp-content-font-color1, white)));\n",
              "    --sklearn-color-background: var(--sg-background-color, var(--theme-background, var(--jp-layout-color0, #111)));\n",
              "    --sklearn-color-border-box: var(--sg-text-color, var(--theme-code-foreground, var(--jp-content-font-color1, white)));\n",
              "    --sklearn-color-icon: #878787;\n",
              "  }\n",
              "}\n",
              "\n",
              "#sk-container-id-1 {\n",
              "  color: var(--sklearn-color-text);\n",
              "}\n",
              "\n",
              "#sk-container-id-1 pre {\n",
              "  padding: 0;\n",
              "}\n",
              "\n",
              "#sk-container-id-1 input.sk-hidden--visually {\n",
              "  border: 0;\n",
              "  clip: rect(1px 1px 1px 1px);\n",
              "  clip: rect(1px, 1px, 1px, 1px);\n",
              "  height: 1px;\n",
              "  margin: -1px;\n",
              "  overflow: hidden;\n",
              "  padding: 0;\n",
              "  position: absolute;\n",
              "  width: 1px;\n",
              "}\n",
              "\n",
              "#sk-container-id-1 div.sk-dashed-wrapped {\n",
              "  border: 1px dashed var(--sklearn-color-line);\n",
              "  margin: 0 0.4em 0.5em 0.4em;\n",
              "  box-sizing: border-box;\n",
              "  padding-bottom: 0.4em;\n",
              "  background-color: var(--sklearn-color-background);\n",
              "}\n",
              "\n",
              "#sk-container-id-1 div.sk-container {\n",
              "  /* jupyter's `normalize.less` sets `[hidden] { display: none; }`\n",
              "     but bootstrap.min.css set `[hidden] { display: none !important; }`\n",
              "     so we also need the `!important` here to be able to override the\n",
              "     default hidden behavior on the sphinx rendered scikit-learn.org.\n",
              "     See: https://github.com/scikit-learn/scikit-learn/issues/21755 */\n",
              "  display: inline-block !important;\n",
              "  position: relative;\n",
              "}\n",
              "\n",
              "#sk-container-id-1 div.sk-text-repr-fallback {\n",
              "  display: none;\n",
              "}\n",
              "\n",
              "div.sk-parallel-item,\n",
              "div.sk-serial,\n",
              "div.sk-item {\n",
              "  /* draw centered vertical line to link estimators */\n",
              "  background-image: linear-gradient(var(--sklearn-color-text-on-default-background), var(--sklearn-color-text-on-default-background));\n",
              "  background-size: 2px 100%;\n",
              "  background-repeat: no-repeat;\n",
              "  background-position: center center;\n",
              "}\n",
              "\n",
              "/* Parallel-specific style estimator block */\n",
              "\n",
              "#sk-container-id-1 div.sk-parallel-item::after {\n",
              "  content: \"\";\n",
              "  width: 100%;\n",
              "  border-bottom: 2px solid var(--sklearn-color-text-on-default-background);\n",
              "  flex-grow: 1;\n",
              "}\n",
              "\n",
              "#sk-container-id-1 div.sk-parallel {\n",
              "  display: flex;\n",
              "  align-items: stretch;\n",
              "  justify-content: center;\n",
              "  background-color: var(--sklearn-color-background);\n",
              "  position: relative;\n",
              "}\n",
              "\n",
              "#sk-container-id-1 div.sk-parallel-item {\n",
              "  display: flex;\n",
              "  flex-direction: column;\n",
              "}\n",
              "\n",
              "#sk-container-id-1 div.sk-parallel-item:first-child::after {\n",
              "  align-self: flex-end;\n",
              "  width: 50%;\n",
              "}\n",
              "\n",
              "#sk-container-id-1 div.sk-parallel-item:last-child::after {\n",
              "  align-self: flex-start;\n",
              "  width: 50%;\n",
              "}\n",
              "\n",
              "#sk-container-id-1 div.sk-parallel-item:only-child::after {\n",
              "  width: 0;\n",
              "}\n",
              "\n",
              "/* Serial-specific style estimator block */\n",
              "\n",
              "#sk-container-id-1 div.sk-serial {\n",
              "  display: flex;\n",
              "  flex-direction: column;\n",
              "  align-items: center;\n",
              "  background-color: var(--sklearn-color-background);\n",
              "  padding-right: 1em;\n",
              "  padding-left: 1em;\n",
              "}\n",
              "\n",
              "\n",
              "/* Toggleable style: style used for estimator/Pipeline/ColumnTransformer box that is\n",
              "clickable and can be expanded/collapsed.\n",
              "- Pipeline and ColumnTransformer use this feature and define the default style\n",
              "- Estimators will overwrite some part of the style using the `sk-estimator` class\n",
              "*/\n",
              "\n",
              "/* Pipeline and ColumnTransformer style (default) */\n",
              "\n",
              "#sk-container-id-1 div.sk-toggleable {\n",
              "  /* Default theme specific background. It is overwritten whether we have a\n",
              "  specific estimator or a Pipeline/ColumnTransformer */\n",
              "  background-color: var(--sklearn-color-background);\n",
              "}\n",
              "\n",
              "/* Toggleable label */\n",
              "#sk-container-id-1 label.sk-toggleable__label {\n",
              "  cursor: pointer;\n",
              "  display: flex;\n",
              "  width: 100%;\n",
              "  margin-bottom: 0;\n",
              "  padding: 0.5em;\n",
              "  box-sizing: border-box;\n",
              "  text-align: center;\n",
              "  align-items: start;\n",
              "  justify-content: space-between;\n",
              "  gap: 0.5em;\n",
              "}\n",
              "\n",
              "#sk-container-id-1 label.sk-toggleable__label .caption {\n",
              "  font-size: 0.6rem;\n",
              "  font-weight: lighter;\n",
              "  color: var(--sklearn-color-text-muted);\n",
              "}\n",
              "\n",
              "#sk-container-id-1 label.sk-toggleable__label-arrow:before {\n",
              "  /* Arrow on the left of the label */\n",
              "  content: \"▸\";\n",
              "  float: left;\n",
              "  margin-right: 0.25em;\n",
              "  color: var(--sklearn-color-icon);\n",
              "}\n",
              "\n",
              "#sk-container-id-1 label.sk-toggleable__label-arrow:hover:before {\n",
              "  color: var(--sklearn-color-text);\n",
              "}\n",
              "\n",
              "/* Toggleable content - dropdown */\n",
              "\n",
              "#sk-container-id-1 div.sk-toggleable__content {\n",
              "  max-height: 0;\n",
              "  max-width: 0;\n",
              "  overflow: hidden;\n",
              "  text-align: left;\n",
              "  /* unfitted */\n",
              "  background-color: var(--sklearn-color-unfitted-level-0);\n",
              "}\n",
              "\n",
              "#sk-container-id-1 div.sk-toggleable__content.fitted {\n",
              "  /* fitted */\n",
              "  background-color: var(--sklearn-color-fitted-level-0);\n",
              "}\n",
              "\n",
              "#sk-container-id-1 div.sk-toggleable__content pre {\n",
              "  margin: 0.2em;\n",
              "  border-radius: 0.25em;\n",
              "  color: var(--sklearn-color-text);\n",
              "  /* unfitted */\n",
              "  background-color: var(--sklearn-color-unfitted-level-0);\n",
              "}\n",
              "\n",
              "#sk-container-id-1 div.sk-toggleable__content.fitted pre {\n",
              "  /* unfitted */\n",
              "  background-color: var(--sklearn-color-fitted-level-0);\n",
              "}\n",
              "\n",
              "#sk-container-id-1 input.sk-toggleable__control:checked~div.sk-toggleable__content {\n",
              "  /* Expand drop-down */\n",
              "  max-height: 200px;\n",
              "  max-width: 100%;\n",
              "  overflow: auto;\n",
              "}\n",
              "\n",
              "#sk-container-id-1 input.sk-toggleable__control:checked~label.sk-toggleable__label-arrow:before {\n",
              "  content: \"▾\";\n",
              "}\n",
              "\n",
              "/* Pipeline/ColumnTransformer-specific style */\n",
              "\n",
              "#sk-container-id-1 div.sk-label input.sk-toggleable__control:checked~label.sk-toggleable__label {\n",
              "  color: var(--sklearn-color-text);\n",
              "  background-color: var(--sklearn-color-unfitted-level-2);\n",
              "}\n",
              "\n",
              "#sk-container-id-1 div.sk-label.fitted input.sk-toggleable__control:checked~label.sk-toggleable__label {\n",
              "  background-color: var(--sklearn-color-fitted-level-2);\n",
              "}\n",
              "\n",
              "/* Estimator-specific style */\n",
              "\n",
              "/* Colorize estimator box */\n",
              "#sk-container-id-1 div.sk-estimator input.sk-toggleable__control:checked~label.sk-toggleable__label {\n",
              "  /* unfitted */\n",
              "  background-color: var(--sklearn-color-unfitted-level-2);\n",
              "}\n",
              "\n",
              "#sk-container-id-1 div.sk-estimator.fitted input.sk-toggleable__control:checked~label.sk-toggleable__label {\n",
              "  /* fitted */\n",
              "  background-color: var(--sklearn-color-fitted-level-2);\n",
              "}\n",
              "\n",
              "#sk-container-id-1 div.sk-label label.sk-toggleable__label,\n",
              "#sk-container-id-1 div.sk-label label {\n",
              "  /* The background is the default theme color */\n",
              "  color: var(--sklearn-color-text-on-default-background);\n",
              "}\n",
              "\n",
              "/* On hover, darken the color of the background */\n",
              "#sk-container-id-1 div.sk-label:hover label.sk-toggleable__label {\n",
              "  color: var(--sklearn-color-text);\n",
              "  background-color: var(--sklearn-color-unfitted-level-2);\n",
              "}\n",
              "\n",
              "/* Label box, darken color on hover, fitted */\n",
              "#sk-container-id-1 div.sk-label.fitted:hover label.sk-toggleable__label.fitted {\n",
              "  color: var(--sklearn-color-text);\n",
              "  background-color: var(--sklearn-color-fitted-level-2);\n",
              "}\n",
              "\n",
              "/* Estimator label */\n",
              "\n",
              "#sk-container-id-1 div.sk-label label {\n",
              "  font-family: monospace;\n",
              "  font-weight: bold;\n",
              "  display: inline-block;\n",
              "  line-height: 1.2em;\n",
              "}\n",
              "\n",
              "#sk-container-id-1 div.sk-label-container {\n",
              "  text-align: center;\n",
              "}\n",
              "\n",
              "/* Estimator-specific */\n",
              "#sk-container-id-1 div.sk-estimator {\n",
              "  font-family: monospace;\n",
              "  border: 1px dotted var(--sklearn-color-border-box);\n",
              "  border-radius: 0.25em;\n",
              "  box-sizing: border-box;\n",
              "  margin-bottom: 0.5em;\n",
              "  /* unfitted */\n",
              "  background-color: var(--sklearn-color-unfitted-level-0);\n",
              "}\n",
              "\n",
              "#sk-container-id-1 div.sk-estimator.fitted {\n",
              "  /* fitted */\n",
              "  background-color: var(--sklearn-color-fitted-level-0);\n",
              "}\n",
              "\n",
              "/* on hover */\n",
              "#sk-container-id-1 div.sk-estimator:hover {\n",
              "  /* unfitted */\n",
              "  background-color: var(--sklearn-color-unfitted-level-2);\n",
              "}\n",
              "\n",
              "#sk-container-id-1 div.sk-estimator.fitted:hover {\n",
              "  /* fitted */\n",
              "  background-color: var(--sklearn-color-fitted-level-2);\n",
              "}\n",
              "\n",
              "/* Specification for estimator info (e.g. \"i\" and \"?\") */\n",
              "\n",
              "/* Common style for \"i\" and \"?\" */\n",
              "\n",
              ".sk-estimator-doc-link,\n",
              "a:link.sk-estimator-doc-link,\n",
              "a:visited.sk-estimator-doc-link {\n",
              "  float: right;\n",
              "  font-size: smaller;\n",
              "  line-height: 1em;\n",
              "  font-family: monospace;\n",
              "  background-color: var(--sklearn-color-background);\n",
              "  border-radius: 1em;\n",
              "  height: 1em;\n",
              "  width: 1em;\n",
              "  text-decoration: none !important;\n",
              "  margin-left: 0.5em;\n",
              "  text-align: center;\n",
              "  /* unfitted */\n",
              "  border: var(--sklearn-color-unfitted-level-1) 1pt solid;\n",
              "  color: var(--sklearn-color-unfitted-level-1);\n",
              "}\n",
              "\n",
              ".sk-estimator-doc-link.fitted,\n",
              "a:link.sk-estimator-doc-link.fitted,\n",
              "a:visited.sk-estimator-doc-link.fitted {\n",
              "  /* fitted */\n",
              "  border: var(--sklearn-color-fitted-level-1) 1pt solid;\n",
              "  color: var(--sklearn-color-fitted-level-1);\n",
              "}\n",
              "\n",
              "/* On hover */\n",
              "div.sk-estimator:hover .sk-estimator-doc-link:hover,\n",
              ".sk-estimator-doc-link:hover,\n",
              "div.sk-label-container:hover .sk-estimator-doc-link:hover,\n",
              ".sk-estimator-doc-link:hover {\n",
              "  /* unfitted */\n",
              "  background-color: var(--sklearn-color-unfitted-level-3);\n",
              "  color: var(--sklearn-color-background);\n",
              "  text-decoration: none;\n",
              "}\n",
              "\n",
              "div.sk-estimator.fitted:hover .sk-estimator-doc-link.fitted:hover,\n",
              ".sk-estimator-doc-link.fitted:hover,\n",
              "div.sk-label-container:hover .sk-estimator-doc-link.fitted:hover,\n",
              ".sk-estimator-doc-link.fitted:hover {\n",
              "  /* fitted */\n",
              "  background-color: var(--sklearn-color-fitted-level-3);\n",
              "  color: var(--sklearn-color-background);\n",
              "  text-decoration: none;\n",
              "}\n",
              "\n",
              "/* Span, style for the box shown on hovering the info icon */\n",
              ".sk-estimator-doc-link span {\n",
              "  display: none;\n",
              "  z-index: 9999;\n",
              "  position: relative;\n",
              "  font-weight: normal;\n",
              "  right: .2ex;\n",
              "  padding: .5ex;\n",
              "  margin: .5ex;\n",
              "  width: min-content;\n",
              "  min-width: 20ex;\n",
              "  max-width: 50ex;\n",
              "  color: var(--sklearn-color-text);\n",
              "  box-shadow: 2pt 2pt 4pt #999;\n",
              "  /* unfitted */\n",
              "  background: var(--sklearn-color-unfitted-level-0);\n",
              "  border: .5pt solid var(--sklearn-color-unfitted-level-3);\n",
              "}\n",
              "\n",
              ".sk-estimator-doc-link.fitted span {\n",
              "  /* fitted */\n",
              "  background: var(--sklearn-color-fitted-level-0);\n",
              "  border: var(--sklearn-color-fitted-level-3);\n",
              "}\n",
              "\n",
              ".sk-estimator-doc-link:hover span {\n",
              "  display: block;\n",
              "}\n",
              "\n",
              "/* \"?\"-specific style due to the `<a>` HTML tag */\n",
              "\n",
              "#sk-container-id-1 a.estimator_doc_link {\n",
              "  float: right;\n",
              "  font-size: 1rem;\n",
              "  line-height: 1em;\n",
              "  font-family: monospace;\n",
              "  background-color: var(--sklearn-color-background);\n",
              "  border-radius: 1rem;\n",
              "  height: 1rem;\n",
              "  width: 1rem;\n",
              "  text-decoration: none;\n",
              "  /* unfitted */\n",
              "  color: var(--sklearn-color-unfitted-level-1);\n",
              "  border: var(--sklearn-color-unfitted-level-1) 1pt solid;\n",
              "}\n",
              "\n",
              "#sk-container-id-1 a.estimator_doc_link.fitted {\n",
              "  /* fitted */\n",
              "  border: var(--sklearn-color-fitted-level-1) 1pt solid;\n",
              "  color: var(--sklearn-color-fitted-level-1);\n",
              "}\n",
              "\n",
              "/* On hover */\n",
              "#sk-container-id-1 a.estimator_doc_link:hover {\n",
              "  /* unfitted */\n",
              "  background-color: var(--sklearn-color-unfitted-level-3);\n",
              "  color: var(--sklearn-color-background);\n",
              "  text-decoration: none;\n",
              "}\n",
              "\n",
              "#sk-container-id-1 a.estimator_doc_link.fitted:hover {\n",
              "  /* fitted */\n",
              "  background-color: var(--sklearn-color-fitted-level-3);\n",
              "}\n",
              "</style><div id=\"sk-container-id-1\" class=\"sk-top-container\"><div class=\"sk-text-repr-fallback\"><pre>LinearRegression()</pre><b>In a Jupyter environment, please rerun this cell to show the HTML representation or trust the notebook. <br />On GitHub, the HTML representation is unable to render, please try loading this page with nbviewer.org.</b></div><div class=\"sk-container\" hidden><div class=\"sk-item\"><div class=\"sk-estimator fitted sk-toggleable\"><input class=\"sk-toggleable__control sk-hidden--visually\" id=\"sk-estimator-id-1\" type=\"checkbox\" checked><label for=\"sk-estimator-id-1\" class=\"sk-toggleable__label fitted sk-toggleable__label-arrow\"><div><div>LinearRegression</div></div><div><a class=\"sk-estimator-doc-link fitted\" rel=\"noreferrer\" target=\"_blank\" href=\"https://scikit-learn.org/1.6/modules/generated/sklearn.linear_model.LinearRegression.html\">?<span>Documentation for LinearRegression</span></a><span class=\"sk-estimator-doc-link fitted\">i<span>Fitted</span></span></div></label><div class=\"sk-toggleable__content fitted\"><pre>LinearRegression()</pre></div> </div></div></div></div>"
            ]
          },
          "metadata": {},
          "execution_count": 30
        }
      ]
    },
    {
      "cell_type": "markdown",
      "source": [
        "**2. Imprime el intercepto y los coeficientes del modelo**"
      ],
      "metadata": {
        "id": "INALkAruuFeY"
      },
      "id": "INALkAruuFeY"
    },
    {
      "cell_type": "code",
      "source": [
        "coeficientes = model.coef_\n",
        "intercepto = model.intercept_\n",
        "print(\"Coeficientes:\", coeficientes)\n",
        "print(\"Intercepto:\", intercepto)\n",
        "\n",
        "print(\"\\n\")\n",
        "\n",
        "ecuacion = f\"Sales = {intercepto}\"\n",
        "for i, coef in enumerate(coeficientes):\n",
        "    ecuacion += f\"+ ({coef} * {X.columns[i]}) \"\n",
        "\n",
        "print(\"Modelo con los coeficientes:\", ecuacion)"
      ],
      "metadata": {
        "colab": {
          "base_uri": "https://localhost:8080/"
        },
        "id": "nsWrceFxuLdO",
        "outputId": "f555c643-5330-4c95-dc05-b10ca5cd295f"
      },
      "id": "nsWrceFxuLdO",
      "execution_count": 32,
      "outputs": [
        {
          "output_type": "stream",
          "name": "stdout",
          "text": [
            "Coeficientes: [4.66270025 1.58465027 0.00729187]\n",
            "Intercepto: 15.130500000000001\n",
            "\n",
            "\n",
            "Ecuación del modelo: Sales = 15.130500000000001+ (4.662700245086694 * TV) + (1.5846502733236385 * Radio) + (0.0072918683037688226 * Newspaper) \n"
          ]
        }
      ]
    },
    {
      "cell_type": "markdown",
      "source": [
        "**3. Interpreta cada uno: ¿Qué significa cada uno de los coeficientes en términos de ventas?**\n",
        "\n",
        "En términos de venta, quiere decir que habrá más ganancia."
      ],
      "metadata": {
        "id": "SuBGN0StuMCT"
      },
      "id": "SuBGN0StuMCT"
    },
    {
      "cell_type": "markdown",
      "source": [
        "### **4.2 Normalidad de los residuos**\n"
      ],
      "metadata": {
        "id": "ekI4O3yPU5ik"
      },
      "id": "ekI4O3yPU5ik"
    },
    {
      "cell_type": "markdown",
      "source": [
        "**1. Calcula los residuos: residuos = y - y_pred**"
      ],
      "metadata": {
        "id": "MrpLq-t6u6BW"
      },
      "id": "MrpLq-t6u6BW"
    },
    {
      "cell_type": "code",
      "source": [
        "y_pred = model.predict(X_scaled)\n",
        "residuos = y - y_pred"
      ],
      "metadata": {
        "id": "POkP3dKsu9AI"
      },
      "id": "POkP3dKsu9AI",
      "execution_count": 33,
      "outputs": []
    },
    {
      "cell_type": "markdown",
      "source": [
        "**2. Grafica un histograma con KDE de los residuos**"
      ],
      "metadata": {
        "id": "FQH9cGmeu_dl"
      },
      "id": "FQH9cGmeu_dl"
    },
    {
      "cell_type": "code",
      "source": [
        "plt.figure(figsize=(8, 6))\n",
        "sns.histplot(residuos, kde=True)\n",
        "plt.title('Histograma de Residuos con KDE')\n",
        "plt.xlabel('Residuos')\n",
        "plt.ylabel('Frecuencia')\n",
        "plt.show()"
      ],
      "metadata": {
        "colab": {
          "base_uri": "https://localhost:8080/",
          "height": 564
        },
        "id": "Nk1ecEoxTjCf",
        "outputId": "c3ecd551-e05d-45b0-e403-c5ee5b76b3f6"
      },
      "id": "Nk1ecEoxTjCf",
      "execution_count": 58,
      "outputs": [
        {
          "output_type": "display_data",
          "data": {
            "text/plain": [
              "<Figure size 800x600 with 1 Axes>"
            ],
            "image/png": "[encoded data removed]"
          },
          "metadata": {}
        }
      ]
    },
    {
      "cell_type": "markdown",
      "source": [
        "**3. ¿Los residuos parecen distribuirse normalmente?**\n",
        "\n",
        "A simple vista podría decirse que están distribuidos normalmente sin embargo, en términos númericos podría que la distribución no es normal."
      ],
      "metadata": {
        "id": "zf3f4_RHzQxC"
      },
      "id": "zf3f4_RHzQxC"
    },
    {
      "cell_type": "markdown",
      "source": [
        "### ***4.3. Homocedasticidad***"
      ],
      "metadata": {
        "id": "G7751MgpVQfO"
      },
      "id": "G7751MgpVQfO"
    },
    {
      "cell_type": "markdown",
      "source": [
        "**1. Grafica los residuos contra los valores predichos**"
      ],
      "metadata": {
        "id": "-bBpM6mRzsFp"
      },
      "id": "-bBpM6mRzsFp"
    },
    {
      "cell_type": "code",
      "source": [
        "plt.figure(figsize=(8, 6))\n",
        "plt.scatter(y_pred, residuos, alpha=0.5, color='blue', label='Predicciones')\n",
        "plt.axhline(y=0, color='red', linestyle='--', label='Línea de perfección')\n",
        "plt.xlabel('Valores predichos')\n",
        "plt.ylabel('Residuos')\n",
        "plt.title('Residuos vs Valores Predichos')\n",
        "plt.legend()\n",
        "plt.show()"
      ],
      "metadata": {
        "id": "QAAivkqlVXvF",
        "colab": {
          "base_uri": "https://localhost:8080/",
          "height": 564
        },
        "outputId": "ca6f6566-dcf4-4d1d-ec0a-99e9d0a55c2a"
      },
      "id": "QAAivkqlVXvF",
      "execution_count": 64,
      "outputs": [
        {
          "output_type": "display_data",
          "data": {
            "text/plain": [
              "<Figure size 800x600 with 1 Axes>"
            ],
            "image/png": "[encoded data removed]"
          },
          "metadata": {}
        }
      ]
    },
    {
      "cell_type": "markdown",
      "source": [
        "**2. ¿Observas patrones? ¿Los residuos se dispersan aleatoriamente?**\n",
        "\n",
        "Observo patrones y los residuos están dispersos aleatoriamente."
      ],
      "metadata": {
        "id": "KzV7cnmdzxF_"
      },
      "id": "KzV7cnmdzxF_"
    },
    {
      "cell_type": "markdown",
      "source": [
        "### **4.4 Q-Q Plot**"
      ],
      "metadata": {
        "id": "dbbjhSeeVb6A"
      },
      "id": "dbbjhSeeVb6A"
    },
    {
      "cell_type": "markdown",
      "source": [
        "**1. Graficar el Q-Q Plot**"
      ],
      "metadata": {
        "id": "ZqKg4nTM0acV"
      },
      "id": "ZqKg4nTM0acV"
    },
    {
      "cell_type": "code",
      "source": [
        "plt.figure(figsize=(10, 6))\n",
        "stats.probplot(residuos, dist=\"norm\", plot=plt)\n",
        "plt.title(\"Q-Q Plot de los Residuos\")\n",
        "plt.show()"
      ],
      "metadata": {
        "id": "iMo5HgvvVtrM",
        "colab": {
          "base_uri": "https://localhost:8080/",
          "height": 564
        },
        "outputId": "b896bfc7-9c51-4620-d108-ee1a509b9ddb"
      },
      "id": "iMo5HgvvVtrM",
      "execution_count": 49,
      "outputs": [
        {
          "output_type": "display_data",
          "data": {
            "text/plain": [
              "<Figure size 1000x600 with 1 Axes>"
            ],
            "image/png": "[encoded data removed]"
          },
          "metadata": {}
        }
      ]
    },
    {
      "cell_type": "markdown",
      "source": [
        "**2. Interpreta el gráfico:**\n",
        "\n",
        "**a) Si los puntos se alinean aproximadamente sobre la línea diagonal, los residuos siguen una distribución normal**\n",
        "\n",
        "Los puntos del gráfico Q-Q Plot no se alinean perfectamente sobre la línea diagonal, lo que sugiere que los residuos no siguen una distribución normal perfecta.\n",
        "\n",
        "\n",
        "**b) Desviaciones sistemáticas indican asimetría o colas pesadas**\n",
        "\n",
        " Las desviaciones observadas en el gráfico Q-Q Plot sugieren la presencia de asimetría o colas pesadas en la distribución de los residuos.\n"
      ],
      "metadata": {
        "id": "jozE3fVd0d-x"
      },
      "id": "jozE3fVd0d-x"
    },
    {
      "cell_type": "markdown",
      "source": [
        "### **4.5. Evaluación del Modelo**\n",
        "\n"
      ],
      "metadata": {
        "id": "7VgcXSTQVuDX"
      },
      "id": "7VgcXSTQVuDX"
    },
    {
      "cell_type": "markdown",
      "source": [
        "**1. Calcula las métricas: a) MSE (error cuadrático medio), b) RMSE (raíz del error cuadrático medio), c) R² (coeficiente de determinación)**"
      ],
      "metadata": {
        "id": "0FSsvqvX0w62"
      },
      "id": "0FSsvqvX0w62"
    },
    {
      "cell_type": "code",
      "source": [
        "mse = mean_squared_error(y, y_pred)\n",
        "rmse = np.sqrt(mse)\n",
        "r2 = r2_score(y, y_pred)\n",
        "\n",
        "print(f\"MSE: {mse:.4f}\")\n",
        "print(f\"RMSE: {rmse:.4f}\")\n",
        "print(f\"R²: {r2:.4f}\")"
      ],
      "metadata": {
        "id": "4srCosNfWIm2",
        "colab": {
          "base_uri": "https://localhost:8080/"
        },
        "outputId": "a5028650-794b-403e-d38f-3f41c98c990a"
      },
      "id": "4srCosNfWIm2",
      "execution_count": 52,
      "outputs": [
        {
          "output_type": "stream",
          "name": "stdout",
          "text": [
            "MSE: 2.7060\n",
            "RMSE: 1.6450\n",
            "R²: 0.9026\n"
          ]
        }
      ]
    },
    {
      "cell_type": "markdown",
      "source": [
        "**2. ¿Qué nos dicen estas métricas sobre el ajuste del modelo?**\n",
        "         Indica un ajuste razonable bueno para el modelo."
      ],
      "metadata": {
        "id": "Nj12D9wL01mO"
      },
      "id": "Nj12D9wL01mO"
    },
    {
      "cell_type": "markdown",
      "source": [
        "### **4.6. Visualización de Predicciones**\n"
      ],
      "metadata": {
        "id": "iAFIEuPiWLw_"
      },
      "id": "iAFIEuPiWLw_"
    },
    {
      "cell_type": "markdown",
      "source": [
        "**1. Crea un gráfico comparando Sales reales vs Sales predichas**\n",
        "\n",
        "**2. Puedes usar plt.scatter(y_true, y_pred) para evaluar visualmente el ajuste**"
      ],
      "metadata": {
        "id": "XBZnEgwU0_WN"
      },
      "id": "XBZnEgwU0_WN"
    },
    {
      "cell_type": "code",
      "source": [
        "plt.figure(figsize=(10, 6))\n",
        "plt.scatter(y, y_pred, alpha=0.5, color='blue', label='Predicciones')\n",
        "plt.plot([y.min(), y.max()], [y.min(), y.max()], color='red', linestyle='--', label='Línea de perfección')\n",
        "plt.title(\"Comparación entre Sales Reales y Sales Predichas\")\n",
        "plt.xlabel(\"Sales Reales\")\n",
        "plt.ylabel(\"Sales Predichas\")\n",
        "plt.legend()\n",
        "plt.show()"
      ],
      "metadata": {
        "id": "5FH8sV0fWbOl",
        "colab": {
          "base_uri": "https://localhost:8080/",
          "height": 565
        },
        "outputId": "a710da67-3618-4b30-82cd-b517637f44eb"
      },
      "id": "5FH8sV0fWbOl",
      "execution_count": 54,
      "outputs": [
        {
          "output_type": "display_data",
          "data": {
            "text/plain": [
              "<Figure size 1000x600 with 1 Axes>"
            ],
            "image/png": "[encoded data removed]"
          },
          "metadata": {}
        }
      ]
    },
    {
      "cell_type": "markdown",
      "source": [
        "**3. ¿Qué observas? ¿Qué información puedes obtener de esta gráfica?**\n",
        "\n",
        "Se observa que hay tendencia positiva entre lo real y lo predicho y en esta gráfica se puede obtener información sobre la similitud que hay entre las ventas reales y las ventas predichas,"
      ],
      "metadata": {
        "id": "6NvCcyIA1N56"
      },
      "id": "6NvCcyIA1N56"
    },
    {
      "cell_type": "markdown",
      "source": [
        "### **4.7 Verificar el impacto de los atributos en el modelo**\n",
        "\n"
      ],
      "metadata": {
        "id": "8k74G1nZWjPS"
      },
      "id": "8k74G1nZWjPS"
    },
    {
      "cell_type": "markdown",
      "source": [
        "**1. Ajusta el modelo usando statsmodels en lugar de scikit-learn para obtener los valores p**"
      ],
      "metadata": {
        "id": "8oUQD3uC1sCF"
      },
      "id": "8oUQD3uC1sCF"
    },
    {
      "cell_type": "code",
      "source": [
        "X_scaled_with_constant = sm.add_constant(X_scaled)\n",
        "model_sm = sm.OLS(y, X_scaled_with_constant).fit()\n",
        "print(model_sm.summary())"
      ],
      "metadata": {
        "id": "uuDtIEtcWpx6",
        "colab": {
          "base_uri": "https://localhost:8080/"
        },
        "outputId": "a16f96c9-145d-49d1-fddd-7555b951a782"
      },
      "id": "uuDtIEtcWpx6",
      "execution_count": 56,
      "outputs": [
        {
          "output_type": "stream",
          "name": "stdout",
          "text": [
            "                            OLS Regression Results                            \n",
            "==============================================================================\n",
            "Dep. Variable:                  Sales   R-squared:                       0.903\n",
            "Model:                            OLS   Adj. R-squared:                  0.901\n",
            "Method:                 Least Squares   F-statistic:                     605.4\n",
            "Date:                Thu, 03 Apr 2025   Prob (F-statistic):           8.13e-99\n",
            "Time:                        06:02:51   Log-Likelihood:                -383.34\n",
            "No. Observations:                 200   AIC:                             774.7\n",
            "Df Residuals:                     196   BIC:                             787.9\n",
            "Df Model:                           3                                         \n",
            "Covariance Type:            nonrobust                                         \n",
            "==============================================================================\n",
            "                 coef    std err          t      P>|t|      [0.025      0.975]\n",
            "------------------------------------------------------------------------------\n",
            "const         15.1305      0.117    128.771      0.000      14.899      15.362\n",
            "x1             4.6627      0.118     39.592      0.000       4.430       4.895\n",
            "x2             1.5847      0.126     12.604      0.000       1.337       1.833\n",
            "x3             0.0073      0.126      0.058      0.954      -0.241       0.255\n",
            "==============================================================================\n",
            "Omnibus:                       16.081   Durbin-Watson:                   2.251\n",
            "Prob(Omnibus):                  0.000   Jarque-Bera (JB):               27.655\n",
            "Skew:                          -0.431   Prob(JB):                     9.88e-07\n",
            "Kurtosis:                       4.605   Cond. No.                         1.46\n",
            "==============================================================================\n",
            "\n",
            "Notes:\n",
            "[1] Standard Errors assume that the covariance matrix of the errors is correctly specified.\n"
          ]
        }
      ]
    },
    {
      "cell_type": "markdown",
      "source": [
        "**2. Interpreta los resultados:**\n",
        "\n",
        "**Observa los valores P>|t| en la tabla de salida**\n",
        "\n",
        "**¿Qué variables tienen p-value menores a 0.05?**\n",
        "\n",
        "Según la tabla, no hay variables con p-value menor a 0.05.\n",
        "\n",
        "**¿Cuál es la conclusión sobre esas variables?**\n",
        "\n",
        "La mayoría de las variables parecen ser normales."
      ],
      "metadata": {
        "id": "PBL8fEMP1vfm"
      },
      "id": "PBL8fEMP1vfm"
    },
    {
      "cell_type": "markdown",
      "source": [
        "##***Parte 5:  Construcción del Modelo (sin Multicolinealidad), Evaluación***"
      ],
      "metadata": {
        "id": "4umoWNeTWvsJ"
      },
      "id": "4umoWNeTWvsJ"
    },
    {
      "cell_type": "markdown",
      "source": [
        "En el caso de que hayas detectado variables con multicolinealidad. Elimina aquellas que presenten esta característica y realiza los mismos pasos** que la parte 4.** Escribe cada una de las subsecciones similares a las existentes en la Parte 4."
      ],
      "metadata": {
        "id": "Rq9EvqbHtUeU"
      },
      "id": "Rq9EvqbHtUeU"
    },
    {
      "cell_type": "code",
      "source": [
        "X = add_constant(df.drop(columns=['Sales']))\n",
        "vif_data = pd.DataFrame()\n",
        "vif_data['Variable'] = X.columns\n",
        "vif_data['VIF'] = [variance_inflation_factor(X.values, i) for i in range(X.shape[1])]\n",
        "\n",
        "print(vif_data)\n",
        "print(\"\\n\")\n",
        "print(\"No se encontraron variables con multicolinealidad.\")"
      ],
      "metadata": {
        "colab": {
          "base_uri": "https://localhost:8080/"
        },
        "id": "DG3CmpAstlMP",
        "outputId": "e6423c21-c96c-4a5f-d49e-8f2b8387e54d"
      },
      "id": "DG3CmpAstlMP",
      "execution_count": 67,
      "outputs": [
        {
          "output_type": "stream",
          "name": "stdout",
          "text": [
            "    Variable       VIF\n",
            "0      const  6.848900\n",
            "1         TV  1.004611\n",
            "2      Radio  1.144952\n",
            "3  Newspaper  1.145187\n",
            "\n",
            "\n",
            "No se encontraron variables con multicolinealidad.\n"
          ]
        }
      ]
    },
    {
      "cell_type": "markdown",
      "source": [
        "## ***Parte 6: Construcción del Modelo (sin variables que no muestran una relación lineal), Evaluación***"
      ],
      "metadata": {
        "id": "yEsM03YaXDnL"
      },
      "id": "yEsM03YaXDnL"
    },
    {
      "cell_type": "markdown",
      "source": [
        "En el caso de que hayas detectado variables sin una relación lineal con la variable dependiente. Elimina aquellas que presenten esta característica y realiza lo siguiente.\n",
        "\n",
        "En el caso de que hayas detectado variables sin una relación lineal. Elimina aquellas que presenten esta característica y realiza los mismos pasos** que la parte 4.**\n",
        "Escribe cada una de las subsecciones similares a las existentes en la Parte 4."
      ],
      "metadata": {
        "id": "X8VDexnWtFmV"
      },
      "id": "X8VDexnWtFmV"
    },
    {
      "cell_type": "markdown",
      "source": [
        "###**Entrenamiento del Modelo  (sin la variable Newspaper)**"
      ],
      "metadata": {
        "id": "TluMOucyqp8J"
      },
      "id": "TluMOucyqp8J"
    },
    {
      "cell_type": "markdown",
      "source": [
        "**1. Entrena un modelo de regresión lineal múltiple usando TV, Radio y Newspaper como variables independientes**"
      ],
      "metadata": {
        "id": "HwsxXOw-rv7g"
      },
      "id": "HwsxXOw-rv7g"
    },
    {
      "cell_type": "code",
      "source": [],
      "metadata": {
        "id": "ikka4nc7rStq"
      },
      "id": "ikka4nc7rStq",
      "execution_count": null,
      "outputs": []
    },
    {
      "cell_type": "markdown",
      "source": [
        "**2. Imprime el intercepto y los coeficientes del modelo**"
      ],
      "metadata": {
        "id": "QWZ_CMsOr59k"
      },
      "id": "QWZ_CMsOr59k"
    },
    {
      "cell_type": "code",
      "source": [],
      "metadata": {
        "id": "vefO81FPr8hf"
      },
      "id": "vefO81FPr8hf",
      "execution_count": null,
      "outputs": []
    },
    {
      "cell_type": "markdown",
      "source": [
        "###**Normalidad de los residuos**"
      ],
      "metadata": {
        "id": "v4yV7GtnsHrW"
      },
      "id": "v4yV7GtnsHrW"
    },
    {
      "cell_type": "markdown",
      "source": [
        "**1. Calcula los residuos: residuos = y - y_pred**"
      ],
      "metadata": {
        "id": "O45G6zOesN-7"
      },
      "id": "O45G6zOesN-7"
    },
    {
      "cell_type": "code",
      "source": [],
      "metadata": {
        "id": "Tr9Pg6vDsSGb"
      },
      "id": "Tr9Pg6vDsSGb",
      "execution_count": null,
      "outputs": []
    },
    {
      "cell_type": "markdown",
      "source": [
        "**2. Grafica un histograma con KDE de los residuos**"
      ],
      "metadata": {
        "id": "OvUVaHb_sW_i"
      },
      "id": "OvUVaHb_sW_i"
    },
    {
      "cell_type": "code",
      "source": [],
      "metadata": {
        "id": "7gVXy2uGsaUr"
      },
      "id": "7gVXy2uGsaUr",
      "execution_count": null,
      "outputs": []
    },
    {
      "cell_type": "markdown",
      "source": [
        "###**Homocedasticidad**"
      ],
      "metadata": {
        "id": "LabCnpkAsj3N"
      },
      "id": "LabCnpkAsj3N"
    },
    {
      "cell_type": "markdown",
      "source": [
        "**1. Grafica los residuos contra los valores predichos**"
      ],
      "metadata": {
        "id": "AzuiSYBXspDt"
      },
      "id": "AzuiSYBXspDt"
    },
    {
      "cell_type": "code",
      "source": [],
      "metadata": {
        "id": "xmGfrmMEssd9"
      },
      "id": "xmGfrmMEssd9",
      "execution_count": null,
      "outputs": []
    },
    {
      "cell_type": "markdown",
      "source": [
        "###**Q-Q Plot**"
      ],
      "metadata": {
        "id": "dIV5OYg4szPh"
      },
      "id": "dIV5OYg4szPh"
    },
    {
      "cell_type": "markdown",
      "source": [
        "**1. Graficar el Q-Q Plot**"
      ],
      "metadata": {
        "id": "OYzjugV5s39d"
      },
      "id": "OYzjugV5s39d"
    },
    {
      "cell_type": "code",
      "source": [],
      "metadata": {
        "id": "NCHDNHw-s7RR"
      },
      "id": "NCHDNHw-s7RR",
      "execution_count": null,
      "outputs": []
    },
    {
      "cell_type": "markdown",
      "source": [
        "###**Evaluación del Modelo**"
      ],
      "metadata": {
        "id": "MVDYaPsFtEMs"
      },
      "id": "MVDYaPsFtEMs"
    },
    {
      "cell_type": "markdown",
      "source": [
        "**1. Calcula las métricas: a) MSE (error cuadrático medio), b) RMSE (raíz del error cuadrático medio), c) R² (coeficiente de determinación)**"
      ],
      "metadata": {
        "id": "_DucQXvjtIfq"
      },
      "id": "_DucQXvjtIfq"
    },
    {
      "cell_type": "code",
      "source": [],
      "metadata": {
        "id": "KTTpUEoytM7D"
      },
      "id": "KTTpUEoytM7D",
      "execution_count": null,
      "outputs": []
    },
    {
      "cell_type": "markdown",
      "source": [
        "###**Visualización de Predicciones**"
      ],
      "metadata": {
        "id": "nqgfA2IVtNYB"
      },
      "id": "nqgfA2IVtNYB"
    },
    {
      "cell_type": "markdown",
      "source": [
        "**1. Crea un gráfico comparando Sales reales vs Sales predichas**\n",
        "\n",
        "**2. Puedes usar plt.scatter(y_true, y_pred) para evaluar visualmente el ajuste**"
      ],
      "metadata": {
        "id": "Fe_TsLP1tT4n"
      },
      "id": "Fe_TsLP1tT4n"
    },
    {
      "cell_type": "code",
      "source": [],
      "metadata": {
        "id": "7AxB9bvZt2Pc"
      },
      "id": "7AxB9bvZt2Pc",
      "execution_count": null,
      "outputs": []
    },
    {
      "cell_type": "markdown",
      "source": [
        "###**Verificar el impacto de los atributos en el modelo**"
      ],
      "metadata": {
        "id": "mBrrUQtst8Gt"
      },
      "id": "mBrrUQtst8Gt"
    },
    {
      "cell_type": "markdown",
      "source": [
        "**Ajusta el modelo usando statsmodels en lugar de scikit-learn para obtener los valores p**"
      ],
      "metadata": {
        "id": "K7e92lqzuDBV"
      },
      "id": "K7e92lqzuDBV"
    },
    {
      "cell_type": "code",
      "source": [],
      "metadata": {
        "id": "o2I2O_zcuF2u"
      },
      "id": "o2I2O_zcuF2u",
      "execution_count": null,
      "outputs": []
    },
    {
      "cell_type": "markdown",
      "source": [
        "##***7. Conclusiones***"
      ],
      "metadata": {
        "id": "hS58HIhCXTEZ"
      },
      "id": "hS58HIhCXTEZ"
    },
    {
      "cell_type": "markdown",
      "source": [
        "**¿Cuál de los tres modelos construidos fue el mejor? ¿Cuál fue el atributo que mas influencia tiene en las ventas?**"
      ],
      "metadata": {
        "id": "Wv3OX9vLsjc9"
      },
      "id": "Wv3OX9vLsjc9"
    }
  ],
  "metadata": {
    "colab": {
      "provenance": [],
      "toc_visible": true,
      "include_colab_link": true
    },
    "language_info": {
      "name": "python"
    },
    "kernelspec": {
      "name": "python3",
      "display_name": "Python 3"
    }
  },
  "nbformat": 4,
  "nbformat_minor": 5
}