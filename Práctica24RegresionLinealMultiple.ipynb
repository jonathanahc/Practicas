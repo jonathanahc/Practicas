{
  "cells": [
    {
      "cell_type": "markdown",
      "metadata": {
        "id": "view-in-github",
        "colab_type": "text"
      },
      "source": [
        "<a href=\"https://colab.research.google.com/github/jonathanahc/Practicas/blob/main/Pr%C3%A1ctica24RegresionLinealMultiple.ipynb\" target=\"_parent\"><img src=\"https://colab.research.google.com/assets/colab-badge.svg\" alt=\"Open In Colab\"/></a>"
      ]
    },
    {
      "cell_type": "markdown",
      "id": "41f2abd4",
      "metadata": {
        "id": "41f2abd4"
      },
      "source": [
        "# Maestría en Inteligencia Artificial y Analítica de Datos\n",
        "\n",
        "## Programación para Analítica Descriptiva y Predictiva - Marzo 2025\n",
        "## Práctica: Práctica: Regresión Lineal Múltiple\n",
        "---\n",
        "\n",
        "\n",
        "## Datos del Estudiante\n",
        "\n",
        "*   Apellidos y Nombre:\n",
        "*   Matrícula:\n",
        "\n",
        "---\n",
        "\n",
        "\n",
        "\n",
        "##  Objetivo de aprendizaje\n",
        "Al finalizar esta práctica, el estudiante será capaz de **aplicar regresión lineal múltiple utilizando Scikit-Learn para modelar la relación entre varias variables independientes y una variable dependiente**, verificar los supuestos del modelo, interpretar los coeficientes, analizar la correlación entre predictores y evaluar el rendimiento del modelo utilizando métricas como el MSE, RMSE y R².\n",
        "\n",
        "Datos\n",
        "Trabajarás con el archivo `advertising.csv`, que contiene información sobre el gasto publicitario en diferentes medios y las ventas obtenidas:\n",
        "\n",
        "-`TV`: inversión en publicidad televisiva.\n",
        "\n",
        "-`Radio`: inversión en publicidad en radio.\n",
        "\n",
        "-`Newspaper`: inversión en publicidad en periódicos.\n",
        "\n",
        "`Sales`: ventas del producto (variable dependiente)."
      ]
    },
    {
      "cell_type": "code",
      "source": [
        "from google.colab import drive\n",
        "drive.mount('/content/drive')"
      ],
      "metadata": {
        "colab": {
          "base_uri": "https://localhost:8080/"
        },
        "id": "Y5HllDIQaOn2",
        "outputId": "07613b5f-41ad-47f7-cd90-2ad44b7151a1"
      },
      "id": "Y5HllDIQaOn2",
      "execution_count": 1,
      "outputs": [
        {
          "output_type": "stream",
          "name": "stdout",
          "text": [
            "Mounted at /content/drive\n"
          ]
        }
      ]
    },
    {
      "cell_type": "markdown",
      "id": "33a293fd",
      "metadata": {
        "id": "33a293fd"
      },
      "source": [
        "## Parte 1: Carga de datos y bibliotecas\n",
        "1. Importa las bibliotecas necesarias.\n",
        "2. Carga el archivo `advertising.csv`.\n",
        "3. Muestra las primeras filas del dataframe.\n",
        "4. Describe estadísticamente las variables."
      ]
    },
    {
      "cell_type": "code",
      "execution_count": null,
      "id": "3b2a918a",
      "metadata": {
        "id": "3b2a918a"
      },
      "outputs": [],
      "source": [
        "# Tu código aquí\n"
      ]
    },
    {
      "cell_type": "markdown",
      "id": "195b349c",
      "metadata": {
        "id": "195b349c"
      },
      "source": [
        "## Parte 2: Análisis exploratorio de los datos\n",
        "### 2.1  Análisis de la Relación Lineal entre la variable dependiente y las independientes\n",
        "1. Grafica dispersión entre cada variable independiente (`TV`, `Radio`, `Newspaper`) y `Sales`. Usa también regplot.\n",
        "2. Interpreta visualmente la relación entre variables."
      ]
    },
    {
      "cell_type": "code",
      "execution_count": null,
      "id": "de360040",
      "metadata": {
        "id": "de360040"
      },
      "outputs": [],
      "source": [
        "# Gráficos de dispersión\n"
      ]
    },
    {
      "cell_type": "markdown",
      "id": "e761bb4c",
      "metadata": {
        "id": "e761bb4c"
      },
      "source": [
        "### 2.2: Correlación entre variables\n",
        "1. Calcula la matriz de correlación.\n",
        "2. Visualízala con un heatmap.\n",
        "3. Responde: ¿Qué variables están más correlacionadas con `Sales`? ¿Hay correlación alta entre predictores?"
      ]
    },
    {
      "cell_type": "code",
      "execution_count": null,
      "id": "10efd159",
      "metadata": {
        "id": "10efd159"
      },
      "outputs": [],
      "source": [
        "# Correlación y heatmap\n"
      ]
    },
    {
      "cell_type": "markdown",
      "id": "6d8c747b",
      "metadata": {
        "id": "6d8c747b"
      },
      "source": [
        "## Parte 3. Multicolinealidad\n",
        "1. Calcula el VIF (Variance Inflation Factor) para cada predictor.\n",
        "2. Crea un diagrama de barras  para mostrar el  VIF\n",
        "3. Interpreta si hay multicolinealidad:\n",
        "- ¿Alguna variable tiene un VIF mayor a 5 o mayor a 10?\n",
        "- ¿Qué implicaciones tiene esto para el modelo?"
      ]
    },
    {
      "cell_type": "code",
      "source": [
        "#Multicolinealidad"
      ],
      "metadata": {
        "id": "kjmBoiJqTNDg"
      },
      "id": "kjmBoiJqTNDg",
      "execution_count": null,
      "outputs": []
    },
    {
      "cell_type": "markdown",
      "source": [
        "## Parte 4: Construcción del Modelo (Todas las variables Independientes), Evaluación\n",
        "\n",
        "### 4.1 Entrenamiento del Modelo (Todas las Variables Independientes)\n",
        "\n",
        "1. Entrena un modelo de regresión lineal múltiple usando TV, Radio y Newspaper como variables independientes.\n",
        "2. Imprime el intercepto y los coeficientes del modelo.\n",
        "3. Interpreta cada uno:\n",
        "¿Qué significa cada uno de los coeficientes  en términos de ventas?"
      ],
      "metadata": {
        "id": "ecoDawZiUW4_"
      },
      "id": "ecoDawZiUW4_"
    },
    {
      "cell_type": "code",
      "source": [
        "#ntrenamiento del Modelo (Todas las Variables Independientes)"
      ],
      "metadata": {
        "id": "bJ5d7yslUyYI"
      },
      "id": "bJ5d7yslUyYI",
      "execution_count": null,
      "outputs": []
    },
    {
      "cell_type": "markdown",
      "source": [
        "### 4.2 Normalidad de los residuos\n",
        "\n",
        "1. Calcula los residuos: residuos = y - y_pred.\n",
        "\n",
        "2. Grafica un histograma con KDE de los residuos.\n",
        "\n",
        "3. ¿Los residuos parecen distribuirse normalmente?"
      ],
      "metadata": {
        "id": "ekI4O3yPU5ik"
      },
      "id": "ekI4O3yPU5ik"
    },
    {
      "cell_type": "code",
      "source": [
        "#Normalidad de los residuos"
      ],
      "metadata": {
        "id": "p1KpyxIfVEWj"
      },
      "id": "p1KpyxIfVEWj",
      "execution_count": null,
      "outputs": []
    },
    {
      "cell_type": "markdown",
      "source": [
        "### 4.3. Homocedasticidad\n",
        "\n",
        "1. Grafica los residuos contra los valores predichos.\n",
        "2. ¿Observas patrones? ¿Los residuos se dispersan aleatoriamente?"
      ],
      "metadata": {
        "id": "G7751MgpVQfO"
      },
      "id": "G7751MgpVQfO"
    },
    {
      "cell_type": "code",
      "source": [
        "# Homocedasticidad"
      ],
      "metadata": {
        "id": "QAAivkqlVXvF"
      },
      "id": "QAAivkqlVXvF",
      "execution_count": null,
      "outputs": []
    },
    {
      "cell_type": "markdown",
      "source": [
        "### 4.4 Q-Q Plot\n",
        "\n",
        "1. Graficar el Q-Q Plot\n",
        "2. Interpreta el gráfico: a) Si los puntos se alinean aproximadamente sobre la línea diagonal, los residuos siguen una distribución normal, b) Desviaciones sistemáticas indican asimetría o colas pesadas."
      ],
      "metadata": {
        "id": "dbbjhSeeVb6A"
      },
      "id": "dbbjhSeeVb6A"
    },
    {
      "cell_type": "code",
      "source": [
        "#Q-Q Plot"
      ],
      "metadata": {
        "id": "iMo5HgvvVtrM"
      },
      "id": "iMo5HgvvVtrM",
      "execution_count": null,
      "outputs": []
    },
    {
      "cell_type": "markdown",
      "source": [
        "### 4.5. Evaluación del Modelo\n",
        "\n",
        "1. Calcula las métricas: a) MSE (error cuadrático medio), b) RMSE (raíz del error cuadrático medio), c) R² (coeficiente de determinación)\n",
        "\n",
        "2. ¿Qué nos dicen estas métricas sobre el ajuste del modelo?\n"
      ],
      "metadata": {
        "id": "7VgcXSTQVuDX"
      },
      "id": "7VgcXSTQVuDX"
    },
    {
      "cell_type": "code",
      "source": [
        "#Evaluación del Modelo"
      ],
      "metadata": {
        "id": "4srCosNfWIm2"
      },
      "id": "4srCosNfWIm2",
      "execution_count": null,
      "outputs": []
    },
    {
      "cell_type": "markdown",
      "source": [
        "### 4.6. Visualización de Predicciones\n",
        "\n",
        "1. Crea un gráfico comparando Sales reales vs Sales predichas.\n",
        "\n",
        "2. Puedes usar plt.scatter(y_true, y_pred) para evaluar visualmente el ajuste.\n",
        "3.¿Qué observas?¿Qué observas? ¿Qué información puedes obtener de esta gráfica?"
      ],
      "metadata": {
        "id": "iAFIEuPiWLw_"
      },
      "id": "iAFIEuPiWLw_"
    },
    {
      "cell_type": "code",
      "source": [
        "#Visualización de las Predicciones"
      ],
      "metadata": {
        "id": "5FH8sV0fWbOl"
      },
      "id": "5FH8sV0fWbOl",
      "execution_count": null,
      "outputs": []
    },
    {
      "cell_type": "markdown",
      "source": [
        "### 4.7 Verificar el impacto de los atributos en el modelo\n",
        "\n",
        "1. Ajusta el modelo usando statsmodels en lugar de scikit-learn para obtener los valores p.\n",
        "2. Interpreta los resultados:\n",
        "\n",
        " - Observa los valores P>|t| en la tabla de salida.\n",
        "\n",
        " - ¿Qué variables tienen p-value menores a 0.05?\n",
        "\n",
        " - ¿Cuál es la conclusión sobre esas variables?\n"
      ],
      "metadata": {
        "id": "8k74G1nZWjPS"
      },
      "id": "8k74G1nZWjPS"
    },
    {
      "cell_type": "code",
      "source": [
        "#P-values"
      ],
      "metadata": {
        "id": "uuDtIEtcWpx6"
      },
      "id": "uuDtIEtcWpx6",
      "execution_count": null,
      "outputs": []
    },
    {
      "cell_type": "markdown",
      "source": [
        "##Parte 5:  Construcción del Modelo (sin Multicolinealidad), Evaluación\n",
        "\n",
        "En el caso de que hayas detectado variables con multicolinealidad. Elimina aquellas que presenten esta característica y realiza los mismos pasos** que la parte 4.**\n",
        "Escribe cada una de las subsecciones similares a las existentes en la Parte 4."
      ],
      "metadata": {
        "id": "4umoWNeTWvsJ"
      },
      "id": "4umoWNeTWvsJ"
    },
    {
      "cell_type": "markdown",
      "source": [
        "## Parte 6: Construcción del Modelo (sin variables que no muestran una relación lineal), Evaluación\n",
        "\n",
        "En el caso de que hayas detectado variables sin una relación lineal con la variable dependiente. Elimina aquellas que presenten esta característica y realiza lo siguiente.\n",
        "\n",
        "En el caso de que hayas detectado variables sin una relación lineal. Elimina aquellas que presenten esta característica y realiza los mismos pasos** que la parte 4.**\n",
        "Escribe cada una de las subsecciones similares a las existentes en la Parte 4."
      ],
      "metadata": {
        "id": "yEsM03YaXDnL"
      },
      "id": "yEsM03YaXDnL"
    },
    {
      "cell_type": "markdown",
      "source": [
        "##7. Conclusiones.\n",
        "\n",
        "¿Cuál de los tres modelos construidos fue el mejor?\n",
        "¿Cuál fue el atributo que mas influencia tiene en las ventas?"
      ],
      "metadata": {
        "id": "hS58HIhCXTEZ"
      },
      "id": "hS58HIhCXTEZ"
    }
  ],
  "metadata": {
    "colab": {
      "provenance": [],
      "include_colab_link": true
    },
    "language_info": {
      "name": "python"
    },
    "kernelspec": {
      "name": "python3",
      "display_name": "Python 3"
    }
  },
  "nbformat": 4,
  "nbformat_minor": 5
}