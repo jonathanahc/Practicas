{
  "nbformat": 4,
  "nbformat_minor": 0,
  "metadata": {
    "colab": {
      "provenance": [],
      "toc_visible": true,
      "authorship_tag": "ABX9TyPV9qaQI9RbY/zydxEF7Yrm",
      "include_colab_link": true
    },
    "kernelspec": {
      "name": "python3",
      "display_name": "Python 3"
    },
    "language_info": {
      "name": "python"
    }
  },
  "cells": [
    {
      "cell_type": "markdown",
      "metadata": {
        "id": "view-in-github",
        "colab_type": "text"
      },
      "source": [
        "<a href=\"https://colab.research.google.com/github/jonathanahc/Practicas/blob/main/Pr%C3%A1ctica_8_An%C3%A1lisis_de_un_Dataset_con_Seaborn_y_Visualizaci%C3%B3n_Avanzada.ipynb\" target=\"_parent\"><img src=\"https://colab.research.google.com/assets/colab-badge.svg\" alt=\"Open In Colab\"/></a>"
      ]
    },
    {
      "cell_type": "code",
      "execution_count": null,
      "metadata": {
        "id": "XQUQf0U-iwXs"
      },
      "outputs": [],
      "source": [
        "from google.colab import drive\n",
        "drive.mount('/content/drive')\n",
        "\n",
        "import numpy as np\n",
        "import pandas as pd\n",
        "import seaborn as sns"
      ]
    },
    {
      "cell_type": "markdown",
      "source": [
        "# Carga y exploración del dataset:"
      ],
      "metadata": {
        "id": "ncjZWNA0nWsC"
      }
    },
    {
      "cell_type": "markdown",
      "source": [
        "**Cargar el dataset tips usando seaborn.**"
      ],
      "metadata": {
        "id": "WhYpOnvlng43"
      }
    },
    {
      "cell_type": "code",
      "source": [
        "df = sns.load_dataset('tips')"
      ],
      "metadata": {
        "id": "rbfZNWH8jqF0"
      },
      "execution_count": null,
      "outputs": []
    },
    {
      "cell_type": "markdown",
      "source": [
        "**Realizar un análisis preliminar: utiliza .head(), .info(), .describe() para obtener una visión general de los datos.**"
      ],
      "metadata": {
        "id": "gMdU113pnmN6"
      }
    },
    {
      "cell_type": "code",
      "source": [
        "df.head()"
      ],
      "metadata": {
        "id": "9Iu8_cOjnA8F"
      },
      "execution_count": null,
      "outputs": []
    },
    {
      "cell_type": "code",
      "source": [
        "df.info()"
      ],
      "metadata": {
        "id": "uldguD8ej3FZ"
      },
      "execution_count": null,
      "outputs": []
    },
    {
      "cell_type": "code",
      "source": [
        "df.describe()"
      ],
      "metadata": {
        "id": "Yft3TFAHj7MI"
      },
      "execution_count": null,
      "outputs": []
    },
    {
      "cell_type": "markdown",
      "source": [
        "**Verificar la existencia de valores nulos o datos faltantes.**"
      ],
      "metadata": {
        "id": "3TQlcR2vnuLK"
      }
    },
    {
      "cell_type": "code",
      "source": [
        "df.isnull().sum()"
      ],
      "metadata": {
        "id": "v0P4iLDmkAKh"
      },
      "execution_count": null,
      "outputs": []
    },
    {
      "cell_type": "markdown",
      "source": [
        "# Crear los siguientes gráficos con Seaborn:"
      ],
      "metadata": {
        "id": "emUo4gknn5Nk"
      }
    },
    {
      "cell_type": "markdown",
      "source": [
        "**a) Mapa de Calor (Heatmap):**\n",
        "\n",
        "*   **Objetivo:** Visualizar la correlación entre las variables numéricas en el dataset.\n",
        "\n",
        "\n",
        "*   **Instrucciones:** Utiliza un mapa de calor para mostrar la matriz de correlación entre las variables numéricas (total_bill, tip, size).\n",
        "\n",
        "\n",
        "*  Asegúrate de personalizar el mapa con una paleta de colores y etiquetas en los ejes.\n",
        "\n",
        "\n",
        "\n",
        "\n"
      ],
      "metadata": {
        "id": "mdI96-BcoGU2"
      }
    },
    {
      "cell_type": "code",
      "source": [
        "correlation_matrix = df[['total_bill', 'tip','size']].corr()\n",
        "\n",
        "sns.heatmap(correlation_matrix, annot=True)"
      ],
      "metadata": {
        "id": "9Gb1wugNlVId"
      },
      "execution_count": null,
      "outputs": []
    },
    {
      "cell_type": "markdown",
      "source": [
        "**b) Diagrama de Violín:**\n",
        "\n",
        "*   **Objetivo:** Mostrar la distribución de las propinas (tip) para diferentes días de la semana.\n",
        "\n",
        "\n",
        "*   **Instrucciones:** Utiliza un diagrama de violín para comparar cómo varía la distribución de las propinas en cada uno de los días (day).\n",
        "\n",
        "\n",
        "*   Personaliza el gráfico con colores y etiquetas adecuadas.\n",
        "\n",
        "\n",
        "\n",
        "\n"
      ],
      "metadata": {
        "id": "NUWS7dzcoejT"
      }
    },
    {
      "cell_type": "code",
      "source": [
        "sns.violinplot(x='day', y='total_bill', data=df)"
      ],
      "metadata": {
        "id": "RTAVD8eSmukn"
      },
      "execution_count": null,
      "outputs": []
    },
    {
      "cell_type": "markdown",
      "source": [
        "**c) Gráfico de dispersión (Scatter Plot):**\n",
        "\n",
        "*   **Objetivo:** Analizar la relación entre el total de la cuenta (total_bill) y la propina (tip).\n",
        "\n",
        "\n",
        "*   **Instrucciones:** Crea un gráfico de dispersión con total_bill en el eje X y tip en el eje Y. Usa un color diferente para cada día de la semana.\n",
        "\n"
      ],
      "metadata": {
        "id": "7TbtHOHDo-_U"
      }
    },
    {
      "cell_type": "code",
      "source": [
        "sns.scatterplot(x='total_bill', y='tip', data=df)"
      ],
      "metadata": {
        "id": "lyEq12NwnbA5"
      },
      "execution_count": null,
      "outputs": []
    },
    {
      "cell_type": "markdown",
      "source": [
        "**d) Gráfico de barras (Bar Plot):**\n",
        "\n",
        "*   **Objetivo:** Comparar el promedio de la propina (tip) por género (sex).\n",
        "\n",
        "\n",
        "*   **Instrucciones:** Utiliza un gráfico de barras para mostrar el promedio de las propinas por género (hombres y mujeres).\n",
        "\n"
      ],
      "metadata": {
        "id": "w-0sUTcpps-w"
      }
    },
    {
      "cell_type": "code",
      "source": [
        "promedio = df.groupby('sex')['tip'].mean().reset_index()\n",
        "\n",
        "sns.barplot(x='sex', y='tip', data=promedio)"
      ],
      "metadata": {
        "id": "iiICn7s8otl2"
      },
      "execution_count": null,
      "outputs": []
    }
  ]
}