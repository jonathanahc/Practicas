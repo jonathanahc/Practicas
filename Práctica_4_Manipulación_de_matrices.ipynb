{
  "nbformat": 4,
  "nbformat_minor": 0,
  "metadata": {
    "colab": {
      "provenance": [],
      "authorship_tag": "ABX9TyPvI2wQeG6Vr84TkbCycM/y",
      "include_colab_link": true
    },
    "kernelspec": {
      "name": "python3",
      "display_name": "Python 3"
    },
    "language_info": {
      "name": "python"
    }
  },
  "cells": [
    {
      "cell_type": "markdown",
      "metadata": {
        "id": "view-in-github",
        "colab_type": "text"
      },
      "source": [
        "<a href=\"https://colab.research.google.com/github/jonathanahc/Practicas/blob/main/Pr%C3%A1ctica_4_Manipulaci%C3%B3n_de_matrices.ipynb\" target=\"_parent\"><img src=\"https://colab.research.google.com/assets/colab-badge.svg\" alt=\"Open In Colab\"/></a>"
      ]
    },
    {
      "cell_type": "code",
      "execution_count": 1,
      "metadata": {
        "colab": {
          "base_uri": "https://localhost:8080/"
        },
        "id": "zeCsQvO3czJY",
        "outputId": "0a6ad2d4-795c-4994-c4bc-dcf149004b8d"
      },
      "outputs": [
        {
          "output_type": "stream",
          "name": "stdout",
          "text": [
            "Mounted at /content/drive\n"
          ]
        }
      ],
      "source": [
        "from google.colab import drive\n",
        "drive.mount('/content/drive')\n",
        "\n",
        "import numpy as np"
      ]
    },
    {
      "cell_type": "code",
      "source": [
        "# Crea dos matrices de 3x3 con números aleatorios entre 1 y 10\n",
        "\n",
        "matriz1 = np.array(np.random.randint(1,10, size=(3,3)))\n",
        "print(matriz1)\n",
        "\n",
        "print(\"\\n\")\n",
        "\n",
        "matriz2 = np.array(np.random.randint(1,10, size=(3,3)))\n",
        "print(matriz2)"
      ],
      "metadata": {
        "colab": {
          "base_uri": "https://localhost:8080/"
        },
        "id": "WGIVVfCKdK-W",
        "outputId": "084c4622-f5ab-4dfc-ac5d-a31a19c8ce4a"
      },
      "execution_count": 3,
      "outputs": [
        {
          "output_type": "stream",
          "name": "stdout",
          "text": [
            "[[7 6 6]\n",
            " [1 9 9]\n",
            " [3 8 8]]\n",
            "\n",
            "\n",
            "[[3 6 2]\n",
            " [9 7 3]\n",
            " [5 5 6]]\n"
          ]
        }
      ]
    },
    {
      "cell_type": "code",
      "source": [
        "# 1. Suma ambas matrices\n",
        "\n",
        "suma = matriz1 + matriz2\n",
        "print(suma)"
      ],
      "metadata": {
        "colab": {
          "base_uri": "https://localhost:8080/"
        },
        "id": "XZ2Ly2h_d8vy",
        "outputId": "efd24174-18c6-4dce-877d-88cf96a99db9"
      },
      "execution_count": 4,
      "outputs": [
        {
          "output_type": "stream",
          "name": "stdout",
          "text": [
            "[[10 12  8]\n",
            " [10 16 12]\n",
            " [ 8 13 14]]\n"
          ]
        }
      ]
    },
    {
      "cell_type": "code",
      "source": [
        "# 2. Resta la segunda matriz de la primera\n",
        "\n",
        "resta = matriz2 - matriz1\n",
        "print(resta)"
      ],
      "metadata": {
        "colab": {
          "base_uri": "https://localhost:8080/"
        },
        "id": "dQ_n9AXseIlD",
        "outputId": "96cc8851-b99b-498a-8304-b48ce9a22b47"
      },
      "execution_count": 5,
      "outputs": [
        {
          "output_type": "stream",
          "name": "stdout",
          "text": [
            "[[-4  0 -4]\n",
            " [ 8 -2 -6]\n",
            " [ 2 -3 -2]]\n"
          ]
        }
      ]
    },
    {
      "cell_type": "code",
      "source": [
        "# 3. Multiplica la primera matriz por 2\n",
        "\n",
        "multiplicacion = matriz1 * 2\n",
        "print(multiplicacion)"
      ],
      "metadata": {
        "colab": {
          "base_uri": "https://localhost:8080/"
        },
        "id": "1ZbUxIKmecOG",
        "outputId": "ad31bf2c-2a26-44b2-f849-60857b424e34"
      },
      "execution_count": 6,
      "outputs": [
        {
          "output_type": "stream",
          "name": "stdout",
          "text": [
            "[[14 12 12]\n",
            " [ 2 18 18]\n",
            " [ 6 16 16]]\n"
          ]
        }
      ]
    },
    {
      "cell_type": "code",
      "source": [
        "# 4. Realiza una multiplicación matricial entre las dos matrices\n",
        "\n",
        "multiplicacion = matriz1 * matriz2\n",
        "print(multiplicacion)"
      ],
      "metadata": {
        "colab": {
          "base_uri": "https://localhost:8080/"
        },
        "id": "AydsnMHoetR7",
        "outputId": "b3bef771-0f34-401a-99f1-314b41bba240"
      },
      "execution_count": 7,
      "outputs": [
        {
          "output_type": "stream",
          "name": "stdout",
          "text": [
            "[[21 36 12]\n",
            " [ 9 63 27]\n",
            " [15 40 48]]\n"
          ]
        }
      ]
    }
  ]
}