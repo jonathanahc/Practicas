{
  "nbformat": 4,
  "nbformat_minor": 0,
  "metadata": {
    "colab": {
      "provenance": [],
      "authorship_tag": "ABX9TyPqInU0Kh14NRwBPGg3R1Qo",
      "include_colab_link": true
    },
    "kernelspec": {
      "name": "python3",
      "display_name": "Python 3"
    },
    "language_info": {
      "name": "python"
    }
  },
  "cells": [
    {
      "cell_type": "markdown",
      "metadata": {
        "id": "view-in-github",
        "colab_type": "text"
      },
      "source": [
        "<a href=\"https://colab.research.google.com/github/jonathanahc/Practicas/blob/main/Pr%C3%A1ctica_4_Manipulaci%C3%B3n_de_matrices.ipynb\" target=\"_parent\"><img src=\"https://colab.research.google.com/assets/colab-badge.svg\" alt=\"Open In Colab\"/></a>"
      ]
    },
    {
      "cell_type": "code",
      "execution_count": 1,
      "metadata": {
        "id": "zeCsQvO3czJY",
        "outputId": "b765b027-790a-4763-ac42-1df8edd4f190",
        "colab": {
          "base_uri": "https://localhost:8080/"
        }
      },
      "outputs": [
        {
          "output_type": "stream",
          "name": "stdout",
          "text": [
            "Mounted at /content/drive\n"
          ]
        }
      ],
      "source": [
        "from google.colab import drive\n",
        "drive.mount('/content/drive')\n",
        "\n",
        "import numpy as np"
      ]
    },
    {
      "cell_type": "markdown",
      "source": [
        "**Crea dos matrices de 3x3 con números aleatorios entre 1 y 10**"
      ],
      "metadata": {
        "id": "O-Y3reFOjyO4"
      }
    },
    {
      "cell_type": "code",
      "source": [
        "matriz1 = np.array(np.random.randint(1,10, size=(3,3)))\n",
        "print(matriz1)\n",
        "\n",
        "print(\"\\n\")\n",
        "\n",
        "matriz2 = np.array(np.random.randint(1,10, size=(3,3)))\n",
        "print(matriz2)"
      ],
      "metadata": {
        "id": "WGIVVfCKdK-W",
        "outputId": "0bd27325-4166-4f13-c259-7fe696cca9d5",
        "colab": {
          "base_uri": "https://localhost:8080/"
        }
      },
      "execution_count": 2,
      "outputs": [
        {
          "output_type": "stream",
          "name": "stdout",
          "text": [
            "[[9 2 9]\n",
            " [4 5 1]\n",
            " [6 6 4]]\n",
            "\n",
            "\n",
            "[[5 9 7]\n",
            " [7 7 7]\n",
            " [6 9 1]]\n"
          ]
        }
      ]
    },
    {
      "cell_type": "markdown",
      "source": [
        "**Suma ambas matrices**"
      ],
      "metadata": {
        "id": "3V2ndxcbj5Nq"
      }
    },
    {
      "cell_type": "code",
      "source": [
        "suma = matriz1 + matriz2\n",
        "print(suma)"
      ],
      "metadata": {
        "id": "XZ2Ly2h_d8vy",
        "outputId": "4dffb36c-a0e6-483f-a6f4-9dc3bacc6caf",
        "colab": {
          "base_uri": "https://localhost:8080/"
        }
      },
      "execution_count": 3,
      "outputs": [
        {
          "output_type": "stream",
          "name": "stdout",
          "text": [
            "[[14 11 16]\n",
            " [11 12  8]\n",
            " [12 15  5]]\n"
          ]
        }
      ]
    },
    {
      "cell_type": "markdown",
      "source": [
        "**Resta la segunda matriz de la primera**"
      ],
      "metadata": {
        "id": "oHiO5gp2kKm0"
      }
    },
    {
      "cell_type": "code",
      "source": [
        "resta = matriz2 - matriz1\n",
        "print(resta)"
      ],
      "metadata": {
        "id": "dQ_n9AXseIlD",
        "outputId": "61b183a7-95f7-42f1-ec51-f7bd45b63038",
        "colab": {
          "base_uri": "https://localhost:8080/"
        }
      },
      "execution_count": 4,
      "outputs": [
        {
          "output_type": "stream",
          "name": "stdout",
          "text": [
            "[[-4  7 -2]\n",
            " [ 3  2  6]\n",
            " [ 0  3 -3]]\n"
          ]
        }
      ]
    },
    {
      "cell_type": "markdown",
      "source": [
        "**Multiplica la primera matriz por 2**"
      ],
      "metadata": {
        "id": "vxXwX5X7kS7E"
      }
    },
    {
      "cell_type": "code",
      "source": [
        "multiplicacion = np.multiply(matriz1, 2)\n",
        "print(multiplicacion)"
      ],
      "metadata": {
        "id": "1ZbUxIKmecOG",
        "outputId": "76830889-b2b2-4c65-9ae7-345f05f7cf40",
        "colab": {
          "base_uri": "https://localhost:8080/"
        }
      },
      "execution_count": 5,
      "outputs": [
        {
          "output_type": "stream",
          "name": "stdout",
          "text": [
            "[[18  4 18]\n",
            " [ 8 10  2]\n",
            " [12 12  8]]\n"
          ]
        }
      ]
    },
    {
      "cell_type": "markdown",
      "source": [
        "**Realiza una multiplicación matricial entre las dos matrices**"
      ],
      "metadata": {
        "id": "dPiNfkzhkeut"
      }
    },
    {
      "cell_type": "code",
      "source": [
        "multiplicacion = np.dot(matriz1, matriz2)\n",
        "print(multiplicacion)"
      ],
      "metadata": {
        "id": "AydsnMHoetR7",
        "outputId": "39f3dd1f-d447-463c-d267-b7a2345f637b",
        "colab": {
          "base_uri": "https://localhost:8080/"
        }
      },
      "execution_count": 8,
      "outputs": [
        {
          "output_type": "stream",
          "name": "stdout",
          "text": [
            "[[113 176  86]\n",
            " [ 61  80  64]\n",
            " [ 96 132  88]]\n"
          ]
        }
      ]
    }
  ]
}