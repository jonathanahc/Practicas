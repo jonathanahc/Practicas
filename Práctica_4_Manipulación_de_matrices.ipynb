{
  "nbformat": 4,
  "nbformat_minor": 0,
  "metadata": {
    "colab": {
      "provenance": [],
      "authorship_tag": "ABX9TyPvI2wQeG6Vr84TkbCycM/y",
      "include_colab_link": true
    },
    "kernelspec": {
      "name": "python3",
      "display_name": "Python 3"
    },
    "language_info": {
      "name": "python"
    }
  },
  "cells": [
    {
      "cell_type": "markdown",
      "metadata": {
        "id": "view-in-github",
        "colab_type": "text"
      },
      "source": [
        "<a href=\"https://colab.research.google.com/github/jonathanahc/Practicas/blob/main/Pr%C3%A1ctica_4_Manipulaci%C3%B3n_de_matrices.ipynb\" target=\"_parent\"><img src=\"https://colab.research.google.com/assets/colab-badge.svg\" alt=\"Open In Colab\"/></a>"
      ]
    },
    {
      "cell_type": "code",
      "execution_count": null,
      "metadata": {
        "id": "zeCsQvO3czJY"
      },
      "outputs": [],
      "source": [
        "from google.colab import drive\n",
        "drive.mount('/content/drive')\n",
        "\n",
        "import numpy as np"
      ]
    },
    {
      "cell_type": "code",
      "source": [
        "# Crea dos matrices de 3x3 con números aleatorios entre 1 y 10\n",
        "\n",
        "matriz1 = np.array(np.random.randint(1,10, size=(3,3)))\n",
        "print(matriz1)\n",
        "\n",
        "print(\"\\n\")\n",
        "\n",
        "matriz2 = np.array(np.random.randint(1,10, size=(3,3)))\n",
        "print(matriz2)"
      ],
      "metadata": {
        "id": "WGIVVfCKdK-W"
      },
      "execution_count": null,
      "outputs": []
    },
    {
      "cell_type": "code",
      "source": [
        "# 1. Suma ambas matrices\n",
        "\n",
        "suma = matriz1 + matriz2\n",
        "print(suma)"
      ],
      "metadata": {
        "id": "XZ2Ly2h_d8vy"
      },
      "execution_count": null,
      "outputs": []
    },
    {
      "cell_type": "code",
      "source": [
        "# 2. Resta la segunda matriz de la primera\n",
        "\n",
        "resta = matriz2 - matriz1\n",
        "print(resta)"
      ],
      "metadata": {
        "id": "dQ_n9AXseIlD"
      },
      "execution_count": null,
      "outputs": []
    },
    {
      "cell_type": "code",
      "source": [
        "# 3. Multiplica la primera matriz por 2\n",
        "\n",
        "multiplicacion = matriz1 * 2\n",
        "print(multiplicacion)"
      ],
      "metadata": {
        "id": "1ZbUxIKmecOG"
      },
      "execution_count": null,
      "outputs": []
    },
    {
      "cell_type": "code",
      "source": [
        "# 4. Realiza una multiplicación matricial entre las dos matrices\n",
        "\n",
        "multiplicacion = matriz1 * matriz2\n",
        "print(multiplicacion)"
      ],
      "metadata": {
        "id": "AydsnMHoetR7"
      },
      "execution_count": null,
      "outputs": []
    }
  ]
}