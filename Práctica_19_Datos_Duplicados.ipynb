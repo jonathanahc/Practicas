{
  "nbformat": 4,
  "nbformat_minor": 0,
  "metadata": {
    "colab": {
      "provenance": [],
      "mount_file_id": "1lRGDn4dG0Gm-qFfGE7v3Cj1xNNC3ueDS",
      "authorship_tag": "ABX9TyPwEw52I2yQurTXDyI8A6nS",
      "include_colab_link": true
    },
    "kernelspec": {
      "name": "python3",
      "display_name": "Python 3"
    },
    "language_info": {
      "name": "python"
    }
  },
  "cells": [
    {
      "cell_type": "markdown",
      "metadata": {
        "id": "view-in-github",
        "colab_type": "text"
      },
      "source": [
        "<a href=\"https://colab.research.google.com/github/jonathanahc/Practicas/blob/main/Pr%C3%A1ctica_19_Datos_Duplicados.ipynb\" target=\"_parent\"><img src=\"https://colab.research.google.com/assets/colab-badge.svg\" alt=\"Open In Colab\"/></a>"
      ]
    },
    {
      "cell_type": "code",
      "execution_count": null,
      "metadata": {
        "colab": {
          "base_uri": "https://localhost:8080/"
        },
        "id": "XZ8gMe9Sg05I",
        "outputId": "818b328d-09de-4fd7-ce9f-c2e8b746cb62"
      },
      "outputs": [
        {
          "output_type": "stream",
          "name": "stdout",
          "text": [
            "Mounted at /content/drive\n"
          ]
        }
      ],
      "source": [
        "from google.colab import drive\n",
        "drive.mount('/content/drive')\n",
        "\n",
        "import pandas as pd"
      ]
    },
    {
      "cell_type": "markdown",
      "source": [
        "# **Ejercicio 01: Duplicidad Parcial Una columna: Contar y Filtrar los registros duplicados en Duration**"
      ],
      "metadata": {
        "id": "fsdZ4RX5kdAK"
      }
    },
    {
      "cell_type": "markdown",
      "source": [
        "Carga el conjunto de datos dirty.csv y verifica que su carga sea correcta"
      ],
      "metadata": {
        "id": "5Zd7pvgFklXR"
      }
    },
    {
      "cell_type": "code",
      "source": [
        "df = pd.read_csv('/content/drive/MyDrive/Unidad02/dirtydata.csv')\n",
        "\n",
        "df.head()"
      ],
      "metadata": {
        "id": "FvJZ4p-lks9X"
      },
      "execution_count": null,
      "outputs": []
    },
    {
      "cell_type": "markdown",
      "source": [
        "Cuenta la cantidad de registros duplicados utilizando solo la información de columna Duration e imprime"
      ],
      "metadata": {
        "id": "8eRJMNCDlOjS"
      }
    },
    {
      "cell_type": "code",
      "source": [
        "print(df.duplicated(subset=['Duration'], keep=False).sum())"
      ],
      "metadata": {
        "id": "A2o2CxVvlSEl"
      },
      "execution_count": null,
      "outputs": []
    },
    {
      "cell_type": "markdown",
      "source": [
        "Utiliza value_counts() e imprime la cantidad de registros que hay por cada valor único"
      ],
      "metadata": {
        "id": "brHIi3jgmE4p"
      }
    },
    {
      "cell_type": "code",
      "source": [
        "conteo = df['Duration'].value_counts()\n",
        "conteo"
      ],
      "metadata": {
        "id": "LKexjy8SmIOI"
      },
      "execution_count": null,
      "outputs": []
    },
    {
      "cell_type": "markdown",
      "source": [
        "Filtra los datos y obten los registros sin duplicados"
      ],
      "metadata": {
        "id": "X1aIkkZWmeTU"
      }
    },
    {
      "cell_type": "code",
      "source": [
        "filtro = df[~df.duplicated(subset=['Duration'], keep=False)]\n",
        "filtro"
      ],
      "metadata": {
        "id": "J7YiCo5XnVtz"
      },
      "execution_count": null,
      "outputs": []
    },
    {
      "cell_type": "markdown",
      "source": [
        "# **Ejercicio 02 Duplicidad Parcial Dos columnas: Contar y Filtrar los registros duplicados en Pulse y MaxPulse**"
      ],
      "metadata": {
        "id": "dQcDUInMnWNK"
      }
    },
    {
      "cell_type": "markdown",
      "source": [
        "Carga el conjunto de datos dirty.csv y verifica que su carga sea correcta"
      ],
      "metadata": {
        "id": "KPMOTs6bnggI"
      }
    },
    {
      "cell_type": "code",
      "source": [
        "df = pd.read_csv('/content/drive/MyDrive/Unidad02/dirtydata.csv')\n",
        "\n",
        "df.head()"
      ],
      "metadata": {
        "id": "3XGuYCnJnk30"
      },
      "execution_count": null,
      "outputs": []
    },
    {
      "cell_type": "markdown",
      "source": [
        "Cuenta la cantidad de registros duplicados utilizando la información de las columnas Pulse y Maxpulse"
      ],
      "metadata": {
        "id": "3s1m2HX2nwkF"
      }
    },
    {
      "cell_type": "code",
      "source": [
        "print(df.duplicated(subset=['Pulse', 'Maxpulse'], keep=False).sum())"
      ],
      "metadata": {
        "id": "U5YovMSunzZx"
      },
      "execution_count": null,
      "outputs": []
    },
    {
      "cell_type": "markdown",
      "source": [
        "Utiliza value_counts() e imprime la cantidad de registros que hay por cada valor único"
      ],
      "metadata": {
        "id": "OQy_XA1goIBT"
      }
    },
    {
      "cell_type": "code",
      "source": [
        "conteo1 = df['Pulse'].value_counts()\n",
        "conteo1"
      ],
      "metadata": {
        "id": "9X_U5QLKoLz3"
      },
      "execution_count": null,
      "outputs": []
    },
    {
      "cell_type": "code",
      "source": [
        "conteo2 = df['Maxpulse'].value_counts()\n",
        "conteo2"
      ],
      "metadata": {
        "id": "kJhG52wUGDI4"
      },
      "execution_count": null,
      "outputs": []
    },
    {
      "cell_type": "markdown",
      "source": [
        "Filtra los datos y obten los registros cuando keep = 'last'"
      ],
      "metadata": {
        "id": "KzJrdUWLof19"
      }
    },
    {
      "cell_type": "code",
      "source": [
        "filtro2 = df[~df.duplicated(subset=['Pulse', 'Maxpulse'], keep='last')]\n",
        "filtro2"
      ],
      "metadata": {
        "id": "CLLe8SS4o5EW"
      },
      "execution_count": null,
      "outputs": []
    },
    {
      "cell_type": "markdown",
      "source": [
        "# **Ejercicio 03 Duplicidad Total o Exacta: Contar y Filtrar los registros duplicados**\n",
        "\n"
      ],
      "metadata": {
        "id": "E2bGzQD5pJH8"
      }
    },
    {
      "cell_type": "markdown",
      "source": [
        "Carga el conjunto de datos dirty.csv y verifica que su carga sea correcta"
      ],
      "metadata": {
        "id": "c-y_MODDpN3r"
      }
    },
    {
      "cell_type": "code",
      "source": [
        "df = pd.read_csv('/content/drive/MyDrive/Unidad02/dirtydata.csv')\n",
        "\n",
        "df.head()"
      ],
      "metadata": {
        "id": "IZI7jpmOpRLx"
      },
      "execution_count": null,
      "outputs": []
    },
    {
      "cell_type": "markdown",
      "source": [
        "Cuenta la cantidad de registros duplicados exactos (todas las columnas)\n"
      ],
      "metadata": {
        "id": "78QwVixgpVIj"
      }
    },
    {
      "cell_type": "code",
      "source": [
        "print((df.duplicated(keep=False)).value_counts())"
      ],
      "metadata": {
        "id": "T-QPkwoqpXp7"
      },
      "execution_count": null,
      "outputs": []
    },
    {
      "cell_type": "markdown",
      "source": [
        "Utiliza sum() e imprime la cantidad de registros con duplicidad exacta"
      ],
      "metadata": {
        "id": "Dzmco9WBqDB2"
      }
    },
    {
      "cell_type": "code",
      "source": [
        "print(df.duplicated(keep=False).sum())"
      ],
      "metadata": {
        "id": "0I5UqXveqHo1"
      },
      "execution_count": null,
      "outputs": []
    },
    {
      "cell_type": "markdown",
      "source": [
        "Filtra los datos y obten los registros cuando keep = 'last'"
      ],
      "metadata": {
        "id": "I4SCOo6Vq1Hb"
      }
    },
    {
      "cell_type": "code",
      "source": [
        "filtro3 = df[~df.duplicated(keep='last')]\n",
        "filtro3"
      ],
      "metadata": {
        "id": "r_5mZp9Qq2O3"
      },
      "execution_count": null,
      "outputs": []
    },
    {
      "cell_type": "markdown",
      "source": [
        "# **Ejercicio 04: Cálculo de la media con duplicados y sin duplicados**\n",
        "\n"
      ],
      "metadata": {
        "id": "_41svu_LrC1F"
      }
    },
    {
      "cell_type": "markdown",
      "source": [
        "Carga el conjunto de datos dirty.csv y verifica que su carga sea correcta"
      ],
      "metadata": {
        "id": "LT3geosArGeG"
      }
    },
    {
      "cell_type": "code",
      "source": [
        "df = pd.read_csv('/content/drive/MyDrive/Unidad02/dirtydata.csv')\n",
        "\n",
        "df.head()"
      ],
      "metadata": {
        "id": "E6EXshQsrI9o"
      },
      "execution_count": null,
      "outputs": []
    },
    {
      "cell_type": "markdown",
      "source": [
        "Calcula e imprime la media de las columnas Pulse y MaxPulse"
      ],
      "metadata": {
        "id": "9tF2SJp_rOZ5"
      }
    },
    {
      "cell_type": "code",
      "source": [
        "media = df[['Pulse', 'Maxpulse']].mean()\n",
        "media"
      ],
      "metadata": {
        "id": "NmbRd3azrQ9v"
      },
      "execution_count": null,
      "outputs": []
    },
    {
      "cell_type": "markdown",
      "source": [
        "Identifica los valores duplicados en las columnas Pulse y MaxPulse (Duplicidad Parcial) y elimina los registro repetidos. Quédate con las últimas ocurrencias"
      ],
      "metadata": {
        "id": "HEzNKyYH3U6N"
      }
    },
    {
      "cell_type": "code",
      "source": [
        "duplicado = df.drop_duplicates(subset=['Pulse', 'Maxpulse'], keep='last')\n",
        "duplicado"
      ],
      "metadata": {
        "id": "AmlVvV5m4o22"
      },
      "execution_count": null,
      "outputs": []
    },
    {
      "cell_type": "markdown",
      "source": [
        "Utiliza el conjunto anterior sin datos duplicados (recuerda que solo quedaron las últimas ocurrencias de los datos) y calcula la media de las columnas Pulse y MaxPulse"
      ],
      "metadata": {
        "id": "WHx4w-3E71Yf"
      }
    },
    {
      "cell_type": "code",
      "source": [
        "media2 = duplicado[['Pulse', 'Maxpulse']].mean()\n",
        "media2"
      ],
      "metadata": {
        "id": "OgZNKVeJ7742"
      },
      "execution_count": null,
      "outputs": []
    }
  ]
}