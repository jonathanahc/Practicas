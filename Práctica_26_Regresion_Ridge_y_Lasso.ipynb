{
  "nbformat": 4,
  "nbformat_minor": 0,
  "metadata": {
    "colab": {
      "provenance": [],
      "include_colab_link": true
    },
    "kernelspec": {
      "name": "python3",
      "display_name": "Python 3"
    },
    "language_info": {
      "name": "python"
    }
  },
  "cells": [
    {
      "cell_type": "markdown",
      "metadata": {
        "id": "view-in-github",
        "colab_type": "text"
      },
      "source": [
        "<a href=\"https://colab.research.google.com/github/jonathanahc/Practicas/blob/main/Pr%C3%A1ctica_26_Regresion_Ridge_y_Lasso.ipynb\" target=\"_parent\"><img src=\"https://colab.research.google.com/assets/colab-badge.svg\" alt=\"Open In Colab\"/></a>"
      ]
    },
    {
      "cell_type": "markdown",
      "source": [
        "### **Instrucciones y Objetivos para la Práctica: Regresión Lasso y Ridge**\n",
        "\n",
        "#### **📌 Objetivos de la Práctica:**  \n",
        "Al finalizar esta práctica, los estudiantes serán capaces de:  \n",
        "1. **Realizar un Análisis Exploratorio de Datos (EDA)** completo, incluyendo visualización de distribuciones, detección de outliers y análisis de correlaciones.  \n",
        "2. **Preprocesar datos** correctamente, manejando valores faltantes, codificando variables categóricas y escalando características.  \n",
        "3. **Implementar modelos de regresión Lasso y Ridge**, entendiendo cómo la regularización afecta los coeficientes.  \n",
        "4. **Verificar los supuestos de la regresión lineal** (linealidad, normalidad de residuos, homocedasticidad y multicolinealidad).  \n",
        "5. **Comparar el rendimiento** de ambos modelos y analizar qué variables son más relevantes en cada caso.  \n",
        "\n",
        "---\n",
        "\n",
        "### **📋 Instrucciones**  \n",
        "\n",
        "#### **🔹 Paso 1: Configuración Inicial**\n",
        "✅ Carga el set de datos que puedes encontrar en el campus virtual\n",
        "✅ Ejecutar las celdas de importación de librerías y carga del dataset.  \n",
        "✅ Familiarizarse con los datos usando `.head()`, `.info()` y `.describe()`.  \n",
        "\n",
        "#### **🔹 Paso 2: Análisis Exploratorio (EDA)**  \n",
        "📊 **Para variables numéricas:**  \n",
        "- Generar histogramas y boxplots para identificar distribuciones y outliers.  \n",
        "- Calcular medidas de tendencia central y dispersión.  \n",
        "\n",
        "📊 **Para variables categóricas:**  \n",
        "- Usar gráficos de barras para visualizar frecuencias.    \n",
        "\n",
        "#### **🔹 Paso 3: Matriz de Correlación**  \n",
        "✅ Calcular la matriz de correlación **solo para variables numéricas**.  \n",
        "✅ Generar un **mapa de calor** para visualizar relaciones.  \n",
        "📌 **Pregunta:** ¿Qué variables están más correlacionadas con el target (`charges`)?  \n",
        "\n",
        "#### **🔹 Paso 4: Preprocesamiento**  \n",
        "🔧 **Tareas:**  \n",
        "1. Manejar valores faltantes con `SimpleImputer`.  \n",
        "2. Codificar variables categóricas con `OneHotEncoder`.  \n",
        "3. Estandarizar variables numéricas con `StandardScaler`.  \n",
        "✅ Verificar que el dataset transformado no tenga valores nulos.  \n",
        "\n",
        "#### **🔹 Paso 5: Modelado (Lasso y Ridge)**  \n",
        "🎯 **Para cada modelo:**  \n",
        "1. Ajustar el modelo con los hiperparámetros dados (`alpha=0.1` para Lasso, `alpha=1.0` para Ridge).  \n",
        "2. Calcular **MSE** y **R²** para evaluar rendimiento.  \n",
        "3. Analizar los coeficientes para identificar variables importantes.  \n",
        "\n",
        "📌 **Pregunta:**  \n",
        "- ¿Qué modelo tiene un mejor R²? ¿Por qué crees que ocurre esto?  \n",
        "- ¿Qué variables tienen coeficientes cercanos a cero en Lasso? ¿Por qué?  \n",
        "\n",
        "#### **🔹 Paso 6: Verificación de Supuestos**  \n",
        "📉 **Para cada modelo, verificar:**  \n",
        "1. **Linealidad** (gráfico de residuos vs predicciones).  \n",
        "2. **Normalidad de residuos** (QQ-Plot y test de Shapiro-Wilk).  \n",
        "3. **Homocedasticidad** (test de Breusch-Pagan).  \n",
        "4. **Multicolinealidad** (VIF > 10 indica problema).  \n",
        "\n",
        "📌 **Pregunta:**  \n",
        "- ¿Se cumplen los supuestos en ambos modelos?  \n",
        "- Si hay heterocedasticidad, ¿cómo podría solucionarse?  \n",
        "\n",
        "#### **🔹 Paso 7: Comparación Final**  \n",
        "📊 **Analizar:**  \n",
        "- ¿Qué modelo es más interpretable?  \n",
        "- ¿Cuál reduce mejor el sobreajuste?  \n",
        "- ¿Qué variables son más importantes en cada caso?  \n",
        "\n",
        "---\n",
        "\n",
        "### **📌 Entrega de la Práctica**  \n",
        "Al finalizar la practica, incluye un texto con los siguientes elementos\n",
        "- Incluir **comentarios explicativos** en cada paso.  \n",
        "- Responder las **preguntas planteadas** en celdas Markdown.  \n",
        "\n",
        "🎯 **Criterios de Evaluación:**  \n",
        "✔ **Correcto preprocesamiento** (manejo de nulos, escalado, encoding).  \n",
        "✔ **Análisis visual y estadístico** (gráficos claros, interpretación de resultados).  \n",
        "✔ **Validación de supuestos** (justificación de si se cumplen o no).  \n",
        "✔ **Comparación crítica** entre Lasso y Ridge.  "
      ],
      "metadata": {
        "id": "cutGS1pjlfr3"
      }
    }
  ]
}