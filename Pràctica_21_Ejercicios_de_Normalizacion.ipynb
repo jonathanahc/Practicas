{
  "nbformat": 4,
  "nbformat_minor": 0,
  "metadata": {
    "colab": {
      "provenance": [],
      "toc_visible": true,
      "include_colab_link": true
    },
    "kernelspec": {
      "name": "python3",
      "display_name": "Python 3"
    },
    "language_info": {
      "name": "python"
    }
  },
  "cells": [
    {
      "cell_type": "markdown",
      "metadata": {
        "id": "view-in-github",
        "colab_type": "text"
      },
      "source": [
        "<a href=\"https://colab.research.google.com/github/jonathanahc/Practicas/blob/main/Pra%CC%80ctica_21_Ejercicios_de_Normalizacion.ipynb\" target=\"_parent\"><img src=\"https://colab.research.google.com/assets/colab-badge.svg\" alt=\"Open In Colab\"/></a>"
      ]
    },
    {
      "cell_type": "code",
      "source": [],
      "metadata": {
        "id": "cfPFwyoUk1HR"
      },
      "execution_count": null,
      "outputs": []
    },
    {
      "cell_type": "markdown",
      "source": [
        "# Ejercicio 1: Normalización Min-Max"
      ],
      "metadata": {
        "id": "LQWZlVg0Ytc4"
      }
    },
    {
      "cell_type": "markdown",
      "source": [
        "***1. Cargar el dataset wine de sklearn***\n"
      ],
      "metadata": {
        "id": "Jb5iyO_JY5Ax"
      }
    },
    {
      "cell_type": "code",
      "source": [],
      "metadata": {
        "id": "abcNorpvZb4Z"
      },
      "execution_count": null,
      "outputs": []
    },
    {
      "cell_type": "markdown",
      "source": [
        "***2. Seleccionar una de las características numéricas (por ejemplo, alcohol)***"
      ],
      "metadata": {
        "id": "Z_UUhjxKaI--"
      }
    },
    {
      "cell_type": "code",
      "source": [],
      "metadata": {
        "id": "IqXSSsWBaPFV"
      },
      "execution_count": null,
      "outputs": []
    },
    {
      "cell_type": "markdown",
      "source": [
        "***3. Realizar una prueba de normalidad (usando scipy.stats.shapiro) sobre los datos originales***"
      ],
      "metadata": {
        "id": "ZbBtpgWKjClE"
      }
    },
    {
      "cell_type": "code",
      "source": [],
      "metadata": {
        "id": "GvoXRKGxjRgW"
      },
      "execution_count": null,
      "outputs": []
    },
    {
      "cell_type": "markdown",
      "source": [
        "***4. Aplicar la normalización Min-Max a los datos seleccionados***"
      ],
      "metadata": {
        "id": "CBJlGtGZjSFA"
      }
    },
    {
      "cell_type": "code",
      "source": [],
      "metadata": {
        "id": "LSrnC15jjYkU"
      },
      "execution_count": null,
      "outputs": []
    },
    {
      "cell_type": "markdown",
      "source": [
        "***5. Realizar la prueba de normalidad nuevamente sobre los datos normalizados***"
      ],
      "metadata": {
        "id": "h52zawGSjimE"
      }
    },
    {
      "cell_type": "code",
      "source": [],
      "metadata": {
        "id": "t-o9q23Sjncl"
      },
      "execution_count": null,
      "outputs": []
    },
    {
      "cell_type": "markdown",
      "source": [
        "***6. Graficar los datos originales y los normalizados utilizando matplotlib o seaborn***"
      ],
      "metadata": {
        "id": "WxR7qUPVjn_2"
      }
    },
    {
      "cell_type": "code",
      "source": [],
      "metadata": {
        "id": "XkOIeHaSjv_z"
      },
      "execution_count": null,
      "outputs": []
    },
    {
      "cell_type": "markdown",
      "source": [
        "***7. Responder las preguntas siguientes***\n",
        "\n",
        "*   ¿Cómo afectó la normalización Min-Max a la distribución de los datos?\n",
        "\n",
        "\n",
        "*   ¿Qué interpretas del p-valor antes y después de la normalización?\n"
      ],
      "metadata": {
        "id": "6VdTZQDbkDKb"
      }
    },
    {
      "cell_type": "markdown",
      "source": [
        "# Ejercicio 2: Normalización Z-Score\n",
        "\n",
        "Instrucciones:\n",
        "1.\tCargar el dataset wine de sklearn.\n",
        "2.\tSeleccionar una de las características numéricas (por ejemplo, malic_acid).\n",
        "3.\tRealizar una prueba de normalidad (usando scipy.stats.shapiro) sobre los datos originales.\n",
        "4.\tAplicar la normalización Z-Score a los datos seleccionados.\n",
        "5.\tRealizar la prueba de normalidad nuevamente sobre los datos normalizados.\n",
        "6.\tGraficar los datos originales y los normalizados utilizando matplotlib o seaborn.\n",
        "7.\tResponder las preguntas siguientes.\n",
        "\n",
        "Preguntas:\n",
        "1.\t¿Qué diferencia observas entre la distribución original y la normalizada con Z-Score?\n",
        "2.\t¿Qué implicaciones tiene la normalización Z-Score en el análisis de los datos?\n",
        "\n"
      ],
      "metadata": {
        "id": "U0VuI_yIbyIM"
      }
    },
    {
      "cell_type": "markdown",
      "source": [
        "Ejercicio 3: Transformación Logarítmica\n",
        "Instrucciones:\n",
        "1.\tCargar un conjunto de datos aleatorios generados con numpy.\n",
        "2.\tAplicar una transformación logarítmica (np.log) a los datos.\n",
        "3.\tRealizar una prueba de normalidad sobre los datos originales y transformados.\n",
        "4.\tGraficar los datos originales y transformados utilizando matplotlib.\n",
        "5.\tResponder las preguntas siguientes.\n",
        "\n",
        "Preguntas:\n",
        "1.\t¿Cómo afectó la transformación logarítmica a la distribución de los datos?\n",
        "2.\t¿Qué interpretas del p-valor antes y después de la transformación logarítmica?\n"
      ],
      "metadata": {
        "id": "sTidnFLAcNX4"
      }
    },
    {
      "cell_type": "markdown",
      "source": [
        "Ejercicio 4: Transformación Raíz Cuadrada\n",
        "Instrucciones:\n",
        "1.\tCargar un conjunto de datos aleatorios generados con numpy.\n",
        "2.\tAplicar una transformación de raíz cuadrada a los datos.\n",
        "3.\tRealizar una prueba de normalidad sobre los datos originales y transformados.\n",
        "4.\tGraficar los datos originales y transformados utilizando matplotlib.\n",
        "5.\tResponder las preguntas siguientes.\n",
        "\n",
        "Preguntas:\n",
        "1.\t¿Cómo afectó la transformación raíz cuadrada a la distribución de los datos?\n",
        "2.\t¿Qué efectos tiene la raíz cuadrada sobre los valores extremos de los datos?\n"
      ],
      "metadata": {
        "id": "ZJ9HBqMxceNC"
      }
    },
    {
      "cell_type": "markdown",
      "source": [
        "Ejercicio 5: Transformación Box-Cox\n",
        "Instrucciones:\n",
        "1.\tCargar un conjunto de datos aleatorios generados con numpy.\n",
        "2.\tAplicar la transformación Box-Cox a los datos utilizando scipy.stats.boxcox.\n",
        "3.\tRealizar una prueba de normalidad sobre los datos originales y transformados.\n",
        "4.\tGraficar los datos originales y transformados utilizando matplotlib.\n",
        "5.\tResponder las preguntas siguientes.\n",
        "\n",
        "Preguntas:\n",
        "1.\t¿Cómo afectó la transformación Box-Cox a la distribución de los datos?\n",
        "2.\t¿Qué interpretación tiene el valor lambda obtenido en la transformación Box-Cox?\n"
      ],
      "metadata": {
        "id": "3bz1072ocvXS"
      }
    }
  ]
}