{
  "nbformat": 4,
  "nbformat_minor": 0,
  "metadata": {
    "colab": {
      "provenance": [],
      "toc_visible": true,
      "mount_file_id": "19pEtjK0ZYIUacfKHOOa198NZdw_9B_Yt",
      "authorship_tag": "ABX9TyNMDrgFjhUwAQFjuPiDv9Tg",
      "include_colab_link": true
    },
    "kernelspec": {
      "name": "python3",
      "display_name": "Python 3"
    },
    "language_info": {
      "name": "python"
    }
  },
  "cells": [
    {
      "cell_type": "markdown",
      "metadata": {
        "id": "view-in-github",
        "colab_type": "text"
      },
      "source": [
        "<a href=\"https://colab.research.google.com/github/jonathanahc/Practicas/blob/main/Untitled0.ipynb\" target=\"_parent\"><img src=\"https://colab.research.google.com/assets/colab-badge.svg\" alt=\"Open In Colab\"/></a>"
      ]
    },
    {
      "cell_type": "markdown",
      "source": [
        "**MI primera sección**"
      ],
      "metadata": {
        "id": "CCTCyXg9mzO4"
      }
    },
    {
      "cell_type": "markdown",
      "source": [
        "PRUEBA"
      ],
      "metadata": {
        "id": "BNkB_XnInc8h"
      }
    },
    {
      "cell_type": "markdown",
      "source": [
        "# Sección nueva"
      ],
      "metadata": {
        "id": "RrUuRWTanlKs"
      }
    },
    {
      "cell_type": "code",
      "source": [
        "print(5+6)"
      ],
      "metadata": {
        "colab": {
          "base_uri": "https://localhost:8080/"
        },
        "id": "8DlTqL1lm7kl",
        "outputId": "9b18f18a-bdb6-4c99-93ff-fd927d3aeaa0"
      },
      "execution_count": 1,
      "outputs": [
        {
          "output_type": "stream",
          "name": "stdout",
          "text": [
            "11\n"
          ]
        }
      ]
    },
    {
      "cell_type": "code",
      "source": [
        "print('Hola mundo')"
      ],
      "metadata": {
        "colab": {
          "base_uri": "https://localhost:8080/"
        },
        "id": "UaZ8Lw3wnDB4",
        "outputId": "0f84cd79-fb0c-40f6-8927-331b8d7fe511"
      },
      "execution_count": 2,
      "outputs": [
        {
          "output_type": "stream",
          "name": "stdout",
          "text": [
            "Hola mundo\n"
          ]
        }
      ]
    }
  ]
}