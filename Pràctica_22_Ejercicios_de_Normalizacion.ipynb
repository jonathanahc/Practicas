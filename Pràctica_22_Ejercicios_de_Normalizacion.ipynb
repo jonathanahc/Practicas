{
  "nbformat": 4,
  "nbformat_minor": 0,
  "metadata": {
    "colab": {
      "provenance": [],
      "include_colab_link": true
    },
    "kernelspec": {
      "name": "python3",
      "display_name": "Python 3"
    },
    "language_info": {
      "name": "python"
    }
  },
  "cells": [
    {
      "cell_type": "markdown",
      "metadata": {
        "id": "view-in-github",
        "colab_type": "text"
      },
      "source": [
        "<a href=\"https://colab.research.google.com/github/jonathanahc/Practicas/blob/main/Pra%CC%80ctica_22_Ejercicios_de_Normalizacion.ipynb\" target=\"_parent\"><img src=\"https://colab.research.google.com/assets/colab-badge.svg\" alt=\"Open In Colab\"/></a>"
      ]
    },
    {
      "cell_type": "code",
      "source": [
        "import pandas as pd\n",
        "import numpy as np\n",
        "import matplotlib.pyplot as plt\n",
        "from sklearn import datasets\n",
        "from scipy import stats\n",
        "from sklearn.preprocessing import MinMaxScaler, StandardScaler"
      ],
      "metadata": {
        "id": "cfPFwyoUk1HR"
      },
      "execution_count": 1,
      "outputs": []
    },
    {
      "cell_type": "markdown",
      "source": [
        "# Ejercicio 1: Normalización Min-Max"
      ],
      "metadata": {
        "id": "LQWZlVg0Ytc4"
      }
    },
    {
      "cell_type": "markdown",
      "source": [
        "***1. Cargar el dataset wine de sklearn***\n"
      ],
      "metadata": {
        "id": "Jb5iyO_JY5Ax"
      }
    },
    {
      "cell_type": "code",
      "source": [
        "wine = datasets.load_wine()\n",
        "x, y = wine.data, wine.target\n",
        "df = pd.DataFrame(x, columns=wine.feature_names)\n",
        "df.head()"
      ],
      "metadata": {
        "colab": {
          "base_uri": "https://localhost:8080/",
          "height": 226
        },
        "id": "abcNorpvZb4Z",
        "outputId": "6b696dd9-7f75-4f62-cf05-b0282a0a0180"
      },
      "execution_count": 3,
      "outputs": [
        {
          "output_type": "execute_result",
          "data": {
            "text/plain": [
              "   alcohol  malic_acid   ash  alcalinity_of_ash  magnesium  total_phenols  \\\n",
              "0    14.23        1.71  2.43               15.6      127.0           2.80   \n",
              "1    13.20        1.78  2.14               11.2      100.0           2.65   \n",
              "2    13.16        2.36  2.67               18.6      101.0           2.80   \n",
              "3    14.37        1.95  2.50               16.8      113.0           3.85   \n",
              "4    13.24        2.59  2.87               21.0      118.0           2.80   \n",
              "\n",
              "   flavanoids  nonflavanoid_phenols  proanthocyanins  color_intensity   hue  \\\n",
              "0        3.06                  0.28             2.29             5.64  1.04   \n",
              "1        2.76                  0.26             1.28             4.38  1.05   \n",
              "2        3.24                  0.30             2.81             5.68  1.03   \n",
              "3        3.49                  0.24             2.18             7.80  0.86   \n",
              "4        2.69                  0.39             1.82             4.32  1.04   \n",
              "\n",
              "   od280/od315_of_diluted_wines  proline  \n",
              "0                          3.92   1065.0  \n",
              "1                          3.40   1050.0  \n",
              "2                          3.17   1185.0  \n",
              "3                          3.45   1480.0  \n",
              "4                          2.93    735.0  "
            ],
            "text/html": [
              "\n",
              "  <div id=\"df-c36dbbe2-4378-4a73-8139-68aecda571ca\" class=\"colab-df-container\">\n",
              "    <div>\n",
              "<style scoped>\n",
              "    .dataframe tbody tr th:only-of-type {\n",
              "        vertical-align: middle;\n",
              "    }\n",
              "\n",
              "    .dataframe tbody tr th {\n",
              "        vertical-align: top;\n",
              "    }\n",
              "\n",
              "    .dataframe thead th {\n",
              "        text-align: right;\n",
              "    }\n",
              "</style>\n",
              "<table border=\"1\" class=\"dataframe\">\n",
              "  <thead>\n",
              "    <tr style=\"text-align: right;\">\n",
              "      <th></th>\n",
              "      <th>alcohol</th>\n",
              "      <th>malic_acid</th>\n",
              "      <th>ash</th>\n",
              "      <th>alcalinity_of_ash</th>\n",
              "      <th>magnesium</th>\n",
              "      <th>total_phenols</th>\n",
              "      <th>flavanoids</th>\n",
              "      <th>nonflavanoid_phenols</th>\n",
              "      <th>proanthocyanins</th>\n",
              "      <th>color_intensity</th>\n",
              "      <th>hue</th>\n",
              "      <th>od280/od315_of_diluted_wines</th>\n",
              "      <th>proline</th>\n",
              "    </tr>\n",
              "  </thead>\n",
              "  <tbody>\n",
              "    <tr>\n",
              "      <th>0</th>\n",
              "      <td>14.23</td>\n",
              "      <td>1.71</td>\n",
              "      <td>2.43</td>\n",
              "      <td>15.6</td>\n",
              "      <td>127.0</td>\n",
              "      <td>2.80</td>\n",
              "      <td>3.06</td>\n",
              "      <td>0.28</td>\n",
              "      <td>2.29</td>\n",
              "      <td>5.64</td>\n",
              "      <td>1.04</td>\n",
              "      <td>3.92</td>\n",
              "      <td>1065.0</td>\n",
              "    </tr>\n",
              "    <tr>\n",
              "      <th>1</th>\n",
              "      <td>13.20</td>\n",
              "      <td>1.78</td>\n",
              "      <td>2.14</td>\n",
              "      <td>11.2</td>\n",
              "      <td>100.0</td>\n",
              "      <td>2.65</td>\n",
              "      <td>2.76</td>\n",
              "      <td>0.26</td>\n",
              "      <td>1.28</td>\n",
              "      <td>4.38</td>\n",
              "      <td>1.05</td>\n",
              "      <td>3.40</td>\n",
              "      <td>1050.0</td>\n",
              "    </tr>\n",
              "    <tr>\n",
              "      <th>2</th>\n",
              "      <td>13.16</td>\n",
              "      <td>2.36</td>\n",
              "      <td>2.67</td>\n",
              "      <td>18.6</td>\n",
              "      <td>101.0</td>\n",
              "      <td>2.80</td>\n",
              "      <td>3.24</td>\n",
              "      <td>0.30</td>\n",
              "      <td>2.81</td>\n",
              "      <td>5.68</td>\n",
              "      <td>1.03</td>\n",
              "      <td>3.17</td>\n",
              "      <td>1185.0</td>\n",
              "    </tr>\n",
              "    <tr>\n",
              "      <th>3</th>\n",
              "      <td>14.37</td>\n",
              "      <td>1.95</td>\n",
              "      <td>2.50</td>\n",
              "      <td>16.8</td>\n",
              "      <td>113.0</td>\n",
              "      <td>3.85</td>\n",
              "      <td>3.49</td>\n",
              "      <td>0.24</td>\n",
              "      <td>2.18</td>\n",
              "      <td>7.80</td>\n",
              "      <td>0.86</td>\n",
              "      <td>3.45</td>\n",
              "      <td>1480.0</td>\n",
              "    </tr>\n",
              "    <tr>\n",
              "      <th>4</th>\n",
              "      <td>13.24</td>\n",
              "      <td>2.59</td>\n",
              "      <td>2.87</td>\n",
              "      <td>21.0</td>\n",
              "      <td>118.0</td>\n",
              "      <td>2.80</td>\n",
              "      <td>2.69</td>\n",
              "      <td>0.39</td>\n",
              "      <td>1.82</td>\n",
              "      <td>4.32</td>\n",
              "      <td>1.04</td>\n",
              "      <td>2.93</td>\n",
              "      <td>735.0</td>\n",
              "    </tr>\n",
              "  </tbody>\n",
              "</table>\n",
              "</div>\n",
              "    <div class=\"colab-df-buttons\">\n",
              "\n",
              "  <div class=\"colab-df-container\">\n",
              "    <button class=\"colab-df-convert\" onclick=\"convertToInteractive('df-c36dbbe2-4378-4a73-8139-68aecda571ca')\"\n",
              "            title=\"Convert this dataframe to an interactive table.\"\n",
              "            style=\"display:none;\">\n",
              "\n",
              "  <svg xmlns=\"http://www.w3.org/2000/svg\" height=\"24px\" viewBox=\"0 -960 960 960\">\n",
              "    <path d=\"M120-120v-720h720v720H120Zm60-500h600v-160H180v160Zm220 220h160v-160H400v160Zm0 220h160v-160H400v160ZM180-400h160v-160H180v160Zm440 0h160v-160H620v160ZM180-180h160v-160H180v160Zm440 0h160v-160H620v160Z\"/>\n",
              "  </svg>\n",
              "    </button>\n",
              "\n",
              "  <style>\n",
              "    .colab-df-container {\n",
              "      display:flex;\n",
              "      gap: 12px;\n",
              "    }\n",
              "\n",
              "    .colab-df-convert {\n",
              "      background-color: #E8F0FE;\n",
              "      border: none;\n",
              "      border-radius: 50%;\n",
              "      cursor: pointer;\n",
              "      display: none;\n",
              "      fill: #1967D2;\n",
              "      height: 32px;\n",
              "      padding: 0 0 0 0;\n",
              "      width: 32px;\n",
              "    }\n",
              "\n",
              "    .colab-df-convert:hover {\n",
              "      background-color: #E2EBFA;\n",
              "      box-shadow: 0px 1px 2px rgba(60, 64, 67, 0.3), 0px 1px 3px 1px rgba(60, 64, 67, 0.15);\n",
              "      fill: #174EA6;\n",
              "    }\n",
              "\n",
              "    .colab-df-buttons div {\n",
              "      margin-bottom: 4px;\n",
              "    }\n",
              "\n",
              "    [theme=dark] .colab-df-convert {\n",
              "      background-color: #3B4455;\n",
              "      fill: #D2E3FC;\n",
              "    }\n",
              "\n",
              "    [theme=dark] .colab-df-convert:hover {\n",
              "      background-color: #434B5C;\n",
              "      box-shadow: 0px 1px 3px 1px rgba(0, 0, 0, 0.15);\n",
              "      filter: drop-shadow(0px 1px 2px rgba(0, 0, 0, 0.3));\n",
              "      fill: #FFFFFF;\n",
              "    }\n",
              "  </style>\n",
              "\n",
              "    <script>\n",
              "      const buttonEl =\n",
              "        document.querySelector('#df-c36dbbe2-4378-4a73-8139-68aecda571ca button.colab-df-convert');\n",
              "      buttonEl.style.display =\n",
              "        google.colab.kernel.accessAllowed ? 'block' : 'none';\n",
              "\n",
              "      async function convertToInteractive(key) {\n",
              "        const element = document.querySelector('#df-c36dbbe2-4378-4a73-8139-68aecda571ca');\n",
              "        const dataTable =\n",
              "          await google.colab.kernel.invokeFunction('convertToInteractive',\n",
              "                                                    [key], {});\n",
              "        if (!dataTable) return;\n",
              "\n",
              "        const docLinkHtml = 'Like what you see? Visit the ' +\n",
              "          '<a target=\"_blank\" href=https://colab.research.google.com/notebooks/data_table.ipynb>data table notebook</a>'\n",
              "          + ' to learn more about interactive tables.';\n",
              "        element.innerHTML = '';\n",
              "        dataTable['output_type'] = 'display_data';\n",
              "        await google.colab.output.renderOutput(dataTable, element);\n",
              "        const docLink = document.createElement('div');\n",
              "        docLink.innerHTML = docLinkHtml;\n",
              "        element.appendChild(docLink);\n",
              "      }\n",
              "    </script>\n",
              "  </div>\n",
              "\n",
              "\n",
              "<div id=\"df-da6870fd-9a3b-4849-b621-5f7216f6496b\">\n",
              "  <button class=\"colab-df-quickchart\" onclick=\"quickchart('df-da6870fd-9a3b-4849-b621-5f7216f6496b')\"\n",
              "            title=\"Suggest charts\"\n",
              "            style=\"display:none;\">\n",
              "\n",
              "<svg xmlns=\"http://www.w3.org/2000/svg\" height=\"24px\"viewBox=\"0 0 24 24\"\n",
              "     width=\"24px\">\n",
              "    <g>\n",
              "        <path d=\"M19 3H5c-1.1 0-2 .9-2 2v14c0 1.1.9 2 2 2h14c1.1 0 2-.9 2-2V5c0-1.1-.9-2-2-2zM9 17H7v-7h2v7zm4 0h-2V7h2v10zm4 0h-2v-4h2v4z\"/>\n",
              "    </g>\n",
              "</svg>\n",
              "  </button>\n",
              "\n",
              "<style>\n",
              "  .colab-df-quickchart {\n",
              "      --bg-color: #E8F0FE;\n",
              "      --fill-color: #1967D2;\n",
              "      --hover-bg-color: #E2EBFA;\n",
              "      --hover-fill-color: #174EA6;\n",
              "      --disabled-fill-color: #AAA;\n",
              "      --disabled-bg-color: #DDD;\n",
              "  }\n",
              "\n",
              "  [theme=dark] .colab-df-quickchart {\n",
              "      --bg-color: #3B4455;\n",
              "      --fill-color: #D2E3FC;\n",
              "      --hover-bg-color: #434B5C;\n",
              "      --hover-fill-color: #FFFFFF;\n",
              "      --disabled-bg-color: #3B4455;\n",
              "      --disabled-fill-color: #666;\n",
              "  }\n",
              "\n",
              "  .colab-df-quickchart {\n",
              "    background-color: var(--bg-color);\n",
              "    border: none;\n",
              "    border-radius: 50%;\n",
              "    cursor: pointer;\n",
              "    display: none;\n",
              "    fill: var(--fill-color);\n",
              "    height: 32px;\n",
              "    padding: 0;\n",
              "    width: 32px;\n",
              "  }\n",
              "\n",
              "  .colab-df-quickchart:hover {\n",
              "    background-color: var(--hover-bg-color);\n",
              "    box-shadow: 0 1px 2px rgba(60, 64, 67, 0.3), 0 1px 3px 1px rgba(60, 64, 67, 0.15);\n",
              "    fill: var(--button-hover-fill-color);\n",
              "  }\n",
              "\n",
              "  .colab-df-quickchart-complete:disabled,\n",
              "  .colab-df-quickchart-complete:disabled:hover {\n",
              "    background-color: var(--disabled-bg-color);\n",
              "    fill: var(--disabled-fill-color);\n",
              "    box-shadow: none;\n",
              "  }\n",
              "\n",
              "  .colab-df-spinner {\n",
              "    border: 2px solid var(--fill-color);\n",
              "    border-color: transparent;\n",
              "    border-bottom-color: var(--fill-color);\n",
              "    animation:\n",
              "      spin 1s steps(1) infinite;\n",
              "  }\n",
              "\n",
              "  @keyframes spin {\n",
              "    0% {\n",
              "      border-color: transparent;\n",
              "      border-bottom-color: var(--fill-color);\n",
              "      border-left-color: var(--fill-color);\n",
              "    }\n",
              "    20% {\n",
              "      border-color: transparent;\n",
              "      border-left-color: var(--fill-color);\n",
              "      border-top-color: var(--fill-color);\n",
              "    }\n",
              "    30% {\n",
              "      border-color: transparent;\n",
              "      border-left-color: var(--fill-color);\n",
              "      border-top-color: var(--fill-color);\n",
              "      border-right-color: var(--fill-color);\n",
              "    }\n",
              "    40% {\n",
              "      border-color: transparent;\n",
              "      border-right-color: var(--fill-color);\n",
              "      border-top-color: var(--fill-color);\n",
              "    }\n",
              "    60% {\n",
              "      border-color: transparent;\n",
              "      border-right-color: var(--fill-color);\n",
              "    }\n",
              "    80% {\n",
              "      border-color: transparent;\n",
              "      border-right-color: var(--fill-color);\n",
              "      border-bottom-color: var(--fill-color);\n",
              "    }\n",
              "    90% {\n",
              "      border-color: transparent;\n",
              "      border-bottom-color: var(--fill-color);\n",
              "    }\n",
              "  }\n",
              "</style>\n",
              "\n",
              "  <script>\n",
              "    async function quickchart(key) {\n",
              "      const quickchartButtonEl =\n",
              "        document.querySelector('#' + key + ' button');\n",
              "      quickchartButtonEl.disabled = true;  // To prevent multiple clicks.\n",
              "      quickchartButtonEl.classList.add('colab-df-spinner');\n",
              "      try {\n",
              "        const charts = await google.colab.kernel.invokeFunction(\n",
              "            'suggestCharts', [key], {});\n",
              "      } catch (error) {\n",
              "        console.error('Error during call to suggestCharts:', error);\n",
              "      }\n",
              "      quickchartButtonEl.classList.remove('colab-df-spinner');\n",
              "      quickchartButtonEl.classList.add('colab-df-quickchart-complete');\n",
              "    }\n",
              "    (() => {\n",
              "      let quickchartButtonEl =\n",
              "        document.querySelector('#df-da6870fd-9a3b-4849-b621-5f7216f6496b button');\n",
              "      quickchartButtonEl.style.display =\n",
              "        google.colab.kernel.accessAllowed ? 'block' : 'none';\n",
              "    })();\n",
              "  </script>\n",
              "</div>\n",
              "\n",
              "    </div>\n",
              "  </div>\n"
            ],
            "application/vnd.google.colaboratory.intrinsic+json": {
              "type": "dataframe",
              "variable_name": "df",
              "summary": "{\n  \"name\": \"df\",\n  \"rows\": 178,\n  \"fields\": [\n    {\n      \"column\": \"alcohol\",\n      \"properties\": {\n        \"dtype\": \"number\",\n        \"std\": 0.8118265380058577,\n        \"min\": 11.03,\n        \"max\": 14.83,\n        \"num_unique_values\": 126,\n        \"samples\": [\n          11.62,\n          13.64,\n          13.69\n        ],\n        \"semantic_type\": \"\",\n        \"description\": \"\"\n      }\n    },\n    {\n      \"column\": \"malic_acid\",\n      \"properties\": {\n        \"dtype\": \"number\",\n        \"std\": 1.1171460976144627,\n        \"min\": 0.74,\n        \"max\": 5.8,\n        \"num_unique_values\": 133,\n        \"samples\": [\n          1.21,\n          2.83,\n          1.8\n        ],\n        \"semantic_type\": \"\",\n        \"description\": \"\"\n      }\n    },\n    {\n      \"column\": \"ash\",\n      \"properties\": {\n        \"dtype\": \"number\",\n        \"std\": 0.2743440090608148,\n        \"min\": 1.36,\n        \"max\": 3.23,\n        \"num_unique_values\": 79,\n        \"samples\": [\n          2.31,\n          2.43,\n          2.52\n        ],\n        \"semantic_type\": \"\",\n        \"description\": \"\"\n      }\n    },\n    {\n      \"column\": \"alcalinity_of_ash\",\n      \"properties\": {\n        \"dtype\": \"number\",\n        \"std\": 3.3395637671735052,\n        \"min\": 10.6,\n        \"max\": 30.0,\n        \"num_unique_values\": 63,\n        \"samples\": [\n          25.5,\n          28.5,\n          15.6\n        ],\n        \"semantic_type\": \"\",\n        \"description\": \"\"\n      }\n    },\n    {\n      \"column\": \"magnesium\",\n      \"properties\": {\n        \"dtype\": \"number\",\n        \"std\": 14.282483515295668,\n        \"min\": 70.0,\n        \"max\": 162.0,\n        \"num_unique_values\": 53,\n        \"samples\": [\n          126.0,\n          85.0,\n          162.0\n        ],\n        \"semantic_type\": \"\",\n        \"description\": \"\"\n      }\n    },\n    {\n      \"column\": \"total_phenols\",\n      \"properties\": {\n        \"dtype\": \"number\",\n        \"std\": 0.6258510488339891,\n        \"min\": 0.98,\n        \"max\": 3.88,\n        \"num_unique_values\": 97,\n        \"samples\": [\n          1.68,\n          2.11,\n          1.35\n        ],\n        \"semantic_type\": \"\",\n        \"description\": \"\"\n      }\n    },\n    {\n      \"column\": \"flavanoids\",\n      \"properties\": {\n        \"dtype\": \"number\",\n        \"std\": 0.9988586850169465,\n        \"min\": 0.34,\n        \"max\": 5.08,\n        \"num_unique_values\": 132,\n        \"samples\": [\n          3.18,\n          2.5,\n          3.17\n        ],\n        \"semantic_type\": \"\",\n        \"description\": \"\"\n      }\n    },\n    {\n      \"column\": \"nonflavanoid_phenols\",\n      \"properties\": {\n        \"dtype\": \"number\",\n        \"std\": 0.12445334029667939,\n        \"min\": 0.13,\n        \"max\": 0.66,\n        \"num_unique_values\": 39,\n        \"samples\": [\n          0.58,\n          0.41,\n          0.39\n        ],\n        \"semantic_type\": \"\",\n        \"description\": \"\"\n      }\n    },\n    {\n      \"column\": \"proanthocyanins\",\n      \"properties\": {\n        \"dtype\": \"number\",\n        \"std\": 0.5723588626747611,\n        \"min\": 0.41,\n        \"max\": 3.58,\n        \"num_unique_values\": 101,\n        \"samples\": [\n          0.75,\n          1.77,\n          1.42\n        ],\n        \"semantic_type\": \"\",\n        \"description\": \"\"\n      }\n    },\n    {\n      \"column\": \"color_intensity\",\n      \"properties\": {\n        \"dtype\": \"number\",\n        \"std\": 2.318285871822413,\n        \"min\": 1.28,\n        \"max\": 13.0,\n        \"num_unique_values\": 132,\n        \"samples\": [\n          2.95,\n          3.3,\n          5.1\n        ],\n        \"semantic_type\": \"\",\n        \"description\": \"\"\n      }\n    },\n    {\n      \"column\": \"hue\",\n      \"properties\": {\n        \"dtype\": \"number\",\n        \"std\": 0.22857156582982338,\n        \"min\": 0.48,\n        \"max\": 1.71,\n        \"num_unique_values\": 78,\n        \"samples\": [\n          1.22,\n          1.04,\n          1.45\n        ],\n        \"semantic_type\": \"\",\n        \"description\": \"\"\n      }\n    },\n    {\n      \"column\": \"od280/od315_of_diluted_wines\",\n      \"properties\": {\n        \"dtype\": \"number\",\n        \"std\": 0.7099904287650505,\n        \"min\": 1.27,\n        \"max\": 4.0,\n        \"num_unique_values\": 122,\n        \"samples\": [\n          4.0,\n          1.82,\n          1.59\n        ],\n        \"semantic_type\": \"\",\n        \"description\": \"\"\n      }\n    },\n    {\n      \"column\": \"proline\",\n      \"properties\": {\n        \"dtype\": \"number\",\n        \"std\": 314.9074742768489,\n        \"min\": 278.0,\n        \"max\": 1680.0,\n        \"num_unique_values\": 121,\n        \"samples\": [\n          1375.0,\n          1270.0,\n          735.0\n        ],\n        \"semantic_type\": \"\",\n        \"description\": \"\"\n      }\n    }\n  ]\n}"
            }
          },
          "metadata": {},
          "execution_count": 3
        }
      ]
    },
    {
      "cell_type": "markdown",
      "source": [
        "***2. Seleccionar una de las características numéricas (por ejemplo, alcohol)***"
      ],
      "metadata": {
        "id": "Z_UUhjxKaI--"
      }
    },
    {
      "cell_type": "code",
      "source": [
        "df['flavanoids'].values.reshape(-1, 1)"
      ],
      "metadata": {
        "colab": {
          "base_uri": "https://localhost:8080/"
        },
        "id": "IqXSSsWBaPFV",
        "outputId": "c4e16acc-3aeb-4182-ad0b-c83d480660f2"
      },
      "execution_count": 4,
      "outputs": [
        {
          "output_type": "execute_result",
          "data": {
            "text/plain": [
              "array([[3.06],\n",
              "       [2.76],\n",
              "       [3.24],\n",
              "       [3.49],\n",
              "       [2.69],\n",
              "       [3.39],\n",
              "       [2.52],\n",
              "       [2.51],\n",
              "       [2.98],\n",
              "       [3.15],\n",
              "       [3.32],\n",
              "       [2.43],\n",
              "       [2.76],\n",
              "       [3.69],\n",
              "       [3.64],\n",
              "       [2.91],\n",
              "       [3.14],\n",
              "       [3.4 ],\n",
              "       [3.93],\n",
              "       [3.03],\n",
              "       [3.17],\n",
              "       [2.41],\n",
              "       [2.88],\n",
              "       [2.37],\n",
              "       [2.61],\n",
              "       [2.68],\n",
              "       [2.94],\n",
              "       [2.19],\n",
              "       [2.97],\n",
              "       [2.33],\n",
              "       [3.25],\n",
              "       [3.19],\n",
              "       [2.69],\n",
              "       [2.74],\n",
              "       [2.53],\n",
              "       [2.98],\n",
              "       [2.68],\n",
              "       [2.43],\n",
              "       [2.64],\n",
              "       [3.04],\n",
              "       [3.29],\n",
              "       [2.68],\n",
              "       [3.56],\n",
              "       [2.63],\n",
              "       [3.  ],\n",
              "       [2.65],\n",
              "       [3.17],\n",
              "       [3.39],\n",
              "       [2.92],\n",
              "       [3.54],\n",
              "       [3.27],\n",
              "       [2.99],\n",
              "       [3.74],\n",
              "       [2.79],\n",
              "       [2.9 ],\n",
              "       [2.78],\n",
              "       [3.  ],\n",
              "       [3.23],\n",
              "       [3.67],\n",
              "       [0.57],\n",
              "       [1.09],\n",
              "       [1.41],\n",
              "       [1.79],\n",
              "       [3.1 ],\n",
              "       [1.75],\n",
              "       [2.65],\n",
              "       [3.18],\n",
              "       [2.  ],\n",
              "       [1.3 ],\n",
              "       [1.28],\n",
              "       [1.02],\n",
              "       [2.86],\n",
              "       [1.84],\n",
              "       [2.89],\n",
              "       [2.14],\n",
              "       [1.57],\n",
              "       [2.03],\n",
              "       [1.32],\n",
              "       [1.85],\n",
              "       [2.55],\n",
              "       [2.26],\n",
              "       [2.53],\n",
              "       [1.58],\n",
              "       [1.59],\n",
              "       [2.21],\n",
              "       [1.94],\n",
              "       [1.69],\n",
              "       [1.61],\n",
              "       [1.69],\n",
              "       [1.59],\n",
              "       [1.5 ],\n",
              "       [1.25],\n",
              "       [1.46],\n",
              "       [2.25],\n",
              "       [2.26],\n",
              "       [2.27],\n",
              "       [0.99],\n",
              "       [2.5 ],\n",
              "       [3.75],\n",
              "       [2.99],\n",
              "       [2.17],\n",
              "       [1.36],\n",
              "       [2.11],\n",
              "       [1.64],\n",
              "       [1.92],\n",
              "       [1.84],\n",
              "       [2.03],\n",
              "       [1.76],\n",
              "       [2.04],\n",
              "       [2.92],\n",
              "       [2.58],\n",
              "       [2.27],\n",
              "       [2.03],\n",
              "       [2.01],\n",
              "       [2.29],\n",
              "       [2.17],\n",
              "       [1.6 ],\n",
              "       [2.09],\n",
              "       [1.25],\n",
              "       [1.64],\n",
              "       [2.79],\n",
              "       [5.08],\n",
              "       [2.13],\n",
              "       [2.65],\n",
              "       [3.03],\n",
              "       [2.65],\n",
              "       [3.15],\n",
              "       [2.24],\n",
              "       [2.45],\n",
              "       [1.75],\n",
              "       [1.25],\n",
              "       [1.22],\n",
              "       [1.09],\n",
              "       [1.2 ],\n",
              "       [0.58],\n",
              "       [0.66],\n",
              "       [0.47],\n",
              "       [0.6 ],\n",
              "       [0.48],\n",
              "       [0.6 ],\n",
              "       [0.5 ],\n",
              "       [0.5 ],\n",
              "       [0.52],\n",
              "       [0.8 ],\n",
              "       [0.78],\n",
              "       [0.55],\n",
              "       [0.34],\n",
              "       [0.65],\n",
              "       [0.76],\n",
              "       [1.39],\n",
              "       [1.57],\n",
              "       [1.36],\n",
              "       [1.28],\n",
              "       [0.83],\n",
              "       [0.58],\n",
              "       [0.63],\n",
              "       [0.83],\n",
              "       [0.58],\n",
              "       [1.31],\n",
              "       [1.1 ],\n",
              "       [0.92],\n",
              "       [0.56],\n",
              "       [0.6 ],\n",
              "       [0.7 ],\n",
              "       [0.68],\n",
              "       [0.47],\n",
              "       [0.92],\n",
              "       [0.66],\n",
              "       [0.84],\n",
              "       [0.96],\n",
              "       [0.49],\n",
              "       [0.51],\n",
              "       [0.7 ],\n",
              "       [0.61],\n",
              "       [0.75],\n",
              "       [0.69],\n",
              "       [0.68],\n",
              "       [0.76]])"
            ]
          },
          "metadata": {},
          "execution_count": 4
        }
      ]
    },
    {
      "cell_type": "markdown",
      "source": [
        "***3. Realizar una prueba de normalidad (usando scipy.stats.shapiro) sobre los datos originales***"
      ],
      "metadata": {
        "id": "ZbBtpgWKjClE"
      }
    },
    {
      "cell_type": "code",
      "source": [
        "statistic, pvalue = stats.shapiro(df['flavanoids'])\n",
        "print(f\"statistic:\",statistic)\n",
        "print(f\"pvalue:\",pvalue)\n",
        "print(\"\\n\")\n",
        "\n",
        "if pvalue > 0.05:\n",
        "  print(\"Los datos tienen una distribución normal\")\n",
        "else:\n",
        "  print(\"Los datos no tienen una distribución normal\")"
      ],
      "metadata": {
        "colab": {
          "base_uri": "https://localhost:8080/"
        },
        "id": "yBBH8Q_6xk_p",
        "outputId": "012188b2-fff1-4628-cdde-8b2a94bd6453"
      },
      "execution_count": 6,
      "outputs": [
        {
          "output_type": "stream",
          "name": "stdout",
          "text": [
            "statistic: 0.9545261281841189\n",
            "pvalue: 1.6788526899512583e-05\n",
            "\n",
            "\n",
            "Los datos no tienen una distribución normal\n"
          ]
        }
      ]
    },
    {
      "cell_type": "markdown",
      "source": [
        "***4. Aplicar la normalización Min-Max a los datos seleccionados***"
      ],
      "metadata": {
        "id": "CBJlGtGZjSFA"
      }
    },
    {
      "cell_type": "code",
      "source": [
        "scaler = MinMaxScaler()\n",
        "normalizados1 = scaler.fit_transform(df[['flavanoids']])\n",
        "print(normalizados1)"
      ],
      "metadata": {
        "id": "tyhcj9uQ1sxI",
        "colab": {
          "base_uri": "https://localhost:8080/"
        },
        "outputId": "0ded39cd-2ad8-485c-c326-f466b15341c1"
      },
      "execution_count": 7,
      "outputs": [
        {
          "output_type": "stream",
          "name": "stdout",
          "text": [
            "[[0.57383966]\n",
            " [0.51054852]\n",
            " [0.61181435]\n",
            " [0.66455696]\n",
            " [0.49578059]\n",
            " [0.64345992]\n",
            " [0.45991561]\n",
            " [0.45780591]\n",
            " [0.55696203]\n",
            " [0.592827  ]\n",
            " [0.62869198]\n",
            " [0.44092827]\n",
            " [0.51054852]\n",
            " [0.70675105]\n",
            " [0.69620253]\n",
            " [0.54219409]\n",
            " [0.5907173 ]\n",
            " [0.64556962]\n",
            " [0.75738397]\n",
            " [0.56751055]\n",
            " [0.59704641]\n",
            " [0.43670886]\n",
            " [0.53586498]\n",
            " [0.42827004]\n",
            " [0.47890295]\n",
            " [0.49367089]\n",
            " [0.54852321]\n",
            " [0.39029536]\n",
            " [0.55485232]\n",
            " [0.41983122]\n",
            " [0.61392405]\n",
            " [0.60126582]\n",
            " [0.49578059]\n",
            " [0.50632911]\n",
            " [0.46202532]\n",
            " [0.55696203]\n",
            " [0.49367089]\n",
            " [0.44092827]\n",
            " [0.48523207]\n",
            " [0.56962025]\n",
            " [0.62236287]\n",
            " [0.49367089]\n",
            " [0.67932489]\n",
            " [0.48312236]\n",
            " [0.56118143]\n",
            " [0.48734177]\n",
            " [0.59704641]\n",
            " [0.64345992]\n",
            " [0.5443038 ]\n",
            " [0.67510549]\n",
            " [0.61814346]\n",
            " [0.55907173]\n",
            " [0.71729958]\n",
            " [0.51687764]\n",
            " [0.54008439]\n",
            " [0.51476793]\n",
            " [0.56118143]\n",
            " [0.60970464]\n",
            " [0.70253165]\n",
            " [0.04852321]\n",
            " [0.15822785]\n",
            " [0.2257384 ]\n",
            " [0.30590717]\n",
            " [0.58227848]\n",
            " [0.29746835]\n",
            " [0.48734177]\n",
            " [0.59915612]\n",
            " [0.35021097]\n",
            " [0.20253165]\n",
            " [0.19831224]\n",
            " [0.14345992]\n",
            " [0.53164557]\n",
            " [0.3164557 ]\n",
            " [0.53797468]\n",
            " [0.37974684]\n",
            " [0.25949367]\n",
            " [0.35654008]\n",
            " [0.20675105]\n",
            " [0.3185654 ]\n",
            " [0.46624473]\n",
            " [0.40506329]\n",
            " [0.46202532]\n",
            " [0.26160338]\n",
            " [0.26371308]\n",
            " [0.39451477]\n",
            " [0.33755274]\n",
            " [0.28481013]\n",
            " [0.26793249]\n",
            " [0.28481013]\n",
            " [0.26371308]\n",
            " [0.24472574]\n",
            " [0.19198312]\n",
            " [0.23628692]\n",
            " [0.40295359]\n",
            " [0.40506329]\n",
            " [0.407173  ]\n",
            " [0.1371308 ]\n",
            " [0.4556962 ]\n",
            " [0.71940928]\n",
            " [0.55907173]\n",
            " [0.38607595]\n",
            " [0.21518987]\n",
            " [0.37341772]\n",
            " [0.2742616 ]\n",
            " [0.33333333]\n",
            " [0.3164557 ]\n",
            " [0.35654008]\n",
            " [0.29957806]\n",
            " [0.35864979]\n",
            " [0.5443038 ]\n",
            " [0.47257384]\n",
            " [0.407173  ]\n",
            " [0.35654008]\n",
            " [0.35232068]\n",
            " [0.41139241]\n",
            " [0.38607595]\n",
            " [0.26582278]\n",
            " [0.36919831]\n",
            " [0.19198312]\n",
            " [0.2742616 ]\n",
            " [0.51687764]\n",
            " [1.        ]\n",
            " [0.37763713]\n",
            " [0.48734177]\n",
            " [0.56751055]\n",
            " [0.48734177]\n",
            " [0.592827  ]\n",
            " [0.40084388]\n",
            " [0.44514768]\n",
            " [0.29746835]\n",
            " [0.19198312]\n",
            " [0.18565401]\n",
            " [0.15822785]\n",
            " [0.1814346 ]\n",
            " [0.05063291]\n",
            " [0.06751055]\n",
            " [0.02742616]\n",
            " [0.05485232]\n",
            " [0.02953586]\n",
            " [0.05485232]\n",
            " [0.03375527]\n",
            " [0.03375527]\n",
            " [0.03797468]\n",
            " [0.09704641]\n",
            " [0.092827  ]\n",
            " [0.0443038 ]\n",
            " [0.        ]\n",
            " [0.06540084]\n",
            " [0.08860759]\n",
            " [0.22151899]\n",
            " [0.25949367]\n",
            " [0.21518987]\n",
            " [0.19831224]\n",
            " [0.10337553]\n",
            " [0.05063291]\n",
            " [0.06118143]\n",
            " [0.10337553]\n",
            " [0.05063291]\n",
            " [0.20464135]\n",
            " [0.16033755]\n",
            " [0.12236287]\n",
            " [0.0464135 ]\n",
            " [0.05485232]\n",
            " [0.07594937]\n",
            " [0.07172996]\n",
            " [0.02742616]\n",
            " [0.12236287]\n",
            " [0.06751055]\n",
            " [0.10548523]\n",
            " [0.13080169]\n",
            " [0.03164557]\n",
            " [0.03586498]\n",
            " [0.07594937]\n",
            " [0.05696203]\n",
            " [0.08649789]\n",
            " [0.07383966]\n",
            " [0.07172996]\n",
            " [0.08860759]]\n"
          ]
        }
      ]
    },
    {
      "cell_type": "markdown",
      "source": [
        "***5. Realizar la prueba de normalidad nuevamente sobre los datos normalizados***"
      ],
      "metadata": {
        "id": "h52zawGSjimE"
      }
    },
    {
      "cell_type": "code",
      "source": [
        "statistic, pvalue = stats.shapiro(normalizados1)\n",
        "print(f\"statistic:\",statistic)\n",
        "print(f\"pvalue:\",pvalue)\n",
        "print(\"\\n\")\n",
        "\n",
        "if pvalue > 0.05:\n",
        "  print(\"Los datos tienen una distribución normal\")\n",
        "else:\n",
        "  print(\"Los datos no tienen una distribución normal\")"
      ],
      "metadata": {
        "colab": {
          "base_uri": "https://localhost:8080/"
        },
        "id": "UQbVLVmt1uA5",
        "outputId": "3b1fe4b7-4fb2-46b6-af01-5ef9e7866c1f"
      },
      "execution_count": 8,
      "outputs": [
        {
          "output_type": "stream",
          "name": "stdout",
          "text": [
            "statistic: 0.9545261281841186\n",
            "pvalue: 1.6788526899511458e-05\n",
            "\n",
            "\n",
            "Los datos no tienen una distribución normal\n"
          ]
        }
      ]
    },
    {
      "cell_type": "markdown",
      "source": [
        "***6. Graficar los datos originales y los normalizados utilizando matplotlib o seaborn***"
      ],
      "metadata": {
        "id": "WxR7qUPVjn_2"
      }
    },
    {
      "cell_type": "code",
      "source": [
        "plt.figure(figsize=(12, 6))\n",
        "\n",
        "plt.subplot(1, 2, 1)\n",
        "plt.hist(df.flavanoids, bins=30, color='gold', edgecolor='black')\n",
        "plt.title(\"Distribución original\")\n",
        "plt.ylabel('Frecuencia')\n",
        "\n",
        "plt.subplot(1, 2, 2)\n",
        "plt.hist(normalizados1, bins=30, color='lime', edgecolor='black')\n",
        "plt.title(\"Distribución normalizada\")\n",
        "plt.ylabel('Frecuencia')\n",
        "\n",
        "plt.tight_layout()\n",
        "plt.show()"
      ],
      "metadata": {
        "id": "BgWRgUjLFk99",
        "colab": {
          "base_uri": "https://localhost:8080/",
          "height": 606
        },
        "outputId": "ef84ad3a-c6d5-4fb7-ea4d-756392814247"
      },
      "execution_count": 9,
      "outputs": [
        {
          "output_type": "display_data",
          "data": {
            "text/plain": [
              "<Figure size 1200x600 with 2 Axes>"
            ],
            "image/png": "[encoded data removed]"
          },
          "metadata": {}
        }
      ]
    },
    {
      "cell_type": "markdown",
      "source": [
        "***7. Responder las siguientes preguntas***\n",
        "\n",
        "*   **¿Cómo afectó la normalización Min-Max a la distribución de los datos?**\n",
        "\n",
        "En forma general, hubo un cambio significativo en los valores sin embargo hay coincidencias en la distribución de los datos según las gráficas.\n",
        "\n",
        "*   **¿Qué interpretas del p-valor antes y después de la normalización?**\n",
        "\n",
        "El p-valor no se afectó, se mantuvo igual después de la normalización."
      ],
      "metadata": {
        "id": "6VdTZQDbkDKb"
      }
    },
    {
      "cell_type": "markdown",
      "source": [
        "# Ejercicio 2: Normalización Z-Score\n",
        "\n",
        "\n"
      ],
      "metadata": {
        "id": "U0VuI_yIbyIM"
      }
    },
    {
      "cell_type": "markdown",
      "source": [
        "***1. Cargar el dataset wine de sklearn***"
      ],
      "metadata": {
        "id": "1qnZ3SV6lM3Q"
      }
    },
    {
      "cell_type": "code",
      "source": [
        "wine = datasets.load_wine()\n",
        "x, y = wine.data, wine.target\n",
        "df = pd.DataFrame(x, columns=wine.feature_names)\n",
        "df.head()"
      ],
      "metadata": {
        "colab": {
          "base_uri": "https://localhost:8080/",
          "height": 226
        },
        "id": "X4k2amBslTVV",
        "outputId": "70a6ba11-04fa-4100-ab60-c569d2ab5da3"
      },
      "execution_count": 10,
      "outputs": [
        {
          "output_type": "execute_result",
          "data": {
            "text/plain": [
              "   alcohol  malic_acid   ash  alcalinity_of_ash  magnesium  total_phenols  \\\n",
              "0    14.23        1.71  2.43               15.6      127.0           2.80   \n",
              "1    13.20        1.78  2.14               11.2      100.0           2.65   \n",
              "2    13.16        2.36  2.67               18.6      101.0           2.80   \n",
              "3    14.37        1.95  2.50               16.8      113.0           3.85   \n",
              "4    13.24        2.59  2.87               21.0      118.0           2.80   \n",
              "\n",
              "   flavanoids  nonflavanoid_phenols  proanthocyanins  color_intensity   hue  \\\n",
              "0        3.06                  0.28             2.29             5.64  1.04   \n",
              "1        2.76                  0.26             1.28             4.38  1.05   \n",
              "2        3.24                  0.30             2.81             5.68  1.03   \n",
              "3        3.49                  0.24             2.18             7.80  0.86   \n",
              "4        2.69                  0.39             1.82             4.32  1.04   \n",
              "\n",
              "   od280/od315_of_diluted_wines  proline  \n",
              "0                          3.92   1065.0  \n",
              "1                          3.40   1050.0  \n",
              "2                          3.17   1185.0  \n",
              "3                          3.45   1480.0  \n",
              "4                          2.93    735.0  "
            ],
            "text/html": [
              "\n",
              "  <div id=\"df-99a0b813-5625-42e6-b130-2206809a62ae\" class=\"colab-df-container\">\n",
              "    <div>\n",
              "<style scoped>\n",
              "    .dataframe tbody tr th:only-of-type {\n",
              "        vertical-align: middle;\n",
              "    }\n",
              "\n",
              "    .dataframe tbody tr th {\n",
              "        vertical-align: top;\n",
              "    }\n",
              "\n",
              "    .dataframe thead th {\n",
              "        text-align: right;\n",
              "    }\n",
              "</style>\n",
              "<table border=\"1\" class=\"dataframe\">\n",
              "  <thead>\n",
              "    <tr style=\"text-align: right;\">\n",
              "      <th></th>\n",
              "      <th>alcohol</th>\n",
              "      <th>malic_acid</th>\n",
              "      <th>ash</th>\n",
              "      <th>alcalinity_of_ash</th>\n",
              "      <th>magnesium</th>\n",
              "      <th>total_phenols</th>\n",
              "      <th>flavanoids</th>\n",
              "      <th>nonflavanoid_phenols</th>\n",
              "      <th>proanthocyanins</th>\n",
              "      <th>color_intensity</th>\n",
              "      <th>hue</th>\n",
              "      <th>od280/od315_of_diluted_wines</th>\n",
              "      <th>proline</th>\n",
              "    </tr>\n",
              "  </thead>\n",
              "  <tbody>\n",
              "    <tr>\n",
              "      <th>0</th>\n",
              "      <td>14.23</td>\n",
              "      <td>1.71</td>\n",
              "      <td>2.43</td>\n",
              "      <td>15.6</td>\n",
              "      <td>127.0</td>\n",
              "      <td>2.80</td>\n",
              "      <td>3.06</td>\n",
              "      <td>0.28</td>\n",
              "      <td>2.29</td>\n",
              "      <td>5.64</td>\n",
              "      <td>1.04</td>\n",
              "      <td>3.92</td>\n",
              "      <td>1065.0</td>\n",
              "    </tr>\n",
              "    <tr>\n",
              "      <th>1</th>\n",
              "      <td>13.20</td>\n",
              "      <td>1.78</td>\n",
              "      <td>2.14</td>\n",
              "      <td>11.2</td>\n",
              "      <td>100.0</td>\n",
              "      <td>2.65</td>\n",
              "      <td>2.76</td>\n",
              "      <td>0.26</td>\n",
              "      <td>1.28</td>\n",
              "      <td>4.38</td>\n",
              "      <td>1.05</td>\n",
              "      <td>3.40</td>\n",
              "      <td>1050.0</td>\n",
              "    </tr>\n",
              "    <tr>\n",
              "      <th>2</th>\n",
              "      <td>13.16</td>\n",
              "      <td>2.36</td>\n",
              "      <td>2.67</td>\n",
              "      <td>18.6</td>\n",
              "      <td>101.0</td>\n",
              "      <td>2.80</td>\n",
              "      <td>3.24</td>\n",
              "      <td>0.30</td>\n",
              "      <td>2.81</td>\n",
              "      <td>5.68</td>\n",
              "      <td>1.03</td>\n",
              "      <td>3.17</td>\n",
              "      <td>1185.0</td>\n",
              "    </tr>\n",
              "    <tr>\n",
              "      <th>3</th>\n",
              "      <td>14.37</td>\n",
              "      <td>1.95</td>\n",
              "      <td>2.50</td>\n",
              "      <td>16.8</td>\n",
              "      <td>113.0</td>\n",
              "      <td>3.85</td>\n",
              "      <td>3.49</td>\n",
              "      <td>0.24</td>\n",
              "      <td>2.18</td>\n",
              "      <td>7.80</td>\n",
              "      <td>0.86</td>\n",
              "      <td>3.45</td>\n",
              "      <td>1480.0</td>\n",
              "    </tr>\n",
              "    <tr>\n",
              "      <th>4</th>\n",
              "      <td>13.24</td>\n",
              "      <td>2.59</td>\n",
              "      <td>2.87</td>\n",
              "      <td>21.0</td>\n",
              "      <td>118.0</td>\n",
              "      <td>2.80</td>\n",
              "      <td>2.69</td>\n",
              "      <td>0.39</td>\n",
              "      <td>1.82</td>\n",
              "      <td>4.32</td>\n",
              "      <td>1.04</td>\n",
              "      <td>2.93</td>\n",
              "      <td>735.0</td>\n",
              "    </tr>\n",
              "  </tbody>\n",
              "</table>\n",
              "</div>\n",
              "    <div class=\"colab-df-buttons\">\n",
              "\n",
              "  <div class=\"colab-df-container\">\n",
              "    <button class=\"colab-df-convert\" onclick=\"convertToInteractive('df-99a0b813-5625-42e6-b130-2206809a62ae')\"\n",
              "            title=\"Convert this dataframe to an interactive table.\"\n",
              "            style=\"display:none;\">\n",
              "\n",
              "  <svg xmlns=\"http://www.w3.org/2000/svg\" height=\"24px\" viewBox=\"0 -960 960 960\">\n",
              "    <path d=\"M120-120v-720h720v720H120Zm60-500h600v-160H180v160Zm220 220h160v-160H400v160Zm0 220h160v-160H400v160ZM180-400h160v-160H180v160Zm440 0h160v-160H620v160ZM180-180h160v-160H180v160Zm440 0h160v-160H620v160Z\"/>\n",
              "  </svg>\n",
              "    </button>\n",
              "\n",
              "  <style>\n",
              "    .colab-df-container {\n",
              "      display:flex;\n",
              "      gap: 12px;\n",
              "    }\n",
              "\n",
              "    .colab-df-convert {\n",
              "      background-color: #E8F0FE;\n",
              "      border: none;\n",
              "      border-radius: 50%;\n",
              "      cursor: pointer;\n",
              "      display: none;\n",
              "      fill: #1967D2;\n",
              "      height: 32px;\n",
              "      padding: 0 0 0 0;\n",
              "      width: 32px;\n",
              "    }\n",
              "\n",
              "    .colab-df-convert:hover {\n",
              "      background-color: #E2EBFA;\n",
              "      box-shadow: 0px 1px 2px rgba(60, 64, 67, 0.3), 0px 1px 3px 1px rgba(60, 64, 67, 0.15);\n",
              "      fill: #174EA6;\n",
              "    }\n",
              "\n",
              "    .colab-df-buttons div {\n",
              "      margin-bottom: 4px;\n",
              "    }\n",
              "\n",
              "    [theme=dark] .colab-df-convert {\n",
              "      background-color: #3B4455;\n",
              "      fill: #D2E3FC;\n",
              "    }\n",
              "\n",
              "    [theme=dark] .colab-df-convert:hover {\n",
              "      background-color: #434B5C;\n",
              "      box-shadow: 0px 1px 3px 1px rgba(0, 0, 0, 0.15);\n",
              "      filter: drop-shadow(0px 1px 2px rgba(0, 0, 0, 0.3));\n",
              "      fill: #FFFFFF;\n",
              "    }\n",
              "  </style>\n",
              "\n",
              "    <script>\n",
              "      const buttonEl =\n",
              "        document.querySelector('#df-99a0b813-5625-42e6-b130-2206809a62ae button.colab-df-convert');\n",
              "      buttonEl.style.display =\n",
              "        google.colab.kernel.accessAllowed ? 'block' : 'none';\n",
              "\n",
              "      async function convertToInteractive(key) {\n",
              "        const element = document.querySelector('#df-99a0b813-5625-42e6-b130-2206809a62ae');\n",
              "        const dataTable =\n",
              "          await google.colab.kernel.invokeFunction('convertToInteractive',\n",
              "                                                    [key], {});\n",
              "        if (!dataTable) return;\n",
              "\n",
              "        const docLinkHtml = 'Like what you see? Visit the ' +\n",
              "          '<a target=\"_blank\" href=https://colab.research.google.com/notebooks/data_table.ipynb>data table notebook</a>'\n",
              "          + ' to learn more about interactive tables.';\n",
              "        element.innerHTML = '';\n",
              "        dataTable['output_type'] = 'display_data';\n",
              "        await google.colab.output.renderOutput(dataTable, element);\n",
              "        const docLink = document.createElement('div');\n",
              "        docLink.innerHTML = docLinkHtml;\n",
              "        element.appendChild(docLink);\n",
              "      }\n",
              "    </script>\n",
              "  </div>\n",
              "\n",
              "\n",
              "<div id=\"df-19fc683e-e794-4caf-bc3e-07c5aa049d7a\">\n",
              "  <button class=\"colab-df-quickchart\" onclick=\"quickchart('df-19fc683e-e794-4caf-bc3e-07c5aa049d7a')\"\n",
              "            title=\"Suggest charts\"\n",
              "            style=\"display:none;\">\n",
              "\n",
              "<svg xmlns=\"http://www.w3.org/2000/svg\" height=\"24px\"viewBox=\"0 0 24 24\"\n",
              "     width=\"24px\">\n",
              "    <g>\n",
              "        <path d=\"M19 3H5c-1.1 0-2 .9-2 2v14c0 1.1.9 2 2 2h14c1.1 0 2-.9 2-2V5c0-1.1-.9-2-2-2zM9 17H7v-7h2v7zm4 0h-2V7h2v10zm4 0h-2v-4h2v4z\"/>\n",
              "    </g>\n",
              "</svg>\n",
              "  </button>\n",
              "\n",
              "<style>\n",
              "  .colab-df-quickchart {\n",
              "      --bg-color: #E8F0FE;\n",
              "      --fill-color: #1967D2;\n",
              "      --hover-bg-color: #E2EBFA;\n",
              "      --hover-fill-color: #174EA6;\n",
              "      --disabled-fill-color: #AAA;\n",
              "      --disabled-bg-color: #DDD;\n",
              "  }\n",
              "\n",
              "  [theme=dark] .colab-df-quickchart {\n",
              "      --bg-color: #3B4455;\n",
              "      --fill-color: #D2E3FC;\n",
              "      --hover-bg-color: #434B5C;\n",
              "      --hover-fill-color: #FFFFFF;\n",
              "      --disabled-bg-color: #3B4455;\n",
              "      --disabled-fill-color: #666;\n",
              "  }\n",
              "\n",
              "  .colab-df-quickchart {\n",
              "    background-color: var(--bg-color);\n",
              "    border: none;\n",
              "    border-radius: 50%;\n",
              "    cursor: pointer;\n",
              "    display: none;\n",
              "    fill: var(--fill-color);\n",
              "    height: 32px;\n",
              "    padding: 0;\n",
              "    width: 32px;\n",
              "  }\n",
              "\n",
              "  .colab-df-quickchart:hover {\n",
              "    background-color: var(--hover-bg-color);\n",
              "    box-shadow: 0 1px 2px rgba(60, 64, 67, 0.3), 0 1px 3px 1px rgba(60, 64, 67, 0.15);\n",
              "    fill: var(--button-hover-fill-color);\n",
              "  }\n",
              "\n",
              "  .colab-df-quickchart-complete:disabled,\n",
              "  .colab-df-quickchart-complete:disabled:hover {\n",
              "    background-color: var(--disabled-bg-color);\n",
              "    fill: var(--disabled-fill-color);\n",
              "    box-shadow: none;\n",
              "  }\n",
              "\n",
              "  .colab-df-spinner {\n",
              "    border: 2px solid var(--fill-color);\n",
              "    border-color: transparent;\n",
              "    border-bottom-color: var(--fill-color);\n",
              "    animation:\n",
              "      spin 1s steps(1) infinite;\n",
              "  }\n",
              "\n",
              "  @keyframes spin {\n",
              "    0% {\n",
              "      border-color: transparent;\n",
              "      border-bottom-color: var(--fill-color);\n",
              "      border-left-color: var(--fill-color);\n",
              "    }\n",
              "    20% {\n",
              "      border-color: transparent;\n",
              "      border-left-color: var(--fill-color);\n",
              "      border-top-color: var(--fill-color);\n",
              "    }\n",
              "    30% {\n",
              "      border-color: transparent;\n",
              "      border-left-color: var(--fill-color);\n",
              "      border-top-color: var(--fill-color);\n",
              "      border-right-color: var(--fill-color);\n",
              "    }\n",
              "    40% {\n",
              "      border-color: transparent;\n",
              "      border-right-color: var(--fill-color);\n",
              "      border-top-color: var(--fill-color);\n",
              "    }\n",
              "    60% {\n",
              "      border-color: transparent;\n",
              "      border-right-color: var(--fill-color);\n",
              "    }\n",
              "    80% {\n",
              "      border-color: transparent;\n",
              "      border-right-color: var(--fill-color);\n",
              "      border-bottom-color: var(--fill-color);\n",
              "    }\n",
              "    90% {\n",
              "      border-color: transparent;\n",
              "      border-bottom-color: var(--fill-color);\n",
              "    }\n",
              "  }\n",
              "</style>\n",
              "\n",
              "  <script>\n",
              "    async function quickchart(key) {\n",
              "      const quickchartButtonEl =\n",
              "        document.querySelector('#' + key + ' button');\n",
              "      quickchartButtonEl.disabled = true;  // To prevent multiple clicks.\n",
              "      quickchartButtonEl.classList.add('colab-df-spinner');\n",
              "      try {\n",
              "        const charts = await google.colab.kernel.invokeFunction(\n",
              "            'suggestCharts', [key], {});\n",
              "      } catch (error) {\n",
              "        console.error('Error during call to suggestCharts:', error);\n",
              "      }\n",
              "      quickchartButtonEl.classList.remove('colab-df-spinner');\n",
              "      quickchartButtonEl.classList.add('colab-df-quickchart-complete');\n",
              "    }\n",
              "    (() => {\n",
              "      let quickchartButtonEl =\n",
              "        document.querySelector('#df-19fc683e-e794-4caf-bc3e-07c5aa049d7a button');\n",
              "      quickchartButtonEl.style.display =\n",
              "        google.colab.kernel.accessAllowed ? 'block' : 'none';\n",
              "    })();\n",
              "  </script>\n",
              "</div>\n",
              "\n",
              "    </div>\n",
              "  </div>\n"
            ],
            "application/vnd.google.colaboratory.intrinsic+json": {
              "type": "dataframe",
              "variable_name": "df",
              "summary": "{\n  \"name\": \"df\",\n  \"rows\": 178,\n  \"fields\": [\n    {\n      \"column\": \"alcohol\",\n      \"properties\": {\n        \"dtype\": \"number\",\n        \"std\": 0.8118265380058577,\n        \"min\": 11.03,\n        \"max\": 14.83,\n        \"num_unique_values\": 126,\n        \"samples\": [\n          11.62,\n          13.64,\n          13.69\n        ],\n        \"semantic_type\": \"\",\n        \"description\": \"\"\n      }\n    },\n    {\n      \"column\": \"malic_acid\",\n      \"properties\": {\n        \"dtype\": \"number\",\n        \"std\": 1.1171460976144627,\n        \"min\": 0.74,\n        \"max\": 5.8,\n        \"num_unique_values\": 133,\n        \"samples\": [\n          1.21,\n          2.83,\n          1.8\n        ],\n        \"semantic_type\": \"\",\n        \"description\": \"\"\n      }\n    },\n    {\n      \"column\": \"ash\",\n      \"properties\": {\n        \"dtype\": \"number\",\n        \"std\": 0.2743440090608148,\n        \"min\": 1.36,\n        \"max\": 3.23,\n        \"num_unique_values\": 79,\n        \"samples\": [\n          2.31,\n          2.43,\n          2.52\n        ],\n        \"semantic_type\": \"\",\n        \"description\": \"\"\n      }\n    },\n    {\n      \"column\": \"alcalinity_of_ash\",\n      \"properties\": {\n        \"dtype\": \"number\",\n        \"std\": 3.3395637671735052,\n        \"min\": 10.6,\n        \"max\": 30.0,\n        \"num_unique_values\": 63,\n        \"samples\": [\n          25.5,\n          28.5,\n          15.6\n        ],\n        \"semantic_type\": \"\",\n        \"description\": \"\"\n      }\n    },\n    {\n      \"column\": \"magnesium\",\n      \"properties\": {\n        \"dtype\": \"number\",\n        \"std\": 14.282483515295668,\n        \"min\": 70.0,\n        \"max\": 162.0,\n        \"num_unique_values\": 53,\n        \"samples\": [\n          126.0,\n          85.0,\n          162.0\n        ],\n        \"semantic_type\": \"\",\n        \"description\": \"\"\n      }\n    },\n    {\n      \"column\": \"total_phenols\",\n      \"properties\": {\n        \"dtype\": \"number\",\n        \"std\": 0.6258510488339891,\n        \"min\": 0.98,\n        \"max\": 3.88,\n        \"num_unique_values\": 97,\n        \"samples\": [\n          1.68,\n          2.11,\n          1.35\n        ],\n        \"semantic_type\": \"\",\n        \"description\": \"\"\n      }\n    },\n    {\n      \"column\": \"flavanoids\",\n      \"properties\": {\n        \"dtype\": \"number\",\n        \"std\": 0.9988586850169465,\n        \"min\": 0.34,\n        \"max\": 5.08,\n        \"num_unique_values\": 132,\n        \"samples\": [\n          3.18,\n          2.5,\n          3.17\n        ],\n        \"semantic_type\": \"\",\n        \"description\": \"\"\n      }\n    },\n    {\n      \"column\": \"nonflavanoid_phenols\",\n      \"properties\": {\n        \"dtype\": \"number\",\n        \"std\": 0.12445334029667939,\n        \"min\": 0.13,\n        \"max\": 0.66,\n        \"num_unique_values\": 39,\n        \"samples\": [\n          0.58,\n          0.41,\n          0.39\n        ],\n        \"semantic_type\": \"\",\n        \"description\": \"\"\n      }\n    },\n    {\n      \"column\": \"proanthocyanins\",\n      \"properties\": {\n        \"dtype\": \"number\",\n        \"std\": 0.5723588626747611,\n        \"min\": 0.41,\n        \"max\": 3.58,\n        \"num_unique_values\": 101,\n        \"samples\": [\n          0.75,\n          1.77,\n          1.42\n        ],\n        \"semantic_type\": \"\",\n        \"description\": \"\"\n      }\n    },\n    {\n      \"column\": \"color_intensity\",\n      \"properties\": {\n        \"dtype\": \"number\",\n        \"std\": 2.318285871822413,\n        \"min\": 1.28,\n        \"max\": 13.0,\n        \"num_unique_values\": 132,\n        \"samples\": [\n          2.95,\n          3.3,\n          5.1\n        ],\n        \"semantic_type\": \"\",\n        \"description\": \"\"\n      }\n    },\n    {\n      \"column\": \"hue\",\n      \"properties\": {\n        \"dtype\": \"number\",\n        \"std\": 0.22857156582982338,\n        \"min\": 0.48,\n        \"max\": 1.71,\n        \"num_unique_values\": 78,\n        \"samples\": [\n          1.22,\n          1.04,\n          1.45\n        ],\n        \"semantic_type\": \"\",\n        \"description\": \"\"\n      }\n    },\n    {\n      \"column\": \"od280/od315_of_diluted_wines\",\n      \"properties\": {\n        \"dtype\": \"number\",\n        \"std\": 0.7099904287650505,\n        \"min\": 1.27,\n        \"max\": 4.0,\n        \"num_unique_values\": 122,\n        \"samples\": [\n          4.0,\n          1.82,\n          1.59\n        ],\n        \"semantic_type\": \"\",\n        \"description\": \"\"\n      }\n    },\n    {\n      \"column\": \"proline\",\n      \"properties\": {\n        \"dtype\": \"number\",\n        \"std\": 314.9074742768489,\n        \"min\": 278.0,\n        \"max\": 1680.0,\n        \"num_unique_values\": 121,\n        \"samples\": [\n          1375.0,\n          1270.0,\n          735.0\n        ],\n        \"semantic_type\": \"\",\n        \"description\": \"\"\n      }\n    }\n  ]\n}"
            }
          },
          "metadata": {},
          "execution_count": 10
        }
      ]
    },
    {
      "cell_type": "markdown",
      "source": [
        "***2. Seleccionar una de las características numéricas (por ejemplo, malic_acid)***"
      ],
      "metadata": {
        "id": "kJaP07RTlToF"
      }
    },
    {
      "cell_type": "code",
      "source": [
        "df['magnesium'].values.reshape(-1, 1)"
      ],
      "metadata": {
        "colab": {
          "base_uri": "https://localhost:8080/"
        },
        "id": "sjJ5JDZplYFb",
        "outputId": "1a2fceaf-a478-4738-ef40-fdbadfb55c99"
      },
      "execution_count": 11,
      "outputs": [
        {
          "output_type": "execute_result",
          "data": {
            "text/plain": [
              "array([[127.],\n",
              "       [100.],\n",
              "       [101.],\n",
              "       [113.],\n",
              "       [118.],\n",
              "       [112.],\n",
              "       [ 96.],\n",
              "       [121.],\n",
              "       [ 97.],\n",
              "       [ 98.],\n",
              "       [105.],\n",
              "       [ 95.],\n",
              "       [ 89.],\n",
              "       [ 91.],\n",
              "       [102.],\n",
              "       [112.],\n",
              "       [120.],\n",
              "       [115.],\n",
              "       [108.],\n",
              "       [116.],\n",
              "       [126.],\n",
              "       [102.],\n",
              "       [101.],\n",
              "       [ 95.],\n",
              "       [ 96.],\n",
              "       [124.],\n",
              "       [ 93.],\n",
              "       [ 94.],\n",
              "       [107.],\n",
              "       [ 96.],\n",
              "       [101.],\n",
              "       [106.],\n",
              "       [104.],\n",
              "       [132.],\n",
              "       [110.],\n",
              "       [100.],\n",
              "       [110.],\n",
              "       [ 98.],\n",
              "       [ 98.],\n",
              "       [128.],\n",
              "       [117.],\n",
              "       [ 90.],\n",
              "       [101.],\n",
              "       [103.],\n",
              "       [107.],\n",
              "       [111.],\n",
              "       [102.],\n",
              "       [101.],\n",
              "       [103.],\n",
              "       [108.],\n",
              "       [ 92.],\n",
              "       [ 94.],\n",
              "       [111.],\n",
              "       [115.],\n",
              "       [118.],\n",
              "       [116.],\n",
              "       [118.],\n",
              "       [102.],\n",
              "       [108.],\n",
              "       [ 88.],\n",
              "       [101.],\n",
              "       [100.],\n",
              "       [ 94.],\n",
              "       [ 87.],\n",
              "       [104.],\n",
              "       [ 98.],\n",
              "       [ 78.],\n",
              "       [ 78.],\n",
              "       [110.],\n",
              "       [151.],\n",
              "       [103.],\n",
              "       [ 86.],\n",
              "       [ 87.],\n",
              "       [139.],\n",
              "       [101.],\n",
              "       [ 97.],\n",
              "       [ 86.],\n",
              "       [112.],\n",
              "       [136.],\n",
              "       [101.],\n",
              "       [ 86.],\n",
              "       [ 86.],\n",
              "       [ 78.],\n",
              "       [ 85.],\n",
              "       [ 94.],\n",
              "       [ 99.],\n",
              "       [ 90.],\n",
              "       [ 88.],\n",
              "       [ 84.],\n",
              "       [ 70.],\n",
              "       [ 81.],\n",
              "       [ 86.],\n",
              "       [ 80.],\n",
              "       [ 88.],\n",
              "       [ 98.],\n",
              "       [162.],\n",
              "       [134.],\n",
              "       [ 85.],\n",
              "       [ 88.],\n",
              "       [ 88.],\n",
              "       [ 97.],\n",
              "       [ 88.],\n",
              "       [ 98.],\n",
              "       [ 86.],\n",
              "       [ 85.],\n",
              "       [ 90.],\n",
              "       [ 80.],\n",
              "       [ 84.],\n",
              "       [ 92.],\n",
              "       [ 94.],\n",
              "       [107.],\n",
              "       [ 88.],\n",
              "       [103.],\n",
              "       [ 88.],\n",
              "       [ 84.],\n",
              "       [ 85.],\n",
              "       [ 86.],\n",
              "       [108.],\n",
              "       [ 80.],\n",
              "       [ 87.],\n",
              "       [ 96.],\n",
              "       [119.],\n",
              "       [102.],\n",
              "       [ 86.],\n",
              "       [ 82.],\n",
              "       [ 85.],\n",
              "       [ 86.],\n",
              "       [ 92.],\n",
              "       [ 88.],\n",
              "       [ 80.],\n",
              "       [122.],\n",
              "       [104.],\n",
              "       [ 98.],\n",
              "       [106.],\n",
              "       [ 85.],\n",
              "       [ 94.],\n",
              "       [ 89.],\n",
              "       [ 96.],\n",
              "       [ 88.],\n",
              "       [101.],\n",
              "       [ 96.],\n",
              "       [ 89.],\n",
              "       [ 97.],\n",
              "       [ 92.],\n",
              "       [112.],\n",
              "       [102.],\n",
              "       [ 80.],\n",
              "       [ 86.],\n",
              "       [ 92.],\n",
              "       [113.],\n",
              "       [123.],\n",
              "       [112.],\n",
              "       [116.],\n",
              "       [ 98.],\n",
              "       [103.],\n",
              "       [ 93.],\n",
              "       [ 89.],\n",
              "       [ 97.],\n",
              "       [ 98.],\n",
              "       [ 89.],\n",
              "       [ 88.],\n",
              "       [107.],\n",
              "       [106.],\n",
              "       [106.],\n",
              "       [ 90.],\n",
              "       [ 88.],\n",
              "       [111.],\n",
              "       [ 88.],\n",
              "       [105.],\n",
              "       [112.],\n",
              "       [ 96.],\n",
              "       [ 86.],\n",
              "       [ 91.],\n",
              "       [ 95.],\n",
              "       [102.],\n",
              "       [120.],\n",
              "       [120.],\n",
              "       [ 96.]])"
            ]
          },
          "metadata": {},
          "execution_count": 11
        }
      ]
    },
    {
      "cell_type": "markdown",
      "source": [
        "***3. Realizar una prueba de normalidad (usando scipy.stats.shapiro) sobre los datos originales***"
      ],
      "metadata": {
        "id": "1Msq6NjRlcoz"
      }
    },
    {
      "cell_type": "code",
      "source": [
        "statistic, pvalue = stats.shapiro(df['magnesium'])\n",
        "print(f\"statistic:\",statistic)\n",
        "print(f\"pvalue:\",pvalue)\n",
        "print(\"\\n\")\n",
        "\n",
        "if pvalue > 0.05:\n",
        "  print(\"Los datos tienen una distribución normal\")\n",
        "else:\n",
        "  print(\"Los datos no tienen una distribución normal\")"
      ],
      "metadata": {
        "colab": {
          "base_uri": "https://localhost:8080/"
        },
        "id": "twnuj8jslg3g",
        "outputId": "02415d85-9c6c-4e3c-8480-b7b3d0ebafff"
      },
      "execution_count": 13,
      "outputs": [
        {
          "output_type": "stream",
          "name": "stdout",
          "text": [
            "statistic: 0.9383312109016513\n",
            "pvalue: 6.345693783266514e-07\n",
            "\n",
            "\n",
            "Los datos no tienen una distribución normal\n"
          ]
        }
      ]
    },
    {
      "cell_type": "markdown",
      "source": [
        "***4. Aplicar la normalización Z-Score a los datos seleccionados***"
      ],
      "metadata": {
        "id": "Xz8b7NINlhPY"
      }
    },
    {
      "cell_type": "code",
      "source": [
        "scaler = StandardScaler()\n",
        "normalizados2 = scaler.fit_transform(df[['magnesium']])\n",
        "print(normalizados2)"
      ],
      "metadata": {
        "colab": {
          "base_uri": "https://localhost:8080/"
        },
        "id": "_4UvjTSil3qf",
        "outputId": "ec507b93-3669-410f-b088-d02aed58f209"
      },
      "execution_count": 14,
      "outputs": [
        {
          "output_type": "stream",
          "name": "stdout",
          "text": [
            "[[ 1.91390522]\n",
            " [ 0.01814502]\n",
            " [ 0.08835836]\n",
            " [ 0.93091845]\n",
            " [ 1.28198515]\n",
            " [ 0.86070511]\n",
            " [-0.26270834]\n",
            " [ 1.49262517]\n",
            " [-0.192495  ]\n",
            " [-0.12228166]\n",
            " [ 0.36921172]\n",
            " [-0.33292168]\n",
            " [-0.75420173]\n",
            " [-0.61377505]\n",
            " [ 0.1585717 ]\n",
            " [ 0.86070511]\n",
            " [ 1.42241183]\n",
            " [ 1.07134513]\n",
            " [ 0.57985175]\n",
            " [ 1.14155847]\n",
            " [ 1.84369188]\n",
            " [ 0.1585717 ]\n",
            " [ 0.08835836]\n",
            " [-0.33292168]\n",
            " [-0.26270834]\n",
            " [ 1.7032652 ]\n",
            " [-0.47334836]\n",
            " [-0.40313502]\n",
            " [ 0.50963841]\n",
            " [-0.26270834]\n",
            " [ 0.08835836]\n",
            " [ 0.43942506]\n",
            " [ 0.29899838]\n",
            " [ 2.26497192]\n",
            " [ 0.72027843]\n",
            " [ 0.01814502]\n",
            " [ 0.72027843]\n",
            " [-0.12228166]\n",
            " [-0.12228166]\n",
            " [ 1.98411856]\n",
            " [ 1.21177181]\n",
            " [-0.68398839]\n",
            " [ 0.08835836]\n",
            " [ 0.22878504]\n",
            " [ 0.50963841]\n",
            " [ 0.79049177]\n",
            " [ 0.1585717 ]\n",
            " [ 0.08835836]\n",
            " [ 0.22878504]\n",
            " [ 0.57985175]\n",
            " [-0.5435617 ]\n",
            " [-0.40313502]\n",
            " [ 0.79049177]\n",
            " [ 1.07134513]\n",
            " [ 1.28198515]\n",
            " [ 1.14155847]\n",
            " [ 1.28198515]\n",
            " [ 0.1585717 ]\n",
            " [ 0.57985175]\n",
            " [-0.82441507]\n",
            " [ 0.08835836]\n",
            " [ 0.01814502]\n",
            " [-0.40313502]\n",
            " [-0.89462841]\n",
            " [ 0.29899838]\n",
            " [-0.12228166]\n",
            " [-1.52654847]\n",
            " [-1.52654847]\n",
            " [ 0.72027843]\n",
            " [ 3.59902539]\n",
            " [ 0.22878504]\n",
            " [-0.96484175]\n",
            " [-0.89462841]\n",
            " [ 2.75646531]\n",
            " [ 0.08835836]\n",
            " [-0.192495  ]\n",
            " [-0.96484175]\n",
            " [ 0.86070511]\n",
            " [ 2.54582528]\n",
            " [ 0.08835836]\n",
            " [-0.96484175]\n",
            " [-0.96484175]\n",
            " [-1.52654847]\n",
            " [-1.03505509]\n",
            " [-0.40313502]\n",
            " [-0.05206832]\n",
            " [-0.68398839]\n",
            " [-0.82441507]\n",
            " [-1.10526843]\n",
            " [-2.0882552 ]\n",
            " [-1.31590845]\n",
            " [-0.96484175]\n",
            " [-1.38612179]\n",
            " [-0.82441507]\n",
            " [-0.12228166]\n",
            " [ 4.37137214]\n",
            " [ 2.4053986 ]\n",
            " [-1.03505509]\n",
            " [-0.82441507]\n",
            " [-0.82441507]\n",
            " [-0.192495  ]\n",
            " [-0.82441507]\n",
            " [-0.12228166]\n",
            " [-0.96484175]\n",
            " [-1.03505509]\n",
            " [-0.68398839]\n",
            " [-1.38612179]\n",
            " [-1.10526843]\n",
            " [-0.5435617 ]\n",
            " [-0.40313502]\n",
            " [ 0.50963841]\n",
            " [-0.82441507]\n",
            " [ 0.22878504]\n",
            " [-0.82441507]\n",
            " [-1.10526843]\n",
            " [-1.03505509]\n",
            " [-0.96484175]\n",
            " [ 0.57985175]\n",
            " [-1.38612179]\n",
            " [-0.89462841]\n",
            " [-0.26270834]\n",
            " [ 1.35219849]\n",
            " [ 0.1585717 ]\n",
            " [-0.96484175]\n",
            " [-1.24569511]\n",
            " [-1.03505509]\n",
            " [-0.96484175]\n",
            " [-0.5435617 ]\n",
            " [-0.82441507]\n",
            " [-1.38612179]\n",
            " [ 1.56283851]\n",
            " [ 0.29899838]\n",
            " [-0.12228166]\n",
            " [ 0.43942506]\n",
            " [-1.03505509]\n",
            " [-0.40313502]\n",
            " [-0.75420173]\n",
            " [-0.26270834]\n",
            " [-0.82441507]\n",
            " [ 0.08835836]\n",
            " [-0.26270834]\n",
            " [-0.75420173]\n",
            " [-0.192495  ]\n",
            " [-0.5435617 ]\n",
            " [ 0.86070511]\n",
            " [ 0.1585717 ]\n",
            " [-1.38612179]\n",
            " [-0.96484175]\n",
            " [-0.5435617 ]\n",
            " [ 0.93091845]\n",
            " [ 1.63305186]\n",
            " [ 0.86070511]\n",
            " [ 1.14155847]\n",
            " [-0.12228166]\n",
            " [ 0.22878504]\n",
            " [-0.47334836]\n",
            " [-0.75420173]\n",
            " [-0.192495  ]\n",
            " [-0.12228166]\n",
            " [-0.75420173]\n",
            " [-0.82441507]\n",
            " [ 0.50963841]\n",
            " [ 0.43942506]\n",
            " [ 0.43942506]\n",
            " [-0.68398839]\n",
            " [-0.82441507]\n",
            " [ 0.79049177]\n",
            " [-0.82441507]\n",
            " [ 0.36921172]\n",
            " [ 0.86070511]\n",
            " [-0.26270834]\n",
            " [-0.96484175]\n",
            " [-0.61377505]\n",
            " [-0.33292168]\n",
            " [ 0.1585717 ]\n",
            " [ 1.42241183]\n",
            " [ 1.42241183]\n",
            " [-0.26270834]]\n"
          ]
        }
      ]
    },
    {
      "cell_type": "markdown",
      "source": [
        "***5. Realizar la prueba de normalidad nuevamente sobre los datos normalizados***"
      ],
      "metadata": {
        "id": "7moblInOl5cX"
      }
    },
    {
      "cell_type": "code",
      "source": [
        "statistic, pvalue = stats.shapiro(normalizados2)\n",
        "print(f\"statistic:\",statistic)\n",
        "print(f\"pvalue:\",pvalue)\n",
        "print(\"\\n\")\n",
        "\n",
        "if pvalue > 0.05:\n",
        "  print(\"Los datos tienen una distribución normal\")\n",
        "else:\n",
        "  print(\"Los datos no tienen una distribución normal\")"
      ],
      "metadata": {
        "colab": {
          "base_uri": "https://localhost:8080/"
        },
        "id": "5ewrMjmEl-t9",
        "outputId": "1747220f-67bc-47d7-fde1-4c801e7c3937"
      },
      "execution_count": 15,
      "outputs": [
        {
          "output_type": "stream",
          "name": "stdout",
          "text": [
            "statistic: 0.9383312109016513\n",
            "pvalue: 6.345693783266514e-07\n",
            "\n",
            "\n",
            "Los datos no tienen una distribución normal\n"
          ]
        }
      ]
    },
    {
      "cell_type": "markdown",
      "source": [
        "***6. Graficar los datos originales y los normalizados utilizando matplotlib o seaborn***"
      ],
      "metadata": {
        "id": "Mj2qNfxkmAs6"
      }
    },
    {
      "cell_type": "code",
      "source": [
        "plt.figure(figsize=(12, 6))\n",
        "\n",
        "plt.subplot(1, 2, 1)\n",
        "plt.hist(df.magnesium, bins=30, color='cyan', edgecolor='black')\n",
        "plt.title(\"Distribución original\")\n",
        "plt.ylabel('Frecuencia')\n",
        "\n",
        "plt.subplot(1, 2, 2)\n",
        "plt.hist(normalizados2, bins=30, color='tan', edgecolor='black')\n",
        "plt.title(\"Distribución normalizada\")\n",
        "plt.ylabel('Frecuencia')\n",
        "\n",
        "plt.tight_layout()\n",
        "plt.show()"
      ],
      "metadata": {
        "id": "9FOxWVplmGMi",
        "colab": {
          "base_uri": "https://localhost:8080/",
          "height": 606
        },
        "outputId": "1827b8b4-f0d9-4129-a683-4f965032005c"
      },
      "execution_count": 16,
      "outputs": [
        {
          "output_type": "display_data",
          "data": {
            "text/plain": [
              "<Figure size 1200x600 with 2 Axes>"
            ],
            "image/png": "[encoded data removed]"
          },
          "metadata": {}
        }
      ]
    },
    {
      "cell_type": "markdown",
      "source": [
        "***7. Responder las siguientes preguntas***\n",
        "\n",
        "*   **¿Qué diferencia observas entre la distribución original y la normalizada con Z-Score?**\n",
        "\n",
        "La unica diferencia es en los valores(datos), la distribución es la misma entre la original y la normalizada.\n",
        "\n",
        "\n",
        "*   **¿Qué implicaciones tiene la normalización Z-Score en el análisis de los datos?**\n",
        "\n",
        "Facilita la comparación de variables con diferentes escalas, elimina el sesgo de escala, cambio en la interpretación de los valores y en algunas ocasiones requiere que los datos sigan una distribución normal.\n",
        "\n"
      ],
      "metadata": {
        "id": "ohIgUMqdmGtO"
      }
    },
    {
      "cell_type": "markdown",
      "source": [
        "# Ejercicio 3: Transformación Logarítmica"
      ],
      "metadata": {
        "id": "Bn89Qfsrmu39"
      }
    },
    {
      "cell_type": "markdown",
      "source": [
        "***1. Cargar un conjunto de datos aleatorios generados con numpy***"
      ],
      "metadata": {
        "id": "lRLjfqxYm1q-"
      }
    },
    {
      "cell_type": "code",
      "source": [
        "datos = np.random.randint(1, 10001, size=5000)\n",
        "datos"
      ],
      "metadata": {
        "id": "PbSACB6um9Hz",
        "colab": {
          "base_uri": "https://localhost:8080/"
        },
        "outputId": "71c01711-f328-4559-ef96-5ea1455b9640"
      },
      "execution_count": 20,
      "outputs": [
        {
          "output_type": "execute_result",
          "data": {
            "text/plain": [
              "array([9681, 3850, 3544, ..., 8512, 4531, 9545])"
            ]
          },
          "metadata": {},
          "execution_count": 20
        }
      ]
    },
    {
      "cell_type": "markdown",
      "source": [
        "***2. Aplicar una transformación logarítmica (np.log) a los datos***"
      ],
      "metadata": {
        "id": "We0Ft3J9m9_l"
      }
    },
    {
      "cell_type": "code",
      "source": [
        "normalizados3 = np.log(datos)\n",
        "normalizados3"
      ],
      "metadata": {
        "id": "U1XDK3LqnB9h",
        "colab": {
          "base_uri": "https://localhost:8080/"
        },
        "outputId": "2c083fbd-d3c1-4c38-f14a-46348bca64a0"
      },
      "execution_count": 21,
      "outputs": [
        {
          "output_type": "execute_result",
          "data": {
            "text/plain": [
              "array([9.17792048, 8.25582843, 8.17301131, ..., 9.04923221, 8.41869794,\n",
              "       9.16377274])"
            ]
          },
          "metadata": {},
          "execution_count": 21
        }
      ]
    },
    {
      "cell_type": "markdown",
      "source": [
        "***3. Realizar una prueba de normalidad sobre los datos originales y transformados***"
      ],
      "metadata": {
        "id": "XanJQP71nK6B"
      }
    },
    {
      "cell_type": "code",
      "source": [
        "print(\"Datos originales\")\n",
        "statistic, pvalue = stats.shapiro(datos)\n",
        "print(f\"statistic:\",statistic)\n",
        "print(f\"pvalue:\",pvalue)\n",
        "\n",
        "print(\"\\n\")\n",
        "print(\"Datos transformados\")\n",
        "statistic, pvalue = stats.shapiro(normalizados3)\n",
        "print(f\"statistic:\",statistic)\n",
        "print(f\"pvalue:\",pvalue)"
      ],
      "metadata": {
        "id": "tPfnadoFnP0J",
        "colab": {
          "base_uri": "https://localhost:8080/"
        },
        "outputId": "ed341168-aa90-443b-f006-13a5e122f1aa"
      },
      "execution_count": 24,
      "outputs": [
        {
          "output_type": "stream",
          "name": "stdout",
          "text": [
            "Datos originales\n",
            "statistic: 0.9525954680557455\n",
            "pvalue: 1.7683436957737392e-37\n",
            "\n",
            "\n",
            "Datos transformados\n",
            "statistic: 0.8117665656758034\n",
            "pvalue: 1.8953938812475886e-60\n"
          ]
        }
      ]
    },
    {
      "cell_type": "markdown",
      "source": [
        "***4. Graficar los datos originales y transformados utilizando matplotlib***"
      ],
      "metadata": {
        "id": "kNR5tR48nQRn"
      }
    },
    {
      "cell_type": "code",
      "source": [
        "plt.figure(figsize=(12, 6))\n",
        "\n",
        "plt.subplot(1, 2, 1)\n",
        "plt.hist(datos, bins=30, color='bisque', edgecolor='black')\n",
        "plt.title(\"Datos originales\")\n",
        "plt.ylabel('Frecuencia')\n",
        "\n",
        "plt.subplot(1, 2, 2)\n",
        "plt.hist(normalizados3, bins=30, color='khaki', edgecolor='black')\n",
        "plt.title(\"Datos normalizados\")\n",
        "plt.ylabel('Frecuencia')\n",
        "\n",
        "plt.tight_layout()\n",
        "plt.show()"
      ],
      "metadata": {
        "id": "_ZUAsGaHnUSR",
        "colab": {
          "base_uri": "https://localhost:8080/",
          "height": 607
        },
        "outputId": "b40e0e6c-4685-4fac-e68f-de1cc99b257d"
      },
      "execution_count": 25,
      "outputs": [
        {
          "output_type": "display_data",
          "data": {
            "text/plain": [
              "<Figure size 1200x600 with 2 Axes>"
            ],
            "image/png": "[encoded data removed]"
          },
          "metadata": {}
        }
      ]
    },
    {
      "cell_type": "markdown",
      "source": [
        "***5. Responder las siguientes preguntas***\n",
        "\n",
        "*   **¿Cómo afectó la transformación logarítmica a la distribución de los datos?**\n",
        "\n",
        "La transformación logarítmica redujo la asimetría de los datos originales, detonando que las distribución sea parecida a una distribución normal.\n",
        "\n",
        "*   **¿Qué interpretas del p-valor antes y después de la transformación logarítmica?**\n",
        "\n",
        "El p-valor antes de la transformación indica que los datos originales no siguen una distribución normal. Después de la transformación, el p-valor tuvo un cambio positivo reduciendo la asimetría y haciendo que se acerque a una distribución normal.\n"
      ],
      "metadata": {
        "id": "JOxMsI_4nVvJ"
      }
    },
    {
      "cell_type": "markdown",
      "source": [
        "# Ejercicio 4: Transformación Raíz Cuadrada"
      ],
      "metadata": {
        "id": "l0YodgSjn0Ln"
      }
    },
    {
      "cell_type": "markdown",
      "source": [
        "***1. Cargar un conjunto de datos aleatorios generados con numpy***"
      ],
      "metadata": {
        "id": "VaKkvCApn4Cz"
      }
    },
    {
      "cell_type": "code",
      "source": [
        "datos1 = np.random.randint(1, 10001, size=5001)\n",
        "datos1"
      ],
      "metadata": {
        "id": "Dcf-6Bocn-R0",
        "colab": {
          "base_uri": "https://localhost:8080/"
        },
        "outputId": "492c55a0-d109-48e5-b3ce-9feb0c4898c9"
      },
      "execution_count": 26,
      "outputs": [
        {
          "output_type": "execute_result",
          "data": {
            "text/plain": [
              "array([ 242, 8433, 3219, ..., 8342, 8586,  833])"
            ]
          },
          "metadata": {},
          "execution_count": 26
        }
      ]
    },
    {
      "cell_type": "markdown",
      "source": [
        "***2. Aplicar una transformación de raíz cuadrada a los datos***"
      ],
      "metadata": {
        "id": "kTGzCWDEoGpg"
      }
    },
    {
      "cell_type": "code",
      "source": [
        "normalizados4 = np.sqrt(datos1)\n",
        "normalizados4"
      ],
      "metadata": {
        "id": "w01naaNCoKvb",
        "colab": {
          "base_uri": "https://localhost:8080/"
        },
        "outputId": "a769cc1a-3dc4-4b26-f2a4-a8831a2a5fec"
      },
      "execution_count": 27,
      "outputs": [
        {
          "output_type": "execute_result",
          "data": {
            "text/plain": [
              "array([15.55634919, 91.83136719, 56.73623181, ..., 91.33454987,\n",
              "       92.66067127, 28.86173938])"
            ]
          },
          "metadata": {},
          "execution_count": 27
        }
      ]
    },
    {
      "cell_type": "markdown",
      "source": [
        "***3. Realizar una prueba de normalidad sobre los datos originales y transformados***"
      ],
      "metadata": {
        "id": "d5FTtW6roLMy"
      }
    },
    {
      "cell_type": "code",
      "source": [
        "print(\"Datos originales\")\n",
        "statistic, pvalue = stats.shapiro(datos1)\n",
        "print(f\"statistic:\",statistic)\n",
        "print(f\"pvalue:\",pvalue)\n",
        "\n",
        "print(\"\\n\")\n",
        "print(\"Datos transformados\")\n",
        "statistic, pvalue = stats.shapiro(normalizados4)\n",
        "print(f\"statistic:\",statistic)\n",
        "print(f\"pvalue:\",pvalue)"
      ],
      "metadata": {
        "id": "chnldHz9oW0L",
        "colab": {
          "base_uri": "https://localhost:8080/"
        },
        "outputId": "4fbad44d-9091-4b8d-9c2a-94e5c9082afe"
      },
      "execution_count": 28,
      "outputs": [
        {
          "output_type": "stream",
          "name": "stdout",
          "text": [
            "Datos originales\n",
            "statistic: 0.956151417475341\n",
            "pvalue: 2.36847067719334e-36\n",
            "\n",
            "\n",
            "Datos transformados\n",
            "statistic: 0.9483134722558761\n",
            "pvalue: 9.337187362521429e-39\n"
          ]
        }
      ]
    },
    {
      "cell_type": "markdown",
      "source": [
        "***4. Graficar los datos originales y transformados utilizando matplotlib***"
      ],
      "metadata": {
        "id": "gu3WbgXVoXOU"
      }
    },
    {
      "cell_type": "code",
      "source": [
        "plt.figure(figsize=(12, 6))\n",
        "\n",
        "plt.subplot(1, 2, 1)\n",
        "plt.hist(datos1, bins=30, color='silver', edgecolor='black')\n",
        "plt.title(\"Datos originales\")\n",
        "plt.ylabel('Frecuencia')\n",
        "\n",
        "plt.subplot(1, 2, 2)\n",
        "plt.hist(normalizados4, bins=30, color='palegreen', edgecolor='black')\n",
        "plt.title(\"Datos normalizados\")\n",
        "plt.ylabel('Frecuencia')\n",
        "\n",
        "plt.tight_layout()\n",
        "plt.show()"
      ],
      "metadata": {
        "id": "kPKjGu1JobGR",
        "colab": {
          "base_uri": "https://localhost:8080/",
          "height": 607
        },
        "outputId": "a8f0228a-c2f1-4be3-eecc-d636fb2d1784"
      },
      "execution_count": 29,
      "outputs": [
        {
          "output_type": "display_data",
          "data": {
            "text/plain": [
              "<Figure size 1200x600 with 2 Axes>"
            ],
            "image/png": "[encoded data removed]"
          },
          "metadata": {}
        }
      ]
    },
    {
      "cell_type": "markdown",
      "source": [
        "***5. Responder las siguientes preguntas***\n",
        "\n",
        "*   **¿Cómo afectó la transformación raíz cuadrada a la distribución de los datos?**\n",
        "\n",
        "Redujo la asimetría de los datos originales y hubo una reducción en la dispersión.\n",
        "\n",
        "*   **¿Qué efectos tiene la raíz cuadrada sobre los valores extremos de los datos?**\n",
        "\n",
        "Reduce el impacto de los valores extremos. Al tomar la raíz cuadrada de los datos, la diferencia entre los valores grandes y pequeños se disminuye."
      ],
      "metadata": {
        "id": "Qy6AIkiDobY8"
      }
    },
    {
      "cell_type": "markdown",
      "source": [
        "# Ejercicio 5: Transformación Box-Cox"
      ],
      "metadata": {
        "id": "4ejQ316XqH8a"
      }
    },
    {
      "cell_type": "markdown",
      "source": [
        "***1. Cargar un conjunto de datos aleatorios generados con numpy***"
      ],
      "metadata": {
        "id": "7eVXM4ZhqNNk"
      }
    },
    {
      "cell_type": "code",
      "source": [
        "datos3 = np.random.randint(1, 10001, size=5000)\n",
        "datos3"
      ],
      "metadata": {
        "id": "xKQgCIM-q08k",
        "colab": {
          "base_uri": "https://localhost:8080/"
        },
        "outputId": "17ea9018-79b1-415f-c3ba-270c354910a9"
      },
      "execution_count": 30,
      "outputs": [
        {
          "output_type": "execute_result",
          "data": {
            "text/plain": [
              "array([4027, 7392, 3421, ...,  680, 7092, 1640])"
            ]
          },
          "metadata": {},
          "execution_count": 30
        }
      ]
    },
    {
      "cell_type": "markdown",
      "source": [
        "***2. Aplicar la transformación Box-Cox a los datos utilizando scipy.stats.boxcox***"
      ],
      "metadata": {
        "id": "A6nG_d_Wq1QX"
      }
    },
    {
      "cell_type": "code",
      "source": [
        "normalizados5, lambda_ = stats.boxcox(datos3)\n",
        "print(\"Valor de lambda:\", lambda_)\n",
        "\n",
        "normalizados5\n"
      ],
      "metadata": {
        "id": "8YuBSY5pq8uJ",
        "colab": {
          "base_uri": "https://localhost:8080/"
        },
        "outputId": "6760d767-421d-4f0b-a55e-26c8b257efe2"
      },
      "execution_count": 34,
      "outputs": [
        {
          "output_type": "stream",
          "name": "stdout",
          "text": [
            "Valor de lambda: 0.7112365367557899\n"
          ]
        },
        {
          "output_type": "execute_result",
          "data": {
            "text/plain": [
              "array([513.79961676, 792.17415155, 457.37426971, ..., 143.99579395,\n",
              "       769.13074412, 270.55106335])"
            ]
          },
          "metadata": {},
          "execution_count": 34
        }
      ]
    },
    {
      "cell_type": "markdown",
      "source": [
        "***3. Realizar una prueba de normalidad sobre los datos originales y transformados***"
      ],
      "metadata": {
        "id": "bq0Cy6vJq9FO"
      }
    },
    {
      "cell_type": "code",
      "source": [
        "print(\"Datos originales\")\n",
        "statistic, pvalue = stats.shapiro(datos3)\n",
        "print(f\"statistic:\",statistic)\n",
        "print(f\"pvalue:\",pvalue)\n",
        "\n",
        "print(\"\\n\")\n",
        "print(\"Datos transformados\")\n",
        "statistic, pvalue = stats.shapiro(normalizados5)\n",
        "print(f\"statistic:\",statistic)\n",
        "print(f\"pvalue:\",pvalue)"
      ],
      "metadata": {
        "id": "QMZkwIvBrCn-",
        "colab": {
          "base_uri": "https://localhost:8080/"
        },
        "outputId": "63e352f0-4944-42fa-d0f9-9dbed1f7d840"
      },
      "execution_count": 35,
      "outputs": [
        {
          "output_type": "stream",
          "name": "stdout",
          "text": [
            "Datos originales\n",
            "statistic: 0.9537882927507031\n",
            "pvalue: 4.157526880078064e-37\n",
            "\n",
            "\n",
            "Datos transformados\n",
            "statistic: 0.9552347713242867\n",
            "pvalue: 1.200664099023234e-36\n"
          ]
        }
      ]
    },
    {
      "cell_type": "markdown",
      "source": [
        "***4. Graficar los datos originales y transformados utilizando matplotlib***"
      ],
      "metadata": {
        "id": "Du_QYOCqrC9_"
      }
    },
    {
      "cell_type": "code",
      "source": [
        "plt.figure(figsize=(12, 6))\n",
        "\n",
        "plt.subplot(1, 2, 1)\n",
        "plt.hist(datos3, bins=30, color='thistle', edgecolor='black')\n",
        "plt.title(\"Datos originales\")\n",
        "plt.ylabel('Frecuencia')\n",
        "\n",
        "plt.subplot(1, 2, 2)\n",
        "plt.hist(normalizados5, bins=30, color='skyblue', edgecolor='black')\n",
        "plt.title(\"Datos normalizados\")\n",
        "plt.ylabel('Frecuencia')\n",
        "\n",
        "plt.tight_layout()\n",
        "plt.show()"
      ],
      "metadata": {
        "id": "sWMmbbw4rHPL",
        "colab": {
          "base_uri": "https://localhost:8080/",
          "height": 607
        },
        "outputId": "e828fe48-df90-48fe-8a51-19df27eee10f"
      },
      "execution_count": 36,
      "outputs": [
        {
          "output_type": "display_data",
          "data": {
            "text/plain": [
              "<Figure size 1200x600 with 2 Axes>"
            ],
            "image/png": "[encoded data removed]"
          },
          "metadata": {}
        }
      ]
    },
    {
      "cell_type": "markdown",
      "source": [
        "***5. Responder las siguientes preguntas***\n",
        "\n",
        "*   **¿Cómo afectó la transformación Box-Cox a la distribución de los datos?**\n",
        "\n",
        "Redujo la asimetría de los datos orginales haciendo más similar a una distribución normal.\n",
        "\n",
        "*   **¿Qué interpretación tiene el valor lambda obtenido en la transformación Box-Cox?**\n",
        "\n",
        "El valor lambda obtenido en la transformación Box-Cox indica el tipo de transformación que se aplicó a los datos para lograr la normalidad.\n",
        "\n"
      ],
      "metadata": {
        "id": "M6H7Xa4MrIAM"
      }
    }
  ]
}