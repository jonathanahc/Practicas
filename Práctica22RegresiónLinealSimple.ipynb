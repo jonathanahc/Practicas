{
  "cells": [
    {
      "cell_type": "markdown",
      "metadata": {
        "id": "view-in-github",
        "colab_type": "text"
      },
      "source": [
        "<a href=\"https://colab.research.google.com/github/jonathanahc/Practicas/blob/main/Pr%C3%A1ctica22Regresi%C3%B3nLinealSimple.ipynb\" target=\"_parent\"><img src=\"https://colab.research.google.com/assets/colab-badge.svg\" alt=\"Open In Colab\"/></a>"
      ]
    },
    {
      "cell_type": "markdown",
      "id": "700f4b14",
      "metadata": {
        "id": "700f4b14"
      },
      "source": [
        "# Maestría en Inteligencia Artificial y Analítica de Datos\n",
        "\n",
        "## Programación para Analítica Descriptiva y Predictiva - Marzo 2025\n",
        "## Práctica: Regresión Lineal Simple con Scikit-Learn\n",
        "---\n",
        "\n",
        "\n",
        "## Datos del Estudiante\n",
        "\n",
        "*   Apellidos y Nombre: Herrera Castro Jonathan Adrian\n",
        "*   Matrícula: 255497\n",
        "\n",
        "---\n",
        "\n",
        "## Objetivo de aprendizaje\n",
        "Al finalizar esta práctica, el estudiante será capaz de **aplicar la regresión lineal simple utilizando Scikit-Learn para modelar la relación entre dos variables numéricas**, verificar los principales supuestos del modelo (linealidad, normalidad de residuos y homocedasticidad), **interpretar los coeficientes del modelo**, calcular e interpretar la **correlación entre variables** y evaluar el desempeño del modelo mediante métricas como el MSE, RMSE y R².\n",
        "\n",
        "\n",
        "Trabajarás con el archivo restaurantes.csv, que contiene dos columnas:\n",
        "\n",
        "- `poblation`: población de la ciudad (variable independiente). Tiene valores decimales mayores que cero. Estos valores representan la población de la ciudad multiplicada por 10,000. Por ejemplo, 6.1101 significa que la población de esa ciudad es 61,101.\n",
        "\n",
        "- `profit`: ganancia del restaurante en esa ciudad (variable dependiente). Tiene valores decimales, algunos negativos y otros positivos. Estos representan las ganancias mensuales promedio de su restaurante en cada ciudad, en unidades de $10,000. Por ejemplo, 17.592 representa 175,920 en ganancias mensuales promedio para esa ciudad. -2.6807 representa -26,807 en pérdidas mensuales promedio para esa ciudad.\n",
        "\n",
        "\n",
        "\n"
      ]
    },
    {
      "cell_type": "markdown",
      "id": "669474c7",
      "metadata": {
        "id": "669474c7"
      },
      "source": [
        "## 🔧 Parte 1: Carga de datos y bibliotecas\n",
        "1. Importa las bibliotecas necesarias.\n",
        "2. Carga el archivo `restaurantes.csv`\n",
        "3. Muestra las primeras filas del dataframe.\n",
        "4. Describe estadísticamente el conjunto de datos."
      ]
    },
    {
      "cell_type": "code",
      "execution_count": null,
      "id": "a4dde479",
      "metadata": {
        "id": "a4dde479"
      },
      "outputs": [],
      "source": [
        "# Escribe tu código aquí\n"
      ]
    },
    {
      "cell_type": "markdown",
      "id": "8bfdca52",
      "metadata": {
        "id": "8bfdca52"
      },
      "source": [
        "##  Parte 2: Análisis exploratorio y relación entre variables\n",
        "\n",
        "### 2.1 Diagrama de Dispersión\n",
        "1. Grafica un **diagrama de dispersión** entre `poblation` y `profit`\n",
        "2. Responde:  \n",
        "**¿La relación entre las variables parece lineal? ¿Por qué?**"
      ]
    },
    {
      "cell_type": "code",
      "execution_count": null,
      "id": "094918f1",
      "metadata": {
        "id": "094918f1"
      },
      "outputs": [],
      "source": [
        "# Diagrama de dispersión\n"
      ]
    },
    {
      "cell_type": "markdown",
      "id": "825e73ab",
      "metadata": {
        "id": "825e73ab"
      },
      "source": [
        "### 2.2: Cálculo e interpretación de la correlación\n",
        "1. Calcula e imprime el **coeficiente de correlación de Pearson** entre `poblation` y `profit`\n",
        "2. Interpreta el resultado:\n",
        "- ¿Qué tan fuerte es la relación?\n",
        "- ¿Es positiva o negativa?\n",
        "- ¿Es coherente con el gráfico anterior?"
      ]
    },
    {
      "cell_type": "code",
      "execution_count": null,
      "id": "dd87f634",
      "metadata": {
        "id": "dd87f634"
      },
      "outputs": [],
      "source": [
        "# Cálculo de correlación\n"
      ]
    },
    {
      "cell_type": "markdown",
      "id": "d1de51f7",
      "metadata": {
        "id": "d1de51f7"
      },
      "source": [
        "## Parte 3: Construcción del modelo, coeficientes y visualización\n",
        "\n",
        "###3.1 Construcción del modelo - obtención de los parámetros y coeficientes\n",
        "1. Construye un modelo de regresión lineal simple usando las bibliotecas de Scikit-Learn\n",
        "2. Imprime el intercepto y el coeficiente de la regresión (pendiente)\n",
        "3. Interpreta el Intercepto: ¿Qué significa en términos del contexto del problema?\n",
        "4. Interpreta el coeficiente de la regresión (pendiente) ¿Qué significa en términos del contexto del problema?"
      ]
    },
    {
      "cell_type": "code",
      "execution_count": null,
      "id": "e8988cdb",
      "metadata": {
        "id": "e8988cdb"
      },
      "outputs": [],
      "source": [
        "# Construcción del modelo  y Coeficientes del modelo\n"
      ]
    },
    {
      "cell_type": "markdown",
      "id": "ad94556c",
      "metadata": {
        "id": "ad94556c"
      },
      "source": [
        "### 3.2 Visualización del modelo\n",
        "1. Grafica los puntos originales (poblation vs profit) y dibuja la línea de regresión ajustada.\n",
        "2. Asegúrate de incluir leyenda y títulos."
      ]
    },
    {
      "cell_type": "code",
      "execution_count": null,
      "id": "49dbd303",
      "metadata": {
        "id": "49dbd303"
      },
      "outputs": [],
      "source": [
        "# Visualización del modelo ajustado\n"
      ]
    },
    {
      "cell_type": "markdown",
      "id": "073a73d4",
      "metadata": {
        "id": "073a73d4"
      },
      "source": [
        "## Parte 4: Supuestos del modelo de regresión lineal\n",
        "\n",
        "### 4.1. Normalidad de los residuos\n",
        "1. Calcula los residuos (reales - predichos).\n",
        "2. Grafica un **histograma con KDE** de los residuos.\n",
        "3. Responde: ¿Los residuos siguen una distribución normal?"
      ]
    },
    {
      "cell_type": "code",
      "execution_count": null,
      "id": "5bd20356",
      "metadata": {
        "id": "5bd20356"
      },
      "outputs": [],
      "source": [
        "# Normalidad de los residuos\n"
      ]
    },
    {
      "cell_type": "markdown",
      "id": "8aef2174",
      "metadata": {
        "id": "8aef2174"
      },
      "source": [
        "### 4.2. Homocedasticidad\n",
        "1. Grafica los residuos vs valores predichos.\n",
        "2. ¿Los residuos están distribuidos aleatoriamente o muestran un patrón?"
      ]
    },
    {
      "cell_type": "code",
      "execution_count": null,
      "id": "bcaa539c",
      "metadata": {
        "id": "bcaa539c"
      },
      "outputs": [],
      "source": [
        "# Gráfico de residuos vs predichos\n"
      ]
    },
    {
      "cell_type": "markdown",
      "source": [
        "### 4.3. Q-Q Plot para evaluar la normalidad\n",
        "1. Grafica el Q-Q Plot:.\n",
        "2. Interpreta el gráfico: a) Si los puntos se alinean aproximadamente sobre la línea diagonal, los residuos siguen una distribución normal y b) Desviaciones sistemáticas indican asimetría o colas pesadas."
      ],
      "metadata": {
        "id": "RPg6BDvPJEDm"
      },
      "id": "RPg6BDvPJEDm"
    },
    {
      "cell_type": "code",
      "source": [
        "# Q-Q Plot\n"
      ],
      "metadata": {
        "id": "FWq_n2rLJn8j"
      },
      "id": "FWq_n2rLJn8j",
      "execution_count": null,
      "outputs": []
    },
    {
      "cell_type": "markdown",
      "id": "d538c70c",
      "metadata": {
        "id": "d538c70c"
      },
      "source": [
        "## Parte 5: Evaluación del modelo\n",
        "1. Calcula las métricas:\n",
        "- MSE\n",
        "- RMSE\n",
        "- R²\n",
        "2. Interpreta: ¿Qué nos dicen sobre el ajuste del modelo?"
      ]
    },
    {
      "cell_type": "code",
      "execution_count": null,
      "id": "6a2e749d",
      "metadata": {
        "id": "6a2e749d"
      },
      "outputs": [],
      "source": [
        "# Evaluación del modelo\n"
      ]
    },
    {
      "cell_type": "markdown",
      "id": "d2ee2c3e",
      "metadata": {
        "id": "d2ee2c3e"
      },
      "source": [
        "## Parte 6: Conclusiones\n",
        "Responde con tus propias palabras:\n",
        "- ¿Qué tan útil consideras el modelo?\n",
        "- ¿Qué limitaciones encuentras?\n",
        "- ¿Crees que es necesario hacer un ajuste o estandarización a las variables dependientes o independientes?  Si crees que es necesario hacerlo realiza el ajuste."
      ]
    }
  ],
  "metadata": {
    "colab": {
      "provenance": [],
      "include_colab_link": true
    },
    "language_info": {
      "name": "python"
    },
    "kernelspec": {
      "name": "python3",
      "display_name": "Python 3"
    }
  },
  "nbformat": 4,
  "nbformat_minor": 5
}