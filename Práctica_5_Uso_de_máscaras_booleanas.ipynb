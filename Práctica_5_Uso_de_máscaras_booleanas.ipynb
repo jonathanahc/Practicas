{
  "nbformat": 4,
  "nbformat_minor": 0,
  "metadata": {
    "colab": {
      "provenance": [],
      "authorship_tag": "ABX9TyOE0xLNHQdkf/3e23RTQhJ3",
      "include_colab_link": true
    },
    "kernelspec": {
      "name": "python3",
      "display_name": "Python 3"
    },
    "language_info": {
      "name": "python"
    }
  },
  "cells": [
    {
      "cell_type": "markdown",
      "metadata": {
        "id": "view-in-github",
        "colab_type": "text"
      },
      "source": [
        "<a href=\"https://colab.research.google.com/github/jonathanahc/Practicas/blob/main/Pr%C3%A1ctica_5_Uso_de_m%C3%A1scaras_booleanas.ipynb\" target=\"_parent\"><img src=\"https://colab.research.google.com/assets/colab-badge.svg\" alt=\"Open In Colab\"/></a>"
      ]
    },
    {
      "cell_type": "code",
      "execution_count": 1,
      "metadata": {
        "colab": {
          "base_uri": "https://localhost:8080/"
        },
        "id": "LsVBBUZUgAXX",
        "outputId": "797d241b-f697-4a31-cf1d-720e8ff65127"
      },
      "outputs": [
        {
          "output_type": "stream",
          "name": "stdout",
          "text": [
            "Mounted at /content/drive\n"
          ]
        }
      ],
      "source": [
        "from google.colab import drive\n",
        "drive.mount('/content/drive')\n",
        "\n",
        "import numpy as np"
      ]
    },
    {
      "cell_type": "code",
      "source": [
        "# Crea un arreglo unidimensional con 15 números aleatorios entre 1 y 50\n",
        "\n",
        "arreglo = np.random.randint(1, 50, 15)\n",
        "print(arreglo)"
      ],
      "metadata": {
        "colab": {
          "base_uri": "https://localhost:8080/"
        },
        "id": "kkqwHr_3gU6o",
        "outputId": "cc051c16-0f5e-4c94-c232-72e356e07cdc"
      },
      "execution_count": 18,
      "outputs": [
        {
          "output_type": "stream",
          "name": "stdout",
          "text": [
            "[ 1  2 37 42 26 39 16 34 28 41 30 42 49 35 49]\n"
          ]
        }
      ]
    },
    {
      "cell_type": "code",
      "source": [
        "# 1. Selecciona los elementos mayores que 25 utilizando una máscara booleana\n",
        "\n",
        "mascara = arreglo > 25\n",
        "valores = arreglo[mascara]\n",
        "print(valores)"
      ],
      "metadata": {
        "colab": {
          "base_uri": "https://localhost:8080/"
        },
        "id": "AmMkv9E9gphq",
        "outputId": "d9659768-b926-4ec2-c479-a73a8d516fc5"
      },
      "execution_count": 19,
      "outputs": [
        {
          "output_type": "stream",
          "name": "stdout",
          "text": [
            "[37 42 26 39 34 28 41 30 42 49 35 49]\n"
          ]
        }
      ]
    },
    {
      "cell_type": "code",
      "source": [
        "# 2. Cuenta cuántos elementos son mayores que 25\n",
        "\n",
        "mascara = arreglo > 25\n",
        "valores = np.count_nonzero(arreglo[mascara])\n",
        "print(valores)"
      ],
      "metadata": {
        "colab": {
          "base_uri": "https://localhost:8080/"
        },
        "id": "iK0e6ROtif5l",
        "outputId": "0520c027-9fbf-4138-e3a1-d8da91d9a5a3"
      },
      "execution_count": 20,
      "outputs": [
        {
          "output_type": "stream",
          "name": "stdout",
          "text": [
            "12\n"
          ]
        }
      ]
    }
  ]
}