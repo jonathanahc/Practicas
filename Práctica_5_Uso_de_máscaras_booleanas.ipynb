{
  "nbformat": 4,
  "nbformat_minor": 0,
  "metadata": {
    "colab": {
      "provenance": [],
      "authorship_tag": "ABX9TyOE0xLNHQdkf/3e23RTQhJ3",
      "include_colab_link": true
    },
    "kernelspec": {
      "name": "python3",
      "display_name": "Python 3"
    },
    "language_info": {
      "name": "python"
    }
  },
  "cells": [
    {
      "cell_type": "markdown",
      "metadata": {
        "id": "view-in-github",
        "colab_type": "text"
      },
      "source": [
        "<a href=\"https://colab.research.google.com/github/jonathanahc/Practicas/blob/main/Pr%C3%A1ctica_5_Uso_de_m%C3%A1scaras_booleanas.ipynb\" target=\"_parent\"><img src=\"https://colab.research.google.com/assets/colab-badge.svg\" alt=\"Open In Colab\"/></a>"
      ]
    },
    {
      "cell_type": "code",
      "execution_count": null,
      "metadata": {
        "id": "LsVBBUZUgAXX"
      },
      "outputs": [],
      "source": [
        "from google.colab import drive\n",
        "drive.mount('/content/drive')\n",
        "\n",
        "import numpy as np"
      ]
    },
    {
      "cell_type": "code",
      "source": [
        "# Crea un arreglo unidimensional con 15 números aleatorios entre 1 y 50\n",
        "\n",
        "arreglo = np.random.randint(1, 50, 15)\n",
        "print(arreglo)"
      ],
      "metadata": {
        "id": "kkqwHr_3gU6o"
      },
      "execution_count": null,
      "outputs": []
    },
    {
      "cell_type": "code",
      "source": [
        "# 1. Selecciona los elementos mayores que 25 utilizando una máscara booleana\n",
        "\n",
        "mascara = arreglo > 25\n",
        "valores = arreglo[mascara]\n",
        "print(valores)"
      ],
      "metadata": {
        "id": "AmMkv9E9gphq"
      },
      "execution_count": null,
      "outputs": []
    },
    {
      "cell_type": "code",
      "source": [
        "# 2. Cuenta cuántos elementos son mayores que 25\n",
        "\n",
        "mascara = arreglo > 25\n",
        "valores = np.count_nonzero(arreglo[mascara])\n",
        "print(valores)"
      ],
      "metadata": {
        "id": "iK0e6ROtif5l"
      },
      "execution_count": null,
      "outputs": []
    }
  ]
}