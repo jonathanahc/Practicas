{
  "nbformat": 4,
  "nbformat_minor": 0,
  "metadata": {
    "colab": {
      "provenance": [],
      "authorship_tag": "ABX9TyNcb/iOsOhMxOgExVmRETBV",
      "include_colab_link": true
    },
    "kernelspec": {
      "name": "python3",
      "display_name": "Python 3"
    },
    "language_info": {
      "name": "python"
    }
  },
  "cells": [
    {
      "cell_type": "markdown",
      "metadata": {
        "id": "view-in-github",
        "colab_type": "text"
      },
      "source": [
        "<a href=\"https://colab.research.google.com/github/jonathanahc/Practicas/blob/main/Pr%C3%A1ctica_5_Uso_de_m%C3%A1scaras_booleanas.ipynb\" target=\"_parent\"><img src=\"https://colab.research.google.com/assets/colab-badge.svg\" alt=\"Open In Colab\"/></a>"
      ]
    },
    {
      "cell_type": "code",
      "execution_count": 1,
      "metadata": {
        "id": "LsVBBUZUgAXX",
        "outputId": "6c1bb554-5cf4-49ad-facf-30c4910e42ee",
        "colab": {
          "base_uri": "https://localhost:8080/"
        }
      },
      "outputs": [
        {
          "output_type": "stream",
          "name": "stdout",
          "text": [
            "Mounted at /content/drive\n"
          ]
        }
      ],
      "source": [
        "from google.colab import drive\n",
        "drive.mount('/content/drive')\n",
        "\n",
        "import numpy as np"
      ]
    },
    {
      "cell_type": "markdown",
      "source": [
        "**Crea un arreglo unidimensional con 15 números aleatorios entre 1 y 50**"
      ],
      "metadata": {
        "id": "mJk5s079onDS"
      }
    },
    {
      "cell_type": "code",
      "source": [
        "arreglo = np.random.randint(1, 50, 15)\n",
        "print(arreglo)"
      ],
      "metadata": {
        "id": "kkqwHr_3gU6o",
        "outputId": "dbc2fe8a-38a2-4613-8497-acb63ac0aa3b",
        "colab": {
          "base_uri": "https://localhost:8080/"
        }
      },
      "execution_count": 2,
      "outputs": [
        {
          "output_type": "stream",
          "name": "stdout",
          "text": [
            "[22 21 27 41 39  1 33  8 40  2 26 36 10 32 25]\n"
          ]
        }
      ]
    },
    {
      "cell_type": "markdown",
      "source": [
        "**Selecciona los elementos mayores que 25 utilizando una máscara booleana**"
      ],
      "metadata": {
        "id": "_gotE9R1ougN"
      }
    },
    {
      "cell_type": "code",
      "source": [
        "mascara = arreglo > 25\n",
        "valores = arreglo[mascara]\n",
        "print(valores)"
      ],
      "metadata": {
        "id": "AmMkv9E9gphq",
        "outputId": "459cf2ca-20e3-4a24-c072-647ab8c580e4",
        "colab": {
          "base_uri": "https://localhost:8080/"
        }
      },
      "execution_count": 3,
      "outputs": [
        {
          "output_type": "stream",
          "name": "stdout",
          "text": [
            "[27 41 39 33 40 26 36 32]\n"
          ]
        }
      ]
    },
    {
      "cell_type": "markdown",
      "source": [
        "**Cuenta cuántos elementos son mayores que 25**"
      ],
      "metadata": {
        "id": "ZYocTHMBo04H"
      }
    },
    {
      "cell_type": "code",
      "source": [
        "mascara = arreglo > 25\n",
        "valores = np.count_nonzero(arreglo[mascara])\n",
        "print(valores)"
      ],
      "metadata": {
        "id": "iK0e6ROtif5l",
        "outputId": "f06aa757-cec9-48ea-a8ef-0b151f70291d",
        "colab": {
          "base_uri": "https://localhost:8080/"
        }
      },
      "execution_count": 4,
      "outputs": [
        {
          "output_type": "stream",
          "name": "stdout",
          "text": [
            "8\n"
          ]
        }
      ]
    }
  ]
}